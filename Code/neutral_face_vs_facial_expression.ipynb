{
 "cells": [
  {
   "cell_type": "code",
   "execution_count": 1,
   "id": "c7ae075b-f1dd-412d-bd95-8de8607f81a0",
   "metadata": {},
   "outputs": [],
   "source": [
    "import scipy.io\n",
    "import numpy as np\n",
    "import pandas as pd\n",
    "import matplotlib.pyplot as plt"
   ]
  },
  {
   "cell_type": "code",
   "execution_count": 2,
   "id": "39cd5253-b281-4864-b436-896144db9f8d",
   "metadata": {},
   "outputs": [
    {
     "data": {
      "text/plain": [
       "(24, 21, 600)"
      ]
     },
     "execution_count": 2,
     "metadata": {},
     "output_type": "execute_result"
    }
   ],
   "source": [
    "data_mat = scipy.io.loadmat('./Data/data.mat')\n",
    "face_raw = data_mat['face']\n",
    "face_raw.shape"
   ]
  },
  {
   "cell_type": "code",
   "execution_count": 3,
   "id": "04f5ced1-2392-4e69-8c99-c6fc29068c1d",
   "metadata": {},
   "outputs": [],
   "source": [
    "'''\n",
    "image shape: 24 x 21\n",
    "image types: neutral face, facial expression, illumination variations\n",
    "people: 200 subjects\n",
    "'''\n",
    "face = face_raw.reshape(24, 21, 200, 3) # image shape x image types x people\n",
    "neutral_face = face[:, :, :, 0]\n",
    "facial_expression = face[:, :, :, 1]\n",
    "illumination = face[:, :, :, 2]"
   ]
  },
  {
   "cell_type": "code",
   "execution_count": 4,
   "id": "fc581c08-2e84-452f-9240-29cbc4802540",
   "metadata": {},
   "outputs": [
    {
     "data": {
      "text/plain": [
       "<matplotlib.image.AxesImage at 0x7f2877f8ccd0>"
      ]
     },
     "execution_count": 4,
     "metadata": {},
     "output_type": "execute_result"
    },
    {
     "data": {
      "image/png": "[encoded data removed]",
      "text/plain": [
       "<Figure size 432x288 with 3 Axes>"
      ]
     },
     "metadata": {
      "needs_background": "light"
     },
     "output_type": "display_data"
    },
    {
     "data": {
      "image/png": "[encoded data removed]",
      "text/plain": [
       "<Figure size 432x288 with 3 Axes>"
      ]
     },
     "metadata": {
      "needs_background": "light"
     },
     "output_type": "display_data"
    }
   ],
   "source": [
    "%matplotlib inline\n",
    "subject = 7\n",
    "fig = plt.figure()\n",
    "ax = fig.add_subplot(1, 3, 1)\n",
    "ax.set_title('Neutral Face')\n",
    "plt.imshow(neutral_face[:, :, subject])\n",
    "ax = fig.add_subplot(1, 3, 2)\n",
    "ax.set_title('Facial Expression')\n",
    "plt.imshow(facial_expression[:, :, subject])\n",
    "ax = fig.add_subplot(1, 3, 3)\n",
    "ax.set_title('Illumination')\n",
    "plt.imshow(illumination[:, :, subject])\n",
    "\n",
    "subject = 30\n",
    "fig2 = plt.figure()\n",
    "ax = fig2.add_subplot(1, 3, 1)\n",
    "ax.set_title('Neutral Face')\n",
    "plt.imshow(neutral_face[:, :, subject])\n",
    "ax = fig2.add_subplot(1, 3, 2)\n",
    "ax.set_title('Facial Expression')\n",
    "plt.imshow(facial_expression[:, :, subject])\n",
    "ax = fig2.add_subplot(1, 3, 3)\n",
    "ax.set_title('Illumination')\n",
    "plt.imshow(illumination[:, :, subject])"
   ]
  },
  {
   "cell_type": "markdown",
   "id": "9f1a2a8e-b37b-4bac-b061-7a8e395d9356",
   "metadata": {},
   "source": [
    "# Neutral Face vs. Facial Expression"
   ]
  },
  {
   "cell_type": "code",
   "execution_count": 5,
   "id": "3933963c-a923-4b70-83b6-9c57976dfe7e",
   "metadata": {},
   "outputs": [],
   "source": [
    "# Flatten the images\n",
    "neutral_face_flatten = neutral_face.reshape(24 * 21, -1)\n",
    "facial_expression_flatten = facial_expression.reshape(24 * 21, -1)"
   ]
  },
  {
   "cell_type": "code",
   "execution_count": 6,
   "id": "14ccbc25-74b2-45f3-8ad0-6b6e0b4c1293",
   "metadata": {},
   "outputs": [],
   "source": [
    "def train_test_split(data, ratio=0.8):\n",
    "    # N is the size data\n",
    "    # D is the dimension of feature\n",
    "    N, D = data.shape\n",
    "    train = data[:int(N * 0.8), :]\n",
    "    test = data[int(N * 0.8):, :]\n",
    "    return train, test"
   ]
  },
  {
   "cell_type": "code",
   "execution_count": 7,
   "id": "4b4c8661-2846-4962-8dd0-ee50d60dd85d",
   "metadata": {},
   "outputs": [
    {
     "name": "stdout",
     "output_type": "stream",
     "text": [
      "neutral face training data shape:  (160, 504)\n",
      "neutral face testing data shape:  (40, 504)\n",
      "facial expression training data shape:  (160, 504)\n",
      "facial expression testing data shape:  (40, 504)\n",
      "total training data shape:  (320, 504)\n",
      "total testing data shape:  (80, 504)\n",
      "training label shape:  (320,)\n",
      "testing label shape:  (80,)\n"
     ]
    }
   ],
   "source": [
    "# Split data into training data and testing data\n",
    "# Splited data has the shape N, D\n",
    "# where N is the size data, and D is the dimension of feature\n",
    "\n",
    "# label neutral face as 0\n",
    "# label facial expression as 1\n",
    "\n",
    "nf_train, nf_test = train_test_split(neutral_face_flatten.T)\n",
    "N, D = nf_train.shape\n",
    "nf_train_label = np.zeros(N) \n",
    "N, D = nf_test.shape\n",
    "nf_test_label = np.zeros(N) \n",
    "\n",
    "fe_train, fe_test = train_test_split(facial_expression_flatten.T)\n",
    "N, D = fe_train.shape\n",
    "fe_train_label = np.ones(N) \n",
    "N, D = fe_test.shape\n",
    "fe_test_label = np.ones(N) \n",
    "\n",
    "train = np.vstack((nf_train, fe_train))\n",
    "test = np.vstack((nf_test, fe_test))\n",
    "train_label = np.hstack((nf_train_label, fe_train_label))\n",
    "test_label = np.hstack((nf_test_label, fe_test_label))\n",
    "print(\"neutral face training data shape: \", nf_train.shape)\n",
    "print(\"neutral face testing data shape: \", nf_test.shape)\n",
    "print(\"facial expression training data shape: \", fe_train.shape)\n",
    "print(\"facial expression testing data shape: \", fe_test.shape)\n",
    "print(\"total training data shape: \", train.shape)\n",
    "print(\"total testing data shape: \", test.shape)\n",
    "print(\"training label shape: \", train_label.shape)\n",
    "print(\"testing label shape: \", test_label.shape)"
   ]
  },
  {
   "cell_type": "markdown",
   "id": "59b8e346-b762-4817-87cc-b232d3f33a39",
   "metadata": {},
   "source": [
    "## Bayesian Classifier"
   ]
  },
  {
   "cell_type": "code",
   "execution_count": 8,
   "id": "ec618078-819d-4eb7-aade-604b83e75eab",
   "metadata": {},
   "outputs": [
    {
     "name": "stdout",
     "output_type": "stream",
     "text": [
      "nf mean shape:  (504,)\n",
      "nf cov shape:  (504, 504)\n",
      "fe mean shape:  (504,)\n",
      "fe cov shape:  (504, 504)\n"
     ]
    }
   ],
   "source": [
    "# Estimate Likelihood (Gaussian)\n",
    "## ML estimate of mean and covarinace matrix\n",
    "nf_mean = np.mean(nf_train, axis=0)\n",
    "print(\"nf mean shape: \", nf_mean.shape)\n",
    "nf_cov = np.cov(nf_train.T)\n",
    "print(\"nf cov shape: \", nf_cov.shape)\n",
    "\n",
    "fe_mean = np.mean(fe_train, axis=0)\n",
    "print(\"fe mean shape: \", fe_mean.shape)\n",
    "fe_cov = np.cov(fe_train.T)\n",
    "print(\"fe cov shape: \", fe_cov.shape)"
   ]
  },
  {
   "cell_type": "code",
   "execution_count": 9,
   "id": "673469d7-18ce-4819-a13f-09d6460bf9dd",
   "metadata": {},
   "outputs": [
    {
     "data": {
      "text/plain": [
       "<matplotlib.image.AxesImage at 0x7f2875ac9d60>"
      ]
     },
     "execution_count": 9,
     "metadata": {},
     "output_type": "execute_result"
    },
    {
     "data": {
      "image/png": "[encoded data removed]",
      "text/plain": [
       "<Figure size 432x288 with 2 Axes>"
      ]
     },
     "metadata": {
      "needs_background": "light"
     },
     "output_type": "display_data"
    }
   ],
   "source": [
    "%matplotlib inline\n",
    "subject = 7\n",
    "fig = plt.figure()\n",
    "ax = fig.add_subplot(1, 2, 1)\n",
    "ax.set_title('Average Neutral Face')\n",
    "plt.imshow(nf_mean.reshape((24, 21)))\n",
    "ax = fig.add_subplot(1, 2, 2)\n",
    "ax.set_title('Average Facial Expression')\n",
    "plt.imshow(fe_mean.reshape((24, 21)))"
   ]
  },
  {
   "cell_type": "code",
   "execution_count": 10,
   "id": "af86262f-f6aa-4f09-adcb-0d40ea5c4434",
   "metadata": {},
   "outputs": [],
   "source": [
    "from scipy.stats import multivariate_normal\n",
    "\n",
    "# Likelihood (Gaussian)\n",
    "nf_ml_likelihood = lambda x: multivariate_normal.pdf(x, nf_mean, nf_cov, True)\n",
    "fe_ml_likelihood = lambda x: multivariate_normal.pdf(x, fe_mean, fe_cov, True)\n",
    "\n",
    "# Prior\n",
    "nf_prior = (nf_train.shape[0]) / train.shape[0]\n",
    "fe_prior = (fe_train.shape[0]) / train.shape[0]\n",
    "\n",
    "# Posterior \n",
    "nf_posterior = lambda x: nf_ml_likelihood(x) * nf_prior\n",
    "fe_posterior = lambda x: fe_ml_likelihood(x) * fe_prior"
   ]
  },
  {
   "cell_type": "code",
   "execution_count": 11,
   "id": "b338c180-f851-493c-b846-d71fb89c456b",
   "metadata": {},
   "outputs": [],
   "source": [
    "def bayes_classifier(data, label, p1, p2):\n",
    "    \"\"\"\n",
    "    data has shape of (N, D) where \n",
    "    N is the number of data, and D is the dimension of feature\n",
    "    \n",
    "    label is either 0 or 1\n",
    "    0 is neutral face\n",
    "    1 is facial expression\n",
    "    \n",
    "    p1 is the posterior probability for class 1\n",
    "    p2 is the posterior probability for class 2\n",
    "    \"\"\"\n",
    "    nf_posterior = p1\n",
    "    fe_posterior = p2\n",
    "    \n",
    "    num_correct = 0\n",
    "    correct_idxs = []\n",
    "    for i in range(data.shape[0]):\n",
    "        target = data[i]\n",
    "        nf_prob = nf_posterior(target)\n",
    "        fe_prob = fe_posterior(target)\n",
    "        if label == 0:\n",
    "            if (nf_prob > fe_prob):\n",
    "                num_correct += 1\n",
    "                correct_idxs.append(i)\n",
    "        else:\n",
    "            if (nf_prob < fe_prob):\n",
    "                num_correct += 1\n",
    "                correct_idxs.append(i)\n",
    "    return num_correct, correct_idxs"
   ]
  },
  {
   "cell_type": "code",
   "execution_count": 12,
   "id": "9cb87cf0-0bc9-4495-a0ff-38e1386c261d",
   "metadata": {},
   "outputs": [
    {
     "name": "stdout",
     "output_type": "stream",
     "text": [
      "CPU times: user 17min 43s, sys: 54min 23s, total: 1h 12min 6s\n",
      "Wall time: 4min 32s\n"
     ]
    }
   ],
   "source": [
    "%%time\n",
    "# Train Evaluation\n",
    "nf_train_correct, nf_train_correct_idxs = bayes_classifier(nf_train, 0, nf_posterior, fe_posterior)\n",
    "nf_train_error = nf_train.shape[0] - nf_train_correct\n",
    "fe_train_correct, fe_train_correct_idxs = bayes_classifier(fe_train, 1, nf_posterior, fe_posterior)\n",
    "fe_train_error = fe_train.shape[0] - fe_train_correct"
   ]
  },
  {
   "cell_type": "code",
   "execution_count": 13,
   "id": "e53ab819-b0b9-4a43-ab0a-070ebf362e64",
   "metadata": {},
   "outputs": [
    {
     "name": "stdout",
     "output_type": "stream",
     "text": [
      "CPU times: user 3min 48s, sys: 11min 27s, total: 15min 16s\n",
      "Wall time: 57.3 s\n",
      "Compiler : 160 ms\n"
     ]
    }
   ],
   "source": [
    "%%time\n",
    "# Test Evaluation\n",
    "nf_test_correct, nf_test_correct_idxs = bayes_classifier(nf_test, 0, nf_posterior, fe_posterior)\n",
    "nf_test_error = nf_test.shape[0] - nf_test_correct\n",
    "fe_test_correct, fe_test_correct_idxs = bayes_classifier(fe_test, 1, nf_posterior, fe_posterior)\n",
    "fe_test_error = fe_test.shape[0] - fe_test_correct"
   ]
  },
  {
   "cell_type": "code",
   "execution_count": 14,
   "id": "5340f7e8-758b-4502-80db-c9781243c857",
   "metadata": {},
   "outputs": [
    {
     "name": "stdout",
     "output_type": "stream",
     "text": [
      "Total train accuracy:  0.884375\n"
     ]
    },
    {
     "data": {
      "text/html": [
       "<div>\n",
       "<style scoped>\n",
       "    .dataframe tbody tr th:only-of-type {\n",
       "        vertical-align: middle;\n",
       "    }\n",
       "\n",
       "    .dataframe tbody tr th {\n",
       "        vertical-align: top;\n",
       "    }\n",
       "\n",
       "    .dataframe thead th {\n",
       "        text-align: right;\n",
       "    }\n",
       "</style>\n",
       "<table border=\"1\" class=\"dataframe\">\n",
       "  <thead>\n",
       "    <tr style=\"text-align: right;\">\n",
       "      <th></th>\n",
       "      <th>Neutral Face</th>\n",
       "      <th>Facial Expression</th>\n",
       "    </tr>\n",
       "  </thead>\n",
       "  <tbody>\n",
       "    <tr>\n",
       "      <th>Predict 0</th>\n",
       "      <td>140</td>\n",
       "      <td>17</td>\n",
       "    </tr>\n",
       "    <tr>\n",
       "      <th>Predict 1</th>\n",
       "      <td>20</td>\n",
       "      <td>143</td>\n",
       "    </tr>\n",
       "  </tbody>\n",
       "</table>\n",
       "</div>"
      ],
      "text/plain": [
       "           Neutral Face  Facial Expression\n",
       "Predict 0           140                 17\n",
       "Predict 1            20                143"
      ]
     },
     "metadata": {},
     "output_type": "display_data"
    },
    {
     "data": {
      "text/html": [
       "<div>\n",
       "<style scoped>\n",
       "    .dataframe tbody tr th:only-of-type {\n",
       "        vertical-align: middle;\n",
       "    }\n",
       "\n",
       "    .dataframe tbody tr th {\n",
       "        vertical-align: top;\n",
       "    }\n",
       "\n",
       "    .dataframe thead th {\n",
       "        text-align: right;\n",
       "    }\n",
       "</style>\n",
       "<table border=\"1\" class=\"dataframe\">\n",
       "  <thead>\n",
       "    <tr style=\"text-align: right;\">\n",
       "      <th></th>\n",
       "      <th>Neutral Face</th>\n",
       "      <th>Facial Expression</th>\n",
       "    </tr>\n",
       "  </thead>\n",
       "  <tbody>\n",
       "    <tr>\n",
       "      <th>Precision</th>\n",
       "      <td>0.875</td>\n",
       "      <td>0.89375</td>\n",
       "    </tr>\n",
       "  </tbody>\n",
       "</table>\n",
       "</div>"
      ],
      "text/plain": [
       "           Neutral Face  Facial Expression\n",
       "Precision         0.875            0.89375"
      ]
     },
     "metadata": {},
     "output_type": "display_data"
    },
    {
     "name": "stdout",
     "output_type": "stream",
     "text": [
      "\n",
      "Example images\n"
     ]
    },
    {
     "data": {
      "text/plain": [
       "<matplotlib.image.AxesImage at 0x7f284c05ba30>"
      ]
     },
     "execution_count": 14,
     "metadata": {},
     "output_type": "execute_result"
    },
    {
     "data": {
      "image/png": "[encoded data removed]",
      "text/plain": [
       "<Figure size 432x288 with 2 Axes>"
      ]
     },
     "metadata": {
      "needs_background": "light"
     },
     "output_type": "display_data"
    },
    {
     "data": {
      "image/png": "[encoded data removed]",
      "text/plain": [
       "<Figure size 432x288 with 2 Axes>"
      ]
     },
     "metadata": {
      "needs_background": "light"
     },
     "output_type": "display_data"
    }
   ],
   "source": [
    "# Train accuracy\n",
    "print(\"Total train accuracy: \", (nf_train_correct + fe_train_correct) / train.shape[0])\n",
    "\n",
    "## Create truth table\n",
    "train_acc_table = np.array([[nf_train_correct, fe_train_error], \n",
    "                            [nf_train_error, fe_train_correct]])\n",
    "train_acc_df = pd.DataFrame(train_acc_table, columns = ['Neutral Face','Facial Expression'])\n",
    "train_acc_df = train_acc_df.rename(index={0:'Predict 0', 1:'Predict 1'})\n",
    "display(train_acc_df)\n",
    "\n",
    "nf_precision = nf_train_correct / nf_train.shape[0]\n",
    "fe_precision = fe_train_correct / fe_train.shape[0]\n",
    "precision_table = np.array([[nf_precision, fe_precision]])\n",
    "precision_df = pd.DataFrame(precision_table, columns = ['Neutral Face','Facial Expression'])\n",
    "precision_df = precision_df.rename(index={0:'Precision'})\n",
    "display(precision_df)\n",
    "\n",
    "\n",
    "## Calculate false example\n",
    "nf_train_correct_idxs_set = set(nf_train_correct_idxs)\n",
    "nf_error_idx = -1\n",
    "for i in range(nf_train.shape[0]):\n",
    "    if not i in nf_train_correct_idxs_set:\n",
    "        nf_error_idx = i\n",
    "        break\n",
    "\n",
    "fe_train_correct_idxs_set = set(fe_train_correct_idxs)\n",
    "fe_error_idx = -1\n",
    "for i in range(fe_train.shape[0]):\n",
    "    if not i in fe_train_correct_idxs_set:\n",
    "        fe_error_idx = i\n",
    "        break\n",
    "      \n",
    "print(\"\")\n",
    "print(\"Example images\")\n",
    "%matplotlib inline\n",
    "subject = 7\n",
    "fig = plt.figure()\n",
    "ax = fig.add_subplot(1, 2, 1)\n",
    "ax.set_title('True Neutral Face')\n",
    "plt.imshow(nf_train[nf_train_correct_idxs[0]].reshape((24, 21)))\n",
    "\n",
    "ax = fig.add_subplot(1, 2, 2)\n",
    "ax.set_title('False Facial Expression')\n",
    "plt.imshow(fe_train[fe_error_idx].reshape((24, 21)))\n",
    "\n",
    "fig2 = plt.figure()\n",
    "ax = fig2.add_subplot(1, 2, 1)\n",
    "ax.set_title('False Neutral Face')\n",
    "plt.imshow(nf_train[nf_error_idx].reshape((24, 21)))\n",
    "\n",
    "ax = fig2.add_subplot(1, 2, 2)\n",
    "ax.set_title('True Facial Expression')\n",
    "plt.imshow(fe_train[fe_train_correct_idxs[0]].reshape((24, 21)))"
   ]
  },
  {
   "cell_type": "code",
   "execution_count": 15,
   "id": "0823816b-877e-4840-84f7-d99aba41599a",
   "metadata": {},
   "outputs": [
    {
     "name": "stdout",
     "output_type": "stream",
     "text": [
      "Total test accuracy:  0.75\n"
     ]
    },
    {
     "data": {
      "text/html": [
       "<div>\n",
       "<style scoped>\n",
       "    .dataframe tbody tr th:only-of-type {\n",
       "        vertical-align: middle;\n",
       "    }\n",
       "\n",
       "    .dataframe tbody tr th {\n",
       "        vertical-align: top;\n",
       "    }\n",
       "\n",
       "    .dataframe thead th {\n",
       "        text-align: right;\n",
       "    }\n",
       "</style>\n",
       "<table border=\"1\" class=\"dataframe\">\n",
       "  <thead>\n",
       "    <tr style=\"text-align: right;\">\n",
       "      <th></th>\n",
       "      <th>Neutral Face</th>\n",
       "      <th>Facial Expression</th>\n",
       "    </tr>\n",
       "  </thead>\n",
       "  <tbody>\n",
       "    <tr>\n",
       "      <th>Predict 0</th>\n",
       "      <td>27</td>\n",
       "      <td>7</td>\n",
       "    </tr>\n",
       "    <tr>\n",
       "      <th>Predict 1</th>\n",
       "      <td>13</td>\n",
       "      <td>33</td>\n",
       "    </tr>\n",
       "  </tbody>\n",
       "</table>\n",
       "</div>"
      ],
      "text/plain": [
       "           Neutral Face  Facial Expression\n",
       "Predict 0            27                  7\n",
       "Predict 1            13                 33"
      ]
     },
     "metadata": {},
     "output_type": "display_data"
    },
    {
     "data": {
      "text/html": [
       "<div>\n",
       "<style scoped>\n",
       "    .dataframe tbody tr th:only-of-type {\n",
       "        vertical-align: middle;\n",
       "    }\n",
       "\n",
       "    .dataframe tbody tr th {\n",
       "        vertical-align: top;\n",
       "    }\n",
       "\n",
       "    .dataframe thead th {\n",
       "        text-align: right;\n",
       "    }\n",
       "</style>\n",
       "<table border=\"1\" class=\"dataframe\">\n",
       "  <thead>\n",
       "    <tr style=\"text-align: right;\">\n",
       "      <th></th>\n",
       "      <th>Neutral Face</th>\n",
       "      <th>Facial Expression</th>\n",
       "    </tr>\n",
       "  </thead>\n",
       "  <tbody>\n",
       "    <tr>\n",
       "      <th>Precision</th>\n",
       "      <td>0.675</td>\n",
       "      <td>0.825</td>\n",
       "    </tr>\n",
       "  </tbody>\n",
       "</table>\n",
       "</div>"
      ],
      "text/plain": [
       "           Neutral Face  Facial Expression\n",
       "Precision         0.675              0.825"
      ]
     },
     "metadata": {},
     "output_type": "display_data"
    },
    {
     "name": "stdout",
     "output_type": "stream",
     "text": [
      "\n",
      "Example images\n"
     ]
    },
    {
     "data": {
      "text/plain": [
       "<matplotlib.image.AxesImage at 0x7f284bf17490>"
      ]
     },
     "execution_count": 15,
     "metadata": {},
     "output_type": "execute_result"
    },
    {
     "data": {
      "image/png": "[encoded data removed]",
      "text/plain": [
       "<Figure size 432x288 with 2 Axes>"
      ]
     },
     "metadata": {
      "needs_background": "light"
     },
     "output_type": "display_data"
    },
    {
     "data": {
      "image/png": "[encoded data removed]",
      "text/plain": [
       "<Figure size 432x288 with 2 Axes>"
      ]
     },
     "metadata": {
      "needs_background": "light"
     },
     "output_type": "display_data"
    }
   ],
   "source": [
    "# Test accuracy\n",
    "print(\"Total test accuracy: \", (nf_test_correct + fe_test_correct) / test.shape[0])\n",
    "\n",
    "test_acc_table = np.array([[nf_test_correct, fe_test_error], \n",
    "                            [nf_test_error, fe_test_correct]])\n",
    "test_acc_df = pd.DataFrame(test_acc_table, columns = ['Neutral Face','Facial Expression'])\n",
    "test_acc_df = test_acc_df.rename(index={0: 'Predict 0', 1:'Predict 1'})\n",
    "display(test_acc_df)\n",
    "\n",
    "nf_precision = nf_test_correct / nf_test.shape[0]\n",
    "fe_precision = fe_test_correct / fe_test.shape[0]\n",
    "precision_table = np.array([[nf_precision, fe_precision]])\n",
    "precision_df = pd.DataFrame(precision_table, columns = ['Neutral Face','Facial Expression'])\n",
    "precision_df = precision_df.rename(index={0:'Precision'})\n",
    "display(precision_df)\n",
    "\n",
    "## Calculate false example\n",
    "nf_test_correct_idxs_set = set(nf_test_correct_idxs)\n",
    "nf_error_idx = -1\n",
    "for i in range(nf_test.shape[0]):\n",
    "    if not i in nf_test_correct_idxs_set:\n",
    "        nf_error_idx = i\n",
    "        break\n",
    "\n",
    "fe_test_correct_idxs_set = set(fe_test_correct_idxs)\n",
    "fe_error_idx = -1\n",
    "for i in range(fe_test.shape[0]):\n",
    "    if not i in fe_test_correct_idxs_set:\n",
    "        fe_error_idx = i\n",
    "        break\n",
    "      \n",
    "print(\"\")\n",
    "print(\"Example images\")\n",
    "%matplotlib inline\n",
    "subject = 7\n",
    "fig = plt.figure()\n",
    "ax = fig.add_subplot(1, 2, 1)\n",
    "ax.set_title('True Neutral Face')\n",
    "plt.imshow(nf_test[nf_test_correct_idxs[0]].reshape((24, 21)))\n",
    "\n",
    "ax = fig.add_subplot(1, 2, 2)\n",
    "ax.set_title('False Facial Expression')\n",
    "plt.imshow(fe_test[fe_error_idx].reshape((24, 21)))\n",
    "\n",
    "fig2 = plt.figure()\n",
    "ax = fig2.add_subplot(1, 2, 1)\n",
    "ax.set_title('False Neutral Face')\n",
    "plt.imshow(nf_test[nf_error_idx].reshape((24, 21)))\n",
    "\n",
    "ax = fig2.add_subplot(1, 2, 2)\n",
    "ax.set_title('True Facial Expression')\n",
    "plt.imshow(fe_test[fe_test_correct_idxs[0]].reshape((24, 21)))"
   ]
  },
  {
   "cell_type": "markdown",
   "id": "06f40768-6213-4603-a3c7-c7f54daac82e",
   "metadata": {},
   "source": [
    "## K Nearest Neighbor"
   ]
  },
  {
   "cell_type": "code",
   "execution_count": 16,
   "id": "7c9a28f0-20d2-4ba2-a5c4-609d0ca8d9f4",
   "metadata": {},
   "outputs": [],
   "source": [
    "def knn(train_data, train_label, target, k=1):\n",
    "    \"\"\"\n",
    "    data has shape (N, D) \n",
    "    where N is the number of data\n",
    "    and D is the dimension of feature\n",
    "    \n",
    "    k is the k in knn. It is a odd number\n",
    "    \"\"\"\n",
    "    assert k%2 != 0, \"k needs to be an odd number\"\n",
    "    predict = []\n",
    "    for i in range(target.shape[0]):\n",
    "        x = target[i]\n",
    "        dist_sq_vec = np.sum((train_data - x)**2, axis=1)\n",
    "        dist_idx_sort = np.argsort(dist_sq_vec)\n",
    "        if np.mean(train_label[dist_idx_sort[:k]]) > 0.5:\n",
    "            predict.append(1)\n",
    "        else:\n",
    "            predict.append(0)\n",
    "    return predict"
   ]
  },
  {
   "cell_type": "markdown",
   "id": "f35e0601-9d2f-4111-ba2c-35fc5648a20f",
   "metadata": {},
   "source": [
    "### K=1"
   ]
  },
  {
   "cell_type": "code",
   "execution_count": 17,
   "id": "17c6cf76-4103-4978-aaf6-37aabf0175e9",
   "metadata": {},
   "outputs": [
    {
     "name": "stdout",
     "output_type": "stream",
     "text": [
      "Total train accuracy:  1.0\n",
      "CPU times: user 68.4 ms, sys: 0 ns, total: 68.4 ms\n",
      "Wall time: 67.9 ms\n"
     ]
    }
   ],
   "source": [
    "%%time\n",
    "# Train Evaluation\n",
    "train_predict = knn(train_data=train, train_label=train_label, target=train)\n",
    "train_correct = np.sum(train_predict==train_label)\n",
    "print(\"Total train accuracy: \", train_correct / train_label.shape[0])"
   ]
  },
  {
   "cell_type": "code",
   "execution_count": 18,
   "id": "46efa61b-cc7e-41ee-8dcc-3bc42949d24a",
   "metadata": {},
   "outputs": [
    {
     "name": "stdout",
     "output_type": "stream",
     "text": [
      "Total test accuracy:  0.7625\n"
     ]
    },
    {
     "data": {
      "text/html": [
       "<div>\n",
       "<style scoped>\n",
       "    .dataframe tbody tr th:only-of-type {\n",
       "        vertical-align: middle;\n",
       "    }\n",
       "\n",
       "    .dataframe tbody tr th {\n",
       "        vertical-align: top;\n",
       "    }\n",
       "\n",
       "    .dataframe thead th {\n",
       "        text-align: right;\n",
       "    }\n",
       "</style>\n",
       "<table border=\"1\" class=\"dataframe\">\n",
       "  <thead>\n",
       "    <tr style=\"text-align: right;\">\n",
       "      <th></th>\n",
       "      <th>Neutral Face</th>\n",
       "      <th>Facial Expression</th>\n",
       "    </tr>\n",
       "  </thead>\n",
       "  <tbody>\n",
       "    <tr>\n",
       "      <th>Predict 0</th>\n",
       "      <td>36</td>\n",
       "      <td>15</td>\n",
       "    </tr>\n",
       "    <tr>\n",
       "      <th>Predict 1</th>\n",
       "      <td>4</td>\n",
       "      <td>25</td>\n",
       "    </tr>\n",
       "  </tbody>\n",
       "</table>\n",
       "</div>"
      ],
      "text/plain": [
       "           Neutral Face  Facial Expression\n",
       "Predict 0            36                 15\n",
       "Predict 1             4                 25"
      ]
     },
     "metadata": {},
     "output_type": "display_data"
    },
    {
     "data": {
      "text/html": [
       "<div>\n",
       "<style scoped>\n",
       "    .dataframe tbody tr th:only-of-type {\n",
       "        vertical-align: middle;\n",
       "    }\n",
       "\n",
       "    .dataframe tbody tr th {\n",
       "        vertical-align: top;\n",
       "    }\n",
       "\n",
       "    .dataframe thead th {\n",
       "        text-align: right;\n",
       "    }\n",
       "</style>\n",
       "<table border=\"1\" class=\"dataframe\">\n",
       "  <thead>\n",
       "    <tr style=\"text-align: right;\">\n",
       "      <th></th>\n",
       "      <th>Neutral Face</th>\n",
       "      <th>Facial Expression</th>\n",
       "    </tr>\n",
       "  </thead>\n",
       "  <tbody>\n",
       "    <tr>\n",
       "      <th>Precision</th>\n",
       "      <td>0.9</td>\n",
       "      <td>0.625</td>\n",
       "    </tr>\n",
       "  </tbody>\n",
       "</table>\n",
       "</div>"
      ],
      "text/plain": [
       "           Neutral Face  Facial Expression\n",
       "Precision           0.9              0.625"
      ]
     },
     "metadata": {},
     "output_type": "display_data"
    },
    {
     "name": "stdout",
     "output_type": "stream",
     "text": [
      "Example images\n",
      "CPU times: user 59.5 ms, sys: 8.56 ms, total: 68.1 ms\n",
      "Wall time: 63.9 ms\n"
     ]
    },
    {
     "data": {
      "text/plain": [
       "<matplotlib.image.AxesImage at 0x7f284bdd41c0>"
      ]
     },
     "execution_count": 18,
     "metadata": {},
     "output_type": "execute_result"
    },
    {
     "data": {
      "image/png": "[encoded data removed]",
      "text/plain": [
       "<Figure size 432x288 with 2 Axes>"
      ]
     },
     "metadata": {
      "needs_background": "light"
     },
     "output_type": "display_data"
    },
    {
     "data": {
      "image/png": "[encoded data removed]",
      "text/plain": [
       "<Figure size 432x288 with 2 Axes>"
      ]
     },
     "metadata": {
      "needs_background": "light"
     },
     "output_type": "display_data"
    }
   ],
   "source": [
    "%%time\n",
    "# Test Evaluation\n",
    "test_predict = knn(train_data=train, train_label=train_label, target=test)\n",
    "test_correct = np.sum(test_predict==test_label)\n",
    "print(\"Total test accuracy: \", test_correct / test_label.shape[0])\n",
    "\n",
    "\n",
    "## Create truth table\n",
    "nf_test_predict = knn(train_data=train, train_label=train_label, target=nf_test)\n",
    "nf_test_correct = np.sum(nf_test_predict==nf_test_label)\n",
    "nf_test_error = nf_test.shape[0] - nf_test_correct\n",
    "\n",
    "fe_test_predict = knn(train_data=train, train_label=train_label, target=fe_test)\n",
    "fe_test_correct = np.sum(fe_test_predict==fe_test_label)\n",
    "fe_test_error = fe_test.shape[0] - fe_test_correct\n",
    "\n",
    "test_acc_table = np.array([[nf_test_correct, fe_test_error], \n",
    "                            [nf_test_error, fe_test_correct]])\n",
    "test_acc_df = pd.DataFrame(test_acc_table, columns = ['Neutral Face','Facial Expression'])\n",
    "test_acc_df = test_acc_df.rename(index={0: 'Predict 0', 1:'Predict 1'})\n",
    "display(test_acc_df)\n",
    "\n",
    "## Calculate precision\n",
    "nf_precision = nf_test_correct / nf_test.shape[0]\n",
    "fe_precision = fe_test_correct / fe_test.shape[0]\n",
    "precision_table = np.array([[nf_precision, fe_precision]])\n",
    "precision_df = pd.DataFrame(precision_table, columns = ['Neutral Face','Facial Expression'])\n",
    "precision_df = precision_df.rename(index={0:'Precision'})\n",
    "display(precision_df)\n",
    "\n",
    "## Correct and error prediction images \n",
    "nf_correct_predict = nf_test[np.where(nf_test_predict==nf_test_label)]\n",
    "nf_error_predict = nf_test[np.where(nf_test_predict!=nf_test_label)]\n",
    "fe_correct_predict = fe_test[np.where(fe_test_predict==fe_test_label)]\n",
    "fe_error_predict = fe_test[np.where(fe_test_predict!=fe_test_label)]\n",
    "\n",
    "print(\"Example images\")\n",
    "%matplotlib inline\n",
    "subject = 7\n",
    "fig = plt.figure()\n",
    "ax = fig.add_subplot(1, 2, 1)\n",
    "ax.set_title('True Neutral Face')\n",
    "plt.imshow(nf_correct_predict[0].reshape((24, 21)))\n",
    "\n",
    "ax = fig.add_subplot(1, 2, 2)\n",
    "ax.set_title('False Facial Expression')\n",
    "plt.imshow(fe_error_predict[0].reshape((24, 21)))\n",
    "\n",
    "fig2 = plt.figure()\n",
    "ax = fig2.add_subplot(1, 2, 1)\n",
    "ax.set_title('False Neutral Face')\n",
    "plt.imshow(nf_error_predict[0].reshape((24, 21)))\n",
    "\n",
    "ax = fig2.add_subplot(1, 2, 2)\n",
    "ax.set_title('True Facial Expression')\n",
    "plt.imshow(fe_correct_predict[0].reshape((24, 21)))"
   ]
  },
  {
   "cell_type": "code",
   "execution_count": 19,
   "id": "d960504a-fb81-4e35-a99a-227d8c7a03f3",
   "metadata": {},
   "outputs": [
    {
     "data": {
      "text/plain": [
       "(array([ 0,  2,  8, 10, 15, 17, 20, 22, 24, 26, 28, 30, 32, 36, 37]),)"
      ]
     },
     "execution_count": 19,
     "metadata": {},
     "output_type": "execute_result"
    }
   ],
   "source": [
    "# The False positive image index for facial expression when k=1\n",
    "np.where(fe_test_predict!=fe_test_label)"
   ]
  },
  {
   "cell_type": "markdown",
   "id": "72a8480e-da3a-45ba-a6db-b1c8145b03d4",
   "metadata": {},
   "source": [
    "### K=3"
   ]
  },
  {
   "cell_type": "code",
   "execution_count": 20,
   "id": "3731a9b8-85a7-40e4-a10b-66815a480a31",
   "metadata": {},
   "outputs": [
    {
     "name": "stdout",
     "output_type": "stream",
     "text": [
      "Total train accuracy:  0.846875\n",
      "CPU times: user 60.6 ms, sys: 1.81 ms, total: 62.4 ms\n",
      "Wall time: 61.1 ms\n"
     ]
    }
   ],
   "source": [
    "%%time\n",
    "# Train Evaluation\n",
    "train_predict = knn(train_data=train, train_label=train_label, target=train, k=3)\n",
    "train_correct = np.sum(train_predict==train_label)\n",
    "print(\"Total train accuracy: \", train_correct / train_label.shape[0])"
   ]
  },
  {
   "cell_type": "code",
   "execution_count": 21,
   "id": "cc69a18d-19cc-4e98-b3a2-dea8c3e68215",
   "metadata": {
    "tags": []
   },
   "outputs": [
    {
     "name": "stdout",
     "output_type": "stream",
     "text": [
      "Total test accuracy:  0.8125\n"
     ]
    },
    {
     "data": {
      "text/html": [
       "<div>\n",
       "<style scoped>\n",
       "    .dataframe tbody tr th:only-of-type {\n",
       "        vertical-align: middle;\n",
       "    }\n",
       "\n",
       "    .dataframe tbody tr th {\n",
       "        vertical-align: top;\n",
       "    }\n",
       "\n",
       "    .dataframe thead th {\n",
       "        text-align: right;\n",
       "    }\n",
       "</style>\n",
       "<table border=\"1\" class=\"dataframe\">\n",
       "  <thead>\n",
       "    <tr style=\"text-align: right;\">\n",
       "      <th></th>\n",
       "      <th>Neutral Face</th>\n",
       "      <th>Facial Expression</th>\n",
       "    </tr>\n",
       "  </thead>\n",
       "  <tbody>\n",
       "    <tr>\n",
       "      <th>Predict 0</th>\n",
       "      <td>40</td>\n",
       "      <td>15</td>\n",
       "    </tr>\n",
       "    <tr>\n",
       "      <th>Predict 1</th>\n",
       "      <td>0</td>\n",
       "      <td>25</td>\n",
       "    </tr>\n",
       "  </tbody>\n",
       "</table>\n",
       "</div>"
      ],
      "text/plain": [
       "           Neutral Face  Facial Expression\n",
       "Predict 0            40                 15\n",
       "Predict 1             0                 25"
      ]
     },
     "metadata": {},
     "output_type": "display_data"
    },
    {
     "data": {
      "text/html": [
       "<div>\n",
       "<style scoped>\n",
       "    .dataframe tbody tr th:only-of-type {\n",
       "        vertical-align: middle;\n",
       "    }\n",
       "\n",
       "    .dataframe tbody tr th {\n",
       "        vertical-align: top;\n",
       "    }\n",
       "\n",
       "    .dataframe thead th {\n",
       "        text-align: right;\n",
       "    }\n",
       "</style>\n",
       "<table border=\"1\" class=\"dataframe\">\n",
       "  <thead>\n",
       "    <tr style=\"text-align: right;\">\n",
       "      <th></th>\n",
       "      <th>Neutral Face</th>\n",
       "      <th>Facial Expression</th>\n",
       "    </tr>\n",
       "  </thead>\n",
       "  <tbody>\n",
       "    <tr>\n",
       "      <th>Precision</th>\n",
       "      <td>1.0</td>\n",
       "      <td>0.625</td>\n",
       "    </tr>\n",
       "  </tbody>\n",
       "</table>\n",
       "</div>"
      ],
      "text/plain": [
       "           Neutral Face  Facial Expression\n",
       "Precision           1.0              0.625"
      ]
     },
     "metadata": {},
     "output_type": "display_data"
    },
    {
     "name": "stdout",
     "output_type": "stream",
     "text": [
      "Example images\n",
      "CPU times: user 65.6 ms, sys: 6.42 ms, total: 72 ms\n",
      "Wall time: 67.3 ms\n"
     ]
    },
    {
     "data": {
      "text/plain": [
       "<matplotlib.image.AxesImage at 0x7f284bcfd8b0>"
      ]
     },
     "execution_count": 21,
     "metadata": {},
     "output_type": "execute_result"
    },
    {
     "data": {
      "image/png": "[encoded data removed]",
      "text/plain": [
       "<Figure size 432x288 with 2 Axes>"
      ]
     },
     "metadata": {
      "needs_background": "light"
     },
     "output_type": "display_data"
    },
    {
     "data": {
      "image/png": "[encoded data removed]",
      "text/plain": [
       "<Figure size 432x288 with 2 Axes>"
      ]
     },
     "metadata": {
      "needs_background": "light"
     },
     "output_type": "display_data"
    }
   ],
   "source": [
    "%%time\n",
    "# Test Evaluation\n",
    "test_predict = knn(train_data=train, train_label=train_label, target=test, k=3)\n",
    "test_correct = np.sum(test_predict==test_label)\n",
    "print(\"Total test accuracy: \", test_correct / test_label.shape[0])\n",
    "\n",
    "\n",
    "## Create truth table\n",
    "nf_test_predict = knn(train_data=train, train_label=train_label, target=nf_test, k=3)\n",
    "nf_test_correct = np.sum(nf_test_predict==nf_test_label)\n",
    "nf_test_error = nf_test.shape[0] - nf_test_correct\n",
    "\n",
    "fe_test_predict = knn(train_data=train, train_label=train_label, target=fe_test, k=3)\n",
    "fe_test_correct = np.sum(fe_test_predict==fe_test_label)\n",
    "fe_test_error = fe_test.shape[0] - fe_test_correct\n",
    "\n",
    "test_acc_table = np.array([[nf_test_correct, fe_test_error], \n",
    "                            [nf_test_error, fe_test_correct]])\n",
    "test_acc_df = pd.DataFrame(test_acc_table, columns = ['Neutral Face','Facial Expression'])\n",
    "test_acc_df = test_acc_df.rename(index={0: 'Predict 0', 1:'Predict 1'})\n",
    "display(test_acc_df)\n",
    "\n",
    "## Calculate precision\n",
    "nf_precision = nf_test_correct / nf_test.shape[0]\n",
    "fe_precision = fe_test_correct / fe_test.shape[0]\n",
    "precision_table = np.array([[nf_precision, fe_precision]])\n",
    "precision_df = pd.DataFrame(precision_table, columns = ['Neutral Face','Facial Expression'])\n",
    "precision_df = precision_df.rename(index={0:'Precision'})\n",
    "display(precision_df)\n",
    "\n",
    "## Correct and error prediction images \n",
    "nf_correct_predict = nf_test[np.where(nf_test_predict==nf_test_label)]\n",
    "fe_correct_predict = fe_test[np.where(fe_test_predict==fe_test_label)]\n",
    "fe_error_predict = fe_test[np.where(fe_test_predict!=fe_test_label)]\n",
    "\n",
    "print(\"Example images\")\n",
    "%matplotlib inline\n",
    "subject = 7\n",
    "fig = plt.figure()\n",
    "ax = fig.add_subplot(1, 2, 1)\n",
    "ax.set_title('True Neutral Face')\n",
    "plt.imshow(nf_correct_predict[0].reshape((24, 21)))\n",
    "\n",
    "ax = fig.add_subplot(1, 2, 2)\n",
    "ax.set_title('False Facial Expression')\n",
    "plt.imshow(fe_error_predict[0].reshape((24, 21)))\n",
    "\n",
    "fig2 = plt.figure()\n",
    "ax = fig2.add_subplot(1, 2, 1)\n",
    "ax = fig2.add_subplot(1, 2, 2)\n",
    "ax.set_title('True Facial Expression')\n",
    "plt.imshow(fe_correct_predict[0].reshape((24, 21)))"
   ]
  },
  {
   "cell_type": "code",
   "execution_count": 22,
   "id": "ae9c1864-37d7-4ec0-a734-f711dd3ee139",
   "metadata": {},
   "outputs": [
    {
     "name": "stdout",
     "output_type": "stream",
     "text": [
      "(array([ 2,  6,  8, 10, 14, 15, 20, 22, 24, 28, 30, 32, 34, 37, 38]),)\n"
     ]
    }
   ],
   "source": [
    "\"\"\"\n",
    "Although the true positive (TP) and false positive (FP)\n",
    "for facial expression remains the same in k=1 and k=3.\n",
    "The instances in both TP and FP are not. \n",
    "\"\"\"\n",
    "\n",
    "# The False positive image index for facial expression when k=3\n",
    "print(np.where(fe_test_predict!=fe_test_label))"
   ]
  },
  {
   "cell_type": "markdown",
   "id": "b1a45e15-39be-42ee-b03e-88fe45b5f6f9",
   "metadata": {},
   "source": [
    "## Kernel SVM"
   ]
  },
  {
   "cell_type": "code",
   "execution_count": 23,
   "id": "53f49196-a8d0-4fe6-a0ef-86b52c04e708",
   "metadata": {},
   "outputs": [],
   "source": [
    "# Define neutral face with label 1\n",
    "# Define facial expression with label -1\n",
    "N, D = nf_train.shape\n",
    "nf_train_label = np.ones(N) \n",
    "N, D = nf_test.shape\n",
    "nf_test_label = np.ones(N) \n",
    "\n",
    "N, D = fe_train.shape\n",
    "fe_train_label = -1 * np.ones(N) \n",
    "N, D = fe_test.shape\n",
    "fe_test_label = -1 * np.ones(N) \n",
    "\n",
    "train = np.vstack((nf_train, fe_train))\n",
    "test = np.vstack((nf_test, fe_test))\n",
    "train_label = np.hstack((nf_train_label, fe_train_label))\n",
    "test_label = np.hstack((nf_test_label, fe_test_label))"
   ]
  },
  {
   "cell_type": "markdown",
   "id": "ebec12d6-99a9-496a-a3e1-228d668d1f0a",
   "metadata": {
    "tags": []
   },
   "source": [
    "### RBF kernel"
   ]
  },
  {
   "cell_type": "code",
   "execution_count": 24,
   "id": "4583b86d-3460-4c32-b46a-214225849e13",
   "metadata": {},
   "outputs": [],
   "source": [
    "class RBF_SVM_Model:\n",
    "    def __init__(self, train_data, train_labels, sig=3, d=1, r=0.01):\n",
    "        \"\"\"\n",
    "        train_data has shape (N, D) \n",
    "        where N is the number of data\n",
    "        and D is the dimension of feature\n",
    "        \n",
    "        train_labels is the label of train data and\n",
    "        has shape (N,).\n",
    "    \n",
    "        sig is the sigma in rbf kernel\n",
    "        d is the threshold or margin in hinge loss\n",
    "        \"\"\" \n",
    "        self.train_data = train_data\n",
    "        self.train_labels = train_labels\n",
    "        self.param = {}\n",
    "        self.param[\"Sigma\"] = sig\n",
    "        self.param[\"margin\"] = d\n",
    "        self.param[\"regularization_strength\"] = r\n",
    "        \n",
    "        N, D = self.train_data.shape\n",
    "        self.W = np.random.normal(0, 1, (N, 1))\n",
    "        self.b = 0\n",
    "        \n",
    "    def kernel(self, x):\n",
    "        \"\"\"\n",
    "        x is a feature vector of shape (D,)\n",
    "        \"\"\"\n",
    "        sig = self.param[\"Sigma\"]\n",
    "        norm_sq = np.linalg.norm(self.train_data - x, axis=1)\n",
    "        kernel_vec = np.exp((-1/sig**2) * norm_sq)\n",
    "        return kernel_vec\n",
    "    \n",
    "    def predict(self, x):\n",
    "        \"\"\"\n",
    "        x is a feature vector of shape (D,)\n",
    "        \"\"\"\n",
    "        return self.b + self.kernel(x).dot(self.W)\n",
    "        \n",
    "    def loss(self, data=None, labels=None):\n",
    "        if data is None:\n",
    "            data = self.train_data\n",
    "            labels = self.train_labels\n",
    "            \n",
    "        d = self.param[\"margin\"]\n",
    "        r = self.param[\"regularization_strength\"]\n",
    "        loss_value = 0\n",
    "        for i in range(data.shape[0]):\n",
    "            yf = labels[i] * self.predict(data[i])\n",
    "            loss_value += max(0, d-yf[0])\n",
    "            \n",
    "        loss_value /= data.shape[0]\n",
    "        loss_value += r * 0.5 * np.linalg.norm(self.W)\n",
    "        return loss_value\n",
    "    \n",
    "    def train(self, epoch=1, lr=1e-2):\n",
    "        d = self.param[\"margin\"]\n",
    "        r = self.param[\"regularization_strength\"]\n",
    "        labels = self.train_labels\n",
    "        grad_W = np.zeros((self.W.shape[0],))\n",
    "        grad_b = 0\n",
    "        for n in range(epoch):\n",
    "            for i in range(self.train_data.shape[0]):  \n",
    "                x = self.train_data[i]\n",
    "                yf = labels[i] * self.predict(x)\n",
    "                if yf < d:\n",
    "                    grad_W += -1 * labels[i] * self.kernel(x)\n",
    "                    grad_b += labels[i] * 1 \n",
    "                \n",
    "            grad_W += r * self.W.flatten() \n",
    "            \n",
    "            self.W -= lr * grad_W.reshape((-1, 1))\n",
    "            self.b -= lr * grad_b\n",
    "            grad_W = np.zeros((self.W.shape[0],))\n",
    "            grad_b = 0\n",
    "            \n",
    "            if n % 50 == 0:\n",
    "                print(\"Epoch {}, loss={}\".format(n, self.loss()))\n",
    "                \n",
    "    def predict_acc(self, data, labels):\n",
    "        predicts = []\n",
    "        for i in range(data.shape[0]):\n",
    "            p = self.predict(data[i])\n",
    "            if p > 0:\n",
    "                predicts.append(1)\n",
    "            else :\n",
    "                predicts.append(-1)\n",
    "        \n",
    "        correct = np.sum(predicts==labels)\n",
    "        accuracy = correct / data.shape[0]\n",
    "        return accuracy, predicts"
   ]
  },
  {
   "cell_type": "code",
   "execution_count": 25,
   "id": "5e745744-05fa-47a3-919b-df02587603bb",
   "metadata": {},
   "outputs": [
    {
     "name": "stdout",
     "output_type": "stream",
     "text": [
      "Epoch 0, loss=0.9971176483280683\n",
      "Epoch 50, loss=0.833284170920237\n"
     ]
    }
   ],
   "source": [
    "rbf_svm_model = RBF_SVM_Model(train, train_label)\n",
    "rbf_svm_model.train(epoch=100, lr=5e-4)"
   ]
  },
  {
   "cell_type": "code",
   "execution_count": 26,
   "id": "2ac4071d-e671-4628-ac5b-f1435f937524",
   "metadata": {},
   "outputs": [
    {
     "name": "stdout",
     "output_type": "stream",
     "text": [
      "Train accuracy:  0.709375\n"
     ]
    }
   ],
   "source": [
    "acc, predicts = rbf_svm_model.predict_acc(train, train_label)\n",
    "print(\"Train accuracy: \", acc)"
   ]
  },
  {
   "cell_type": "code",
   "execution_count": 27,
   "id": "5240963e-8933-45c8-a973-3f9d4c19a9b6",
   "metadata": {},
   "outputs": [
    {
     "name": "stdout",
     "output_type": "stream",
     "text": [
      "Test accuracy:  0.8125\n"
     ]
    }
   ],
   "source": [
    "acc, predicts = rbf_svm_model.predict_acc(test, test_label)\n",
    "print(\"Test accuracy: \", acc)"
   ]
  },
  {
   "cell_type": "markdown",
   "id": "f0fc4cc1-63e1-4807-af59-8945ffd32302",
   "metadata": {},
   "source": [
    "#### Cross validate to find best Sigma"
   ]
  },
  {
   "cell_type": "code",
   "execution_count": 28,
   "id": "28b7e12f-25d8-4bfe-b803-e03cba959f45",
   "metadata": {},
   "outputs": [
    {
     "name": "stdout",
     "output_type": "stream",
     "text": [
      "train_small shape:  (256, 504)\n",
      "train_small_label shape:  (256,)\n",
      "val shape:  (64, 504)\n",
      "val_label shape:  (64,)\n"
     ]
    }
   ],
   "source": [
    "# Split train data into smaller train data and validation data\n",
    "nf_train_small, nf_val = train_test_split(nf_train)\n",
    "nf_train_small_label = np.ones(nf_train_small.shape[0]) \n",
    "nf_val_label = np.ones(nf_val.shape[0]) \n",
    "\n",
    "fe_train_small, fe_val = train_test_split(fe_train)\n",
    "fe_train_small_label = -1 * np.ones(fe_train_small.shape[0]) \n",
    "fe_val_label = -1 * np.ones(fe_val.shape[0]) \n",
    "\n",
    "train_small = np.vstack((nf_train_small, fe_train_small))\n",
    "val = np.vstack((nf_val, fe_val))\n",
    "train_small_label = np.hstack((nf_train_small_label, fe_train_small_label))\n",
    "val_label = np.hstack((nf_val_label, fe_val_label))\n",
    "\n",
    "print(\"train_small shape: \", train_small.shape)\n",
    "print(\"train_small_label shape: \", train_small_label.shape)\n",
    "print(\"val shape: \", val.shape)\n",
    "print(\"val_label shape: \", val_label.shape)"
   ]
  },
  {
   "cell_type": "code",
   "execution_count": 29,
   "id": "9be6fabe-fcc7-4634-bcd3-ebca73bfd27d",
   "metadata": {},
   "outputs": [
    {
     "name": "stdout",
     "output_type": "stream",
     "text": [
      "Sigma =  3\n",
      "Epoch 0, loss=1.6753565598317615\n",
      "Epoch 50, loss=1.0772630685910063\n",
      "Accuracy:  0.59375\n",
      "Sigma =  5\n",
      "Epoch 0, loss=9.928222358294146\n",
      "Epoch 50, loss=1.5944856421744809\n",
      "Accuracy:  0.5\n",
      "Sigma =  7\n",
      "Epoch 0, loss=2.4635112176157126\n",
      "Epoch 50, loss=3.098192116604121\n",
      "Accuracy:  0.5\n"
     ]
    }
   ],
   "source": [
    "sigmas = [3, 5, 7]\n",
    "\n",
    "best_model = None\n",
    "best_acc = 0\n",
    "for sigma in sigmas:\n",
    "    print(\"Sigma = \", sigma)\n",
    "    rbf_svm_model = RBF_SVM_Model(train_small, train_small_label, sig=sigma)\n",
    "    rbf_svm_model.train(epoch=100, lr=5e-4)\n",
    "    acc, predicts = rbf_svm_model.predict_acc(val, val_label)\n",
    "    print(\"Accuracy: \", acc)\n",
    "    if acc > best_acc:\n",
    "        best_acc = acc\n",
    "        best_model = rbf_svm_model"
   ]
  },
  {
   "cell_type": "code",
   "execution_count": 30,
   "id": "b17d9824-bbb9-4f97-be60-b5508f828c07",
   "metadata": {},
   "outputs": [
    {
     "name": "stdout",
     "output_type": "stream",
     "text": [
      "Epoch 0, loss=1.1395577603542926\n",
      "Epoch 50, loss=0.9416209854282056\n",
      "Epoch 100, loss=0.7945859481313928\n",
      "Epoch 150, loss=0.6928987309444541\n",
      "Epoch 200, loss=0.6246374508863974\n",
      "Epoch 250, loss=0.5749274614790583\n",
      "Epoch 300, loss=0.5397596629905128\n",
      "Epoch 350, loss=0.5058781082383277\n",
      "Epoch 400, loss=0.4830939476549361\n",
      "Epoch 450, loss=0.46021573611778566\n",
      "Epoch 500, loss=0.4439976263775921\n",
      "Epoch 550, loss=0.42934732478998594\n",
      "Epoch 600, loss=0.41663873625956416\n",
      "Epoch 650, loss=0.4046644383211412\n",
      "Epoch 700, loss=0.3937424208616287\n",
      "Epoch 750, loss=0.38407722034195385\n",
      "Epoch 800, loss=0.3766625920168842\n",
      "Epoch 850, loss=0.3679252125429965\n",
      "Epoch 900, loss=0.358628759104132\n",
      "Epoch 950, loss=0.3517445333761341\n",
      "CPU times: user 1min 38s, sys: 0 ns, total: 1min 38s\n",
      "Wall time: 1min 37s\n"
     ]
    }
   ],
   "source": [
    "%%time\n",
    "# Sigma 3 is the best sigma among the choices\n",
    "best_model = RBF_SVM_Model(train, train_label, sig=3)\n",
    "best_model.train(epoch=1000, lr=5e-4)"
   ]
  },
  {
   "cell_type": "code",
   "execution_count": 31,
   "id": "d363464e-cb6e-441c-8a61-5313e24c46ed",
   "metadata": {},
   "outputs": [
    {
     "name": "stdout",
     "output_type": "stream",
     "text": [
      "Accuracy on all train data:  0.9\n"
     ]
    },
    {
     "data": {
      "text/html": [
       "<div>\n",
       "<style scoped>\n",
       "    .dataframe tbody tr th:only-of-type {\n",
       "        vertical-align: middle;\n",
       "    }\n",
       "\n",
       "    .dataframe tbody tr th {\n",
       "        vertical-align: top;\n",
       "    }\n",
       "\n",
       "    .dataframe thead th {\n",
       "        text-align: right;\n",
       "    }\n",
       "</style>\n",
       "<table border=\"1\" class=\"dataframe\">\n",
       "  <thead>\n",
       "    <tr style=\"text-align: right;\">\n",
       "      <th></th>\n",
       "      <th>Neutral Face</th>\n",
       "      <th>Facial Expression</th>\n",
       "    </tr>\n",
       "  </thead>\n",
       "  <tbody>\n",
       "    <tr>\n",
       "      <th>Predict 0</th>\n",
       "      <td>151</td>\n",
       "      <td>23</td>\n",
       "    </tr>\n",
       "    <tr>\n",
       "      <th>Predict 1</th>\n",
       "      <td>9</td>\n",
       "      <td>137</td>\n",
       "    </tr>\n",
       "  </tbody>\n",
       "</table>\n",
       "</div>"
      ],
      "text/plain": [
       "           Neutral Face  Facial Expression\n",
       "Predict 0           151                 23\n",
       "Predict 1             9                137"
      ]
     },
     "metadata": {},
     "output_type": "display_data"
    },
    {
     "name": "stdout",
     "output_type": "stream",
     "text": [
      "\n",
      "Example images\n"
     ]
    },
    {
     "data": {
      "text/plain": [
       "<matplotlib.image.AxesImage at 0x7f2877f050a0>"
      ]
     },
     "execution_count": 31,
     "metadata": {},
     "output_type": "execute_result"
    },
    {
     "data": {
      "image/png": "[encoded data removed]",
      "text/plain": [
       "<Figure size 432x288 with 2 Axes>"
      ]
     },
     "metadata": {
      "needs_background": "light"
     },
     "output_type": "display_data"
    },
    {
     "data": {
      "image/png": "[encoded data removed]",
      "text/plain": [
       "<Figure size 432x288 with 2 Axes>"
      ]
     },
     "metadata": {
      "needs_background": "light"
     },
     "output_type": "display_data"
    }
   ],
   "source": [
    "train_acc, train_predicts = best_model.predict_acc(train, train_label)\n",
    "print(\"Accuracy on all train data: \", train_acc)\n",
    "\n",
    "## Create truth table\n",
    "nf_train_acc, nf_train_predicts = best_model.predict_acc(nf_train, nf_train_label)\n",
    "nf_train_correct = np.sum(nf_train_predicts==nf_train_label)\n",
    "nf_train_error = nf_train.shape[0] - nf_train_correct\n",
    "\n",
    "fe_train_acc, fe_train_predicts = best_model.predict_acc(fe_train, fe_train_label)\n",
    "fe_train_correct = np.sum(fe_train_predicts==fe_train_label)\n",
    "fe_train_error = fe_train.shape[0] - fe_train_correct\n",
    "\n",
    "train_acc_table = np.array([[nf_train_correct, fe_train_error], \n",
    "                            [nf_train_error, fe_train_correct]])\n",
    "train_acc_df = pd.DataFrame(train_acc_table, columns = ['Neutral Face','Facial Expression'])\n",
    "train_acc_df = train_acc_df.rename(index={0:'Predict 0', 1:'Predict 1'})\n",
    "display(train_acc_df)\n",
    "\n",
    "## Calculate false example\n",
    "nf_train_correct_idxs = np.where(np.array(nf_train_predicts) > 0)[0]\n",
    "nf_train_error_idxs = np.where(np.array(nf_train_predicts) <= 0)[0]\n",
    "fe_train_correct_idxs = np.where(np.array(fe_train_predicts) > 0)[0]\n",
    "fe_train_error_idxs = np.where(np.array(fe_train_predicts) <= 0)[0]\n",
    "      \n",
    "print(\"\")\n",
    "print(\"Example images\")\n",
    "%matplotlib inline\n",
    "subject = 7\n",
    "fig = plt.figure()\n",
    "ax = fig.add_subplot(1, 2, 1)\n",
    "ax.set_title('True Neutral Face')\n",
    "plt.imshow(nf_train[nf_train_correct_idxs[0]].reshape((24, 21)))\n",
    "\n",
    "ax = fig.add_subplot(1, 2, 2)\n",
    "ax.set_title('False Facial Expression')\n",
    "plt.imshow(fe_train[fe_train_error_idxs[0]].reshape((24, 21)))\n",
    "\n",
    "fig2 = plt.figure()\n",
    "ax = fig2.add_subplot(1, 2, 1)\n",
    "ax.set_title('False Neutral Face')\n",
    "plt.imshow(nf_train[nf_train_error_idxs[0]].reshape((24, 21)))\n",
    "\n",
    "ax = fig2.add_subplot(1, 2, 2)\n",
    "ax.set_title('True Facial Expression')\n",
    "plt.imshow(fe_train[fe_train_correct_idxs[0]].reshape((24, 21)))"
   ]
  },
  {
   "cell_type": "code",
   "execution_count": 32,
   "id": "8bbd6841-5800-445c-9bc3-c43460708132",
   "metadata": {},
   "outputs": [
    {
     "name": "stdout",
     "output_type": "stream",
     "text": [
      "Accuracy on all test data:  0.9\n"
     ]
    },
    {
     "data": {
      "text/html": [
       "<div>\n",
       "<style scoped>\n",
       "    .dataframe tbody tr th:only-of-type {\n",
       "        vertical-align: middle;\n",
       "    }\n",
       "\n",
       "    .dataframe tbody tr th {\n",
       "        vertical-align: top;\n",
       "    }\n",
       "\n",
       "    .dataframe thead th {\n",
       "        text-align: right;\n",
       "    }\n",
       "</style>\n",
       "<table border=\"1\" class=\"dataframe\">\n",
       "  <thead>\n",
       "    <tr style=\"text-align: right;\">\n",
       "      <th></th>\n",
       "      <th>Neutral Face</th>\n",
       "      <th>Facial Expression</th>\n",
       "    </tr>\n",
       "  </thead>\n",
       "  <tbody>\n",
       "    <tr>\n",
       "      <th>Predict 0</th>\n",
       "      <td>39</td>\n",
       "      <td>7</td>\n",
       "    </tr>\n",
       "    <tr>\n",
       "      <th>Predict 1</th>\n",
       "      <td>1</td>\n",
       "      <td>33</td>\n",
       "    </tr>\n",
       "  </tbody>\n",
       "</table>\n",
       "</div>"
      ],
      "text/plain": [
       "           Neutral Face  Facial Expression\n",
       "Predict 0            39                  7\n",
       "Predict 1             1                 33"
      ]
     },
     "metadata": {},
     "output_type": "display_data"
    },
    {
     "name": "stdout",
     "output_type": "stream",
     "text": [
      "\n",
      "Example images\n"
     ]
    },
    {
     "data": {
      "text/plain": [
       "<matplotlib.image.AxesImage at 0x7f2849bf97c0>"
      ]
     },
     "execution_count": 32,
     "metadata": {},
     "output_type": "execute_result"
    },
    {
     "data": {
      "image/png": "[encoded data removed]",
      "text/plain": [
       "<Figure size 432x288 with 2 Axes>"
      ]
     },
     "metadata": {
      "needs_background": "light"
     },
     "output_type": "display_data"
    },
    {
     "data": {
      "image/png": "[encoded data removed]",
      "text/plain": [
       "<Figure size 432x288 with 2 Axes>"
      ]
     },
     "metadata": {
      "needs_background": "light"
     },
     "output_type": "display_data"
    }
   ],
   "source": [
    "test_acc, test_predicts = best_model.predict_acc(test, test_label)\n",
    "print(\"Accuracy on all test data: \", test_acc)\n",
    "\n",
    "## Create truth table\n",
    "nf_test_acc, nf_test_predicts = best_model.predict_acc(nf_test, nf_test_label)\n",
    "nf_test_correct = np.sum(nf_test_predicts==nf_test_label)\n",
    "nf_test_error = nf_test.shape[0] - nf_test_correct\n",
    "\n",
    "fe_test_acc, fe_test_predicts = best_model.predict_acc(fe_test, fe_test_label)\n",
    "fe_test_correct = np.sum(fe_test_predicts==fe_test_label)\n",
    "fe_test_error = fe_test.shape[0] - fe_test_correct\n",
    "\n",
    "test_acc_table = np.array([[nf_test_correct, fe_test_error], \n",
    "                            [nf_test_error, fe_test_correct]])\n",
    "test_acc_df = pd.DataFrame(test_acc_table, columns = ['Neutral Face','Facial Expression'])\n",
    "test_acc_df = test_acc_df.rename(index={0:'Predict 0', 1:'Predict 1'})\n",
    "display(test_acc_df)\n",
    "\n",
    "## Calculate false example\n",
    "nf_test_correct_idxs = np.where(np.array(nf_test_predicts) > 0)[0]\n",
    "nf_test_error_idxs = np.where(np.array(nf_test_predicts) <= 0)[0]\n",
    "fe_test_correct_idxs = np.where(np.array(fe_test_predicts) > 0)[0]\n",
    "fe_test_error_idxs = np.where(np.array(fe_test_predicts) <= 0)[0]\n",
    "      \n",
    "print(\"\")\n",
    "print(\"Example images\")\n",
    "%matplotlib inline\n",
    "subject = 7\n",
    "fig = plt.figure()\n",
    "ax = fig.add_subplot(1, 2, 1)\n",
    "ax.set_title('True Neutral Face')\n",
    "plt.imshow(nf_test[nf_test_correct_idxs[0]].reshape((24, 21)))\n",
    "\n",
    "ax = fig.add_subplot(1, 2, 2)\n",
    "ax.set_title('False Facial Expression')\n",
    "plt.imshow(fe_test[fe_test_error_idxs[0]].reshape((24, 21)))\n",
    "\n",
    "fig2 = plt.figure()\n",
    "ax = fig2.add_subplot(1, 2, 1)\n",
    "ax.set_title('False Neutral Face')\n",
    "plt.imshow(nf_test[nf_test_error_idxs[0]].reshape((24, 21)))\n",
    "\n",
    "ax = fig2.add_subplot(1, 2, 2)\n",
    "ax.set_title('True Facial Expression')\n",
    "plt.imshow(fe_test[fe_test_correct_idxs[0]].reshape((24, 21)))"
   ]
  },
  {
   "cell_type": "markdown",
   "id": "16992941-851a-4294-bdc3-7d4e7a53d85d",
   "metadata": {},
   "source": [
    "### Polynomial kernel"
   ]
  },
  {
   "cell_type": "code",
   "execution_count": 33,
   "id": "bdf9aa9f-07fe-4a8e-9528-0640ddc4cd78",
   "metadata": {},
   "outputs": [],
   "source": [
    "class Poly_SVM_Model:\n",
    "    def __init__(self, train_data, train_labels, gamma=3, d=1, r=0):\n",
    "        \"\"\"\n",
    "        train_data has shape (N, D) \n",
    "        where N is the number of data\n",
    "        and D is the dimension of feature\n",
    "        \n",
    "        train_labels is the label of train data and\n",
    "        has shape (N,).\n",
    "    \n",
    "        gamma is the power parameter in polynomical kernel\n",
    "        d is the threshold or margin in hinge loss\n",
    "        \"\"\" \n",
    "        self.train_data = train_data\n",
    "        self.train_labels = train_labels\n",
    "        self.param = {}\n",
    "        self.param[\"gamma\"] = gamma\n",
    "        self.param[\"margin\"] = d\n",
    "        self.param[\"regularization_strength\"] = r\n",
    "        \n",
    "        N, D = self.train_data.shape\n",
    "        self.W = np.random.normal(0, 1, (N, 1))\n",
    "        self.b = 0\n",
    "        \n",
    "    def kernel(self, x):\n",
    "        \"\"\"\n",
    "        x is a feature vector of shape (D,)\n",
    "        \"\"\"\n",
    "        gamma = self.param[\"gamma\"]\n",
    "        N, D = self.train_data.shape\n",
    "        base = self.train_data.dot(x.reshape((-1, 1))) + 1\n",
    "        kernel_vec = (base**gamma).flatten()\n",
    "        return kernel_vec / (D**gamma)\n",
    "    \n",
    "    def predict(self, x):\n",
    "        \"\"\"\n",
    "        x is a feature vector of shape (D,)\n",
    "        \"\"\"\n",
    "        return self.b + self.kernel(x).dot(self.W)\n",
    "        \n",
    "    def loss(self, data=None, labels=None):\n",
    "        if data is None:\n",
    "            data = self.train_data\n",
    "            labels = self.train_labels\n",
    "            \n",
    "        d = self.param[\"margin\"]\n",
    "        r = self.param[\"regularization_strength\"]\n",
    "        loss_value = 0\n",
    "        for i in range(data.shape[0]):\n",
    "            yf = labels[i] * self.predict(data[i])\n",
    "            loss_value += max(0, d-yf[0])\n",
    "            \n",
    "        loss_value /= data.shape[0]\n",
    "        loss_value += r * 0.5 * np.linalg.norm(self.W)\n",
    "        return loss_value\n",
    "    \n",
    "    def train(self, epoch=1, lr=1e-2):\n",
    "        d = self.param[\"margin\"]\n",
    "        r = self.param[\"regularization_strength\"]\n",
    "        labels = self.train_labels\n",
    "        grad_W = np.zeros((self.W.shape[0],))\n",
    "        grad_b = 0\n",
    "        first_moment = grad_W\n",
    "        second_moment = grad_W\n",
    "        beta1 = 0.9\n",
    "        beta2 = 0.99\n",
    "        for n in range(epoch):\n",
    "            for i in range(self.train_data.shape[0]):  \n",
    "                x = self.train_data[i]\n",
    "                yf = labels[i] * self.predict(x)\n",
    "                if yf < d:\n",
    "                    grad_W += -1 * labels[i] * self.kernel(x)\n",
    "                    grad_b += labels[i] * 1 \n",
    "                \n",
    "                grad_W += r * self.W.flatten() \n",
    "                \n",
    "                #first_moment = beta1 * first_moment + (1-beta1) * grad_W\n",
    "                #second_moment = beta2 * second_moment + (1-beta2) * grad_W**2\n",
    "                #update = first_moment / (np.sqrt(second_moment) + 1e-7)\n",
    "                \n",
    "                self.W -= lr * grad_W.reshape((-1, 1))\n",
    "                #self.W -= lr *  update.reshape((-1, 1))\n",
    "                self.b -= lr * grad_b\n",
    "                grad_W = np.zeros((self.W.shape[0],))\n",
    "                grad_b = 0\n",
    "            \n",
    "            if n % 50 == 0:\n",
    "                print(\"Epoch {}, loss={}\".format(n, self.loss()))\n",
    "                \n",
    "    def predict_acc(self, data, labels):\n",
    "        predicts = []\n",
    "        for i in range(data.shape[0]):\n",
    "            p = self.predict(data[i])\n",
    "            if p > 0:\n",
    "                predicts.append(1)\n",
    "            else :\n",
    "                predicts.append(-1)\n",
    "        \n",
    "        correct = np.sum(predicts==labels)\n",
    "        accuracy = correct / data.shape[0]\n",
    "        return accuracy, predicts"
   ]
  },
  {
   "cell_type": "code",
   "execution_count": 34,
   "id": "cc75e54a-0ad1-4619-8498-077721e6e3de",
   "metadata": {},
   "outputs": [
    {
     "name": "stdout",
     "output_type": "stream",
     "text": [
      "Epoch 0, loss=14.323424247875725\n",
      "Epoch 50, loss=5.0801506348005425\n",
      "Epoch 100, loss=0.861921408397885\n",
      "Epoch 150, loss=0.8608275860141639\n"
     ]
    }
   ],
   "source": [
    "poly_svm_model = Poly_SVM_Model(train, train_label, gamma=1)\n",
    "poly_svm_model.train(epoch=200, lr=1e-5)"
   ]
  },
  {
   "cell_type": "code",
   "execution_count": 35,
   "id": "98a22630-aaa2-4acf-be23-a47633ae56ae",
   "metadata": {},
   "outputs": [
    {
     "name": "stdout",
     "output_type": "stream",
     "text": [
      "Train accuracy:  0.659375\n"
     ]
    }
   ],
   "source": [
    "acc, predicts = poly_svm_model.predict_acc(train, train_label)\n",
    "print(\"Train accuracy: \", acc)"
   ]
  },
  {
   "cell_type": "code",
   "execution_count": 36,
   "id": "b04c1bce-ef81-461c-ac0d-ee7c1e07ee14",
   "metadata": {},
   "outputs": [
    {
     "name": "stdout",
     "output_type": "stream",
     "text": [
      "Test accuracy:  0.6375\n"
     ]
    }
   ],
   "source": [
    "acc, predicts = poly_svm_model.predict_acc(test, test_label)\n",
    "print(\"Test accuracy: \", acc)"
   ]
  },
  {
   "cell_type": "markdown",
   "id": "bef4f08e-3a58-4dc8-9f5a-94f4fe45f608",
   "metadata": {},
   "source": [
    "#### Cross validate to find best gamma"
   ]
  },
  {
   "cell_type": "code",
   "execution_count": 37,
   "id": "5f0be173-276f-4a5d-bd07-428186c33f29",
   "metadata": {},
   "outputs": [
    {
     "name": "stdout",
     "output_type": "stream",
     "text": [
      "Gamma =  1\n",
      "Epoch 0, loss=4.343978073760079\n",
      "Epoch 50, loss=0.8012965495839146\n",
      "Epoch 100, loss=0.7996621638396123\n",
      "Epoch 150, loss=0.7982358902390528\n",
      "Epoch 200, loss=0.7967444470898968\n",
      "Epoch 250, loss=0.7952204191664426\n",
      "Epoch 300, loss=0.7936963912429874\n",
      "Epoch 350, loss=0.7921723633195323\n",
      "Epoch 400, loss=0.7906537339235147\n",
      "Epoch 450, loss=0.789179295126747\n",
      "Epoch 500, loss=0.7876649757452512\n",
      "Epoch 550, loss=0.7861615410066435\n",
      "Epoch 600, loss=0.7846770617629227\n",
      "Epoch 650, loss=0.7832188071863126\n",
      "Epoch 700, loss=0.7817784351869377\n",
      "Epoch 750, loss=0.7803314076404839\n",
      "Epoch 800, loss=0.7788666463281375\n",
      "Epoch 850, loss=0.777218551696817\n",
      "Epoch 900, loss=0.7756279551915389\n",
      "Epoch 950, loss=0.7740046376197923\n",
      "Accuracy:  0.625\n",
      "Gamma =  2\n",
      "Epoch 0, loss=6.633935457182441\n",
      "Epoch 50, loss=2.0763238719569665\n",
      "Epoch 100, loss=1.3774221662017117\n",
      "Epoch 150, loss=1.3683858841877876\n",
      "Epoch 200, loss=1.3614565281493438\n",
      "Epoch 250, loss=1.3549711294984526\n",
      "Epoch 300, loss=1.3493882931861958\n",
      "Epoch 350, loss=1.3440536458977124\n",
      "Epoch 400, loss=1.3388711041126604\n",
      "Epoch 450, loss=1.334012984908203\n",
      "Epoch 500, loss=1.3291665899868859\n",
      "Epoch 550, loss=1.3243201950655707\n",
      "Epoch 600, loss=1.3194738001442539\n",
      "Epoch 650, loss=1.314627405222937\n",
      "Epoch 700, loss=1.3097814681087458\n",
      "Epoch 750, loss=1.304935530994555\n",
      "Epoch 800, loss=1.300089822783928\n",
      "Epoch 850, loss=1.295243885669738\n",
      "Epoch 900, loss=1.2903981774591102\n",
      "Epoch 950, loss=1.2855522403449209\n",
      "Accuracy:  0.375\n",
      "Gamma =  3\n",
      "Epoch 0, loss=0.9385949795321553\n",
      "Epoch 50, loss=0.9305305726824816\n",
      "Epoch 100, loss=0.9237787913232041\n",
      "Epoch 150, loss=0.917063540609868\n",
      "Epoch 200, loss=0.9103665551427493\n",
      "Epoch 250, loss=0.9037499576426195\n",
      "Epoch 300, loss=0.8970955817957563\n",
      "Epoch 350, loss=0.8902509404517662\n",
      "Epoch 400, loss=0.8834395285488162\n",
      "Epoch 450, loss=0.8765969593560666\n",
      "Epoch 500, loss=0.8700540798880357\n",
      "Epoch 550, loss=0.8633751388767171\n",
      "Epoch 600, loss=0.8568436703736554\n",
      "Epoch 650, loss=0.8505693945609999\n",
      "Epoch 700, loss=0.8442937914671523\n",
      "Epoch 750, loss=0.8380403033338185\n",
      "Epoch 800, loss=0.8318170708952815\n",
      "Epoch 850, loss=0.8256164481822704\n",
      "Epoch 900, loss=0.8194204253672781\n",
      "Epoch 950, loss=0.8132592248334225\n",
      "Accuracy:  0.578125\n",
      "CPU times: user 52min 28s, sys: 2h 37min, total: 3h 29min 28s\n",
      "Wall time: 13min 6s\n"
     ]
    }
   ],
   "source": [
    "%%time\n",
    "gammas = [1, 2, 3]\n",
    "\n",
    "best_model = None\n",
    "best_acc = 0\n",
    "for g in gammas:\n",
    "    print(\"Gamma = \", g)\n",
    "    poly_svm_model = Poly_SVM_Model(train_small, train_small_label, gamma=g)\n",
    "    poly_svm_model.train(epoch=1000, lr=1e-5)\n",
    "    acc, predicts = poly_svm_model.predict_acc(val, val_label)\n",
    "    print(\"Accuracy: \", acc)\n",
    "    if acc > best_acc:\n",
    "        best_acc = acc\n",
    "        best_model = poly_svm_model"
   ]
  },
  {
   "cell_type": "code",
   "execution_count": 38,
   "id": "139db3ca-ba9f-4bda-bd78-8017b6f43d9e",
   "metadata": {},
   "outputs": [
    {
     "name": "stdout",
     "output_type": "stream",
     "text": [
      "Epoch 0, loss=3.33552281988367\n",
      "Epoch 50, loss=0.9136137624981122\n",
      "Epoch 100, loss=0.9083182400549046\n",
      "Epoch 150, loss=0.902899354562509\n",
      "Epoch 200, loss=0.8973219899800062\n",
      "Epoch 250, loss=0.8920508871761182\n",
      "Epoch 300, loss=0.8866627952727202\n",
      "Epoch 350, loss=0.8812789737829956\n",
      "Epoch 400, loss=0.8758951522932726\n",
      "Epoch 450, loss=0.8705563212640938\n",
      "Epoch 500, loss=0.8652526401273486\n",
      "Epoch 550, loss=0.8599764165919408\n",
      "Epoch 600, loss=0.8547683182388186\n",
      "Epoch 650, loss=0.8494920947034128\n",
      "Epoch 700, loss=0.8443009629482466\n",
      "Epoch 750, loss=0.8392215913114358\n",
      "Epoch 800, loss=0.8343998114077197\n",
      "Epoch 850, loss=0.828865157017556\n",
      "Epoch 900, loss=0.8237840350621818\n",
      "Epoch 950, loss=0.8189012252515656\n"
     ]
    }
   ],
   "source": [
    "# Train the best model on full train data with gamma=2\n",
    "best_poly_model = Poly_SVM_Model(train, train_label, gamma=2)\n",
    "best_poly_model.train(epoch=1000, lr=1e-5)"
   ]
  },
  {
   "cell_type": "code",
   "execution_count": 39,
   "id": "cb0a40ad-5d81-47ee-b22b-0f6485f1bf58",
   "metadata": {},
   "outputs": [
    {
     "name": "stdout",
     "output_type": "stream",
     "text": [
      "Train accuracy:  0.61875\n"
     ]
    },
    {
     "data": {
      "text/html": [
       "<div>\n",
       "<style scoped>\n",
       "    .dataframe tbody tr th:only-of-type {\n",
       "        vertical-align: middle;\n",
       "    }\n",
       "\n",
       "    .dataframe tbody tr th {\n",
       "        vertical-align: top;\n",
       "    }\n",
       "\n",
       "    .dataframe thead th {\n",
       "        text-align: right;\n",
       "    }\n",
       "</style>\n",
       "<table border=\"1\" class=\"dataframe\">\n",
       "  <thead>\n",
       "    <tr style=\"text-align: right;\">\n",
       "      <th></th>\n",
       "      <th>Neutral Face</th>\n",
       "      <th>Facial Expression</th>\n",
       "    </tr>\n",
       "  </thead>\n",
       "  <tbody>\n",
       "    <tr>\n",
       "      <th>Predict 0</th>\n",
       "      <td>105</td>\n",
       "      <td>67</td>\n",
       "    </tr>\n",
       "    <tr>\n",
       "      <th>Predict 1</th>\n",
       "      <td>55</td>\n",
       "      <td>93</td>\n",
       "    </tr>\n",
       "  </tbody>\n",
       "</table>\n",
       "</div>"
      ],
      "text/plain": [
       "           Neutral Face  Facial Expression\n",
       "Predict 0           105                 67\n",
       "Predict 1            55                 93"
      ]
     },
     "metadata": {},
     "output_type": "display_data"
    },
    {
     "name": "stdout",
     "output_type": "stream",
     "text": [
      "\n",
      "Example images\n"
     ]
    },
    {
     "data": {
      "text/plain": [
       "<matplotlib.image.AxesImage at 0x7f2849ac60d0>"
      ]
     },
     "execution_count": 39,
     "metadata": {},
     "output_type": "execute_result"
    },
    {
     "data": {
      "image/png": "[encoded data removed]",
      "text/plain": [
       "<Figure size 432x288 with 2 Axes>"
      ]
     },
     "metadata": {
      "needs_background": "light"
     },
     "output_type": "display_data"
    },
    {
     "data": {
      "image/png": "[encoded data removed]",
      "text/plain": [
       "<Figure size 432x288 with 2 Axes>"
      ]
     },
     "metadata": {
      "needs_background": "light"
     },
     "output_type": "display_data"
    }
   ],
   "source": [
    "acc, predicts = best_poly_model.predict_acc(train, train_label)\n",
    "print(\"Train accuracy: \", acc)\n",
    "\n",
    "## Create truth table\n",
    "nf_train_acc, nf_train_predicts = best_poly_model.predict_acc(nf_train, nf_train_label)\n",
    "nf_train_correct = np.sum(nf_train_predicts==nf_train_label)\n",
    "nf_train_error = nf_train.shape[0] - nf_train_correct\n",
    "\n",
    "fe_train_acc, fe_train_predicts = best_poly_model.predict_acc(fe_train, fe_train_label)\n",
    "fe_train_correct = np.sum(fe_train_predicts==fe_train_label)\n",
    "fe_train_error = fe_train.shape[0] - fe_train_correct\n",
    "\n",
    "train_acc_table = np.array([[nf_train_correct, fe_train_error], \n",
    "                            [nf_train_error, fe_train_correct]])\n",
    "train_acc_df = pd.DataFrame(train_acc_table, columns = ['Neutral Face','Facial Expression'])\n",
    "train_acc_df = train_acc_df.rename(index={0:'Predict 0', 1:'Predict 1'})\n",
    "display(train_acc_df)\n",
    "\n",
    "## Calculate false example\n",
    "nf_train_correct_idxs = np.where(np.array(nf_train_predicts) > 0)[0]\n",
    "nf_train_error_idxs = np.where(np.array(nf_train_predicts) <= 0)[0]\n",
    "fe_train_correct_idxs = np.where(np.array(fe_train_predicts) > 0)[0]\n",
    "fe_train_error_idxs = np.where(np.array(fe_train_predicts) <= 0)[0]\n",
    "      \n",
    "print(\"\")\n",
    "print(\"Example images\")\n",
    "%matplotlib inline\n",
    "subject = 7\n",
    "fig = plt.figure()\n",
    "ax = fig.add_subplot(1, 2, 1)\n",
    "ax.set_title('True Neutral Face')\n",
    "plt.imshow(nf_train[nf_train_correct_idxs[0]].reshape((24, 21)))\n",
    "\n",
    "ax = fig.add_subplot(1, 2, 2)\n",
    "ax.set_title('False Facial Expression')\n",
    "plt.imshow(fe_train[fe_train_error_idxs[0]].reshape((24, 21)))\n",
    "\n",
    "fig2 = plt.figure()\n",
    "ax = fig2.add_subplot(1, 2, 1)\n",
    "ax.set_title('False Neutral Face')\n",
    "plt.imshow(nf_train[nf_train_error_idxs[0]].reshape((24, 21)))\n",
    "\n",
    "ax = fig2.add_subplot(1, 2, 2)\n",
    "ax.set_title('True Facial Expression')\n",
    "plt.imshow(fe_train[fe_train_correct_idxs[0]].reshape((24, 21)))"
   ]
  },
  {
   "cell_type": "code",
   "execution_count": 40,
   "id": "98c72251-0c85-45cb-8d61-f835d55083ec",
   "metadata": {},
   "outputs": [
    {
     "name": "stdout",
     "output_type": "stream",
     "text": [
      "Test accuracy:  0.6125\n"
     ]
    },
    {
     "data": {
      "text/html": [
       "<div>\n",
       "<style scoped>\n",
       "    .dataframe tbody tr th:only-of-type {\n",
       "        vertical-align: middle;\n",
       "    }\n",
       "\n",
       "    .dataframe tbody tr th {\n",
       "        vertical-align: top;\n",
       "    }\n",
       "\n",
       "    .dataframe thead th {\n",
       "        text-align: right;\n",
       "    }\n",
       "</style>\n",
       "<table border=\"1\" class=\"dataframe\">\n",
       "  <thead>\n",
       "    <tr style=\"text-align: right;\">\n",
       "      <th></th>\n",
       "      <th>Neutral Face</th>\n",
       "      <th>Facial Expression</th>\n",
       "    </tr>\n",
       "  </thead>\n",
       "  <tbody>\n",
       "    <tr>\n",
       "      <th>Predict 0</th>\n",
       "      <td>28</td>\n",
       "      <td>19</td>\n",
       "    </tr>\n",
       "    <tr>\n",
       "      <th>Predict 1</th>\n",
       "      <td>12</td>\n",
       "      <td>21</td>\n",
       "    </tr>\n",
       "  </tbody>\n",
       "</table>\n",
       "</div>"
      ],
      "text/plain": [
       "           Neutral Face  Facial Expression\n",
       "Predict 0            28                 19\n",
       "Predict 1            12                 21"
      ]
     },
     "metadata": {},
     "output_type": "display_data"
    },
    {
     "name": "stdout",
     "output_type": "stream",
     "text": [
      "\n",
      "Example images\n"
     ]
    },
    {
     "data": {
      "text/plain": [
       "<matplotlib.image.AxesImage at 0x7f2849983a30>"
      ]
     },
     "execution_count": 40,
     "metadata": {},
     "output_type": "execute_result"
    },
    {
     "data": {
      "image/png": "[encoded data removed]",
      "text/plain": [
       "<Figure size 432x288 with 2 Axes>"
      ]
     },
     "metadata": {
      "needs_background": "light"
     },
     "output_type": "display_data"
    },
    {
     "data": {
      "image/png": "[encoded data removed]",
      "text/plain": [
       "<Figure size 432x288 with 2 Axes>"
      ]
     },
     "metadata": {
      "needs_background": "light"
     },
     "output_type": "display_data"
    }
   ],
   "source": [
    "acc, predicts = best_poly_model.predict_acc(test, test_label)\n",
    "print(\"Test accuracy: \", acc)\n",
    "\n",
    "## Create truth table\n",
    "nf_test_acc, nf_test_predicts = best_poly_model.predict_acc(nf_test, nf_test_label)\n",
    "nf_test_correct = np.sum(nf_test_predicts==nf_test_label)\n",
    "nf_test_error = nf_test.shape[0] - nf_test_correct\n",
    "\n",
    "fe_test_acc, fe_test_predicts = best_poly_model.predict_acc(fe_test, fe_test_label)\n",
    "fe_test_correct = np.sum(fe_test_predicts==fe_test_label)\n",
    "fe_test_error = fe_test.shape[0] - fe_test_correct\n",
    "\n",
    "test_acc_table = np.array([[nf_test_correct, fe_test_error], \n",
    "                            [nf_test_error, fe_test_correct]])\n",
    "test_acc_df = pd.DataFrame(test_acc_table, columns = ['Neutral Face','Facial Expression'])\n",
    "test_acc_df = test_acc_df.rename(index={0:'Predict 0', 1:'Predict 1'})\n",
    "display(test_acc_df)\n",
    "\n",
    "## Calculate false example\n",
    "nf_test_correct_idxs = np.where(np.array(nf_test_predicts) > 0)[0]\n",
    "nf_test_error_idxs = np.where(np.array(nf_test_predicts) <= 0)[0]\n",
    "fe_test_correct_idxs = np.where(np.array(fe_test_predicts) > 0)[0]\n",
    "fe_test_error_idxs = np.where(np.array(fe_test_predicts) <= 0)[0]\n",
    "      \n",
    "print(\"\")\n",
    "print(\"Example images\")\n",
    "%matplotlib inline\n",
    "subject = 7\n",
    "fig = plt.figure()\n",
    "ax = fig.add_subplot(1, 2, 1)\n",
    "ax.set_title('True Neutral Face')\n",
    "plt.imshow(nf_test[nf_test_correct_idxs[0]].reshape((24, 21)))\n",
    "\n",
    "ax = fig.add_subplot(1, 2, 2)\n",
    "ax.set_title('False Facial Expression')\n",
    "plt.imshow(fe_test[fe_test_error_idxs[0]].reshape((24, 21)))\n",
    "\n",
    "fig2 = plt.figure()\n",
    "ax = fig2.add_subplot(1, 2, 1)\n",
    "ax.set_title('False Neutral Face')\n",
    "plt.imshow(nf_test[nf_test_error_idxs[0]].reshape((24, 21)))\n",
    "\n",
    "ax = fig2.add_subplot(1, 2, 2)\n",
    "ax.set_title('True Facial Expression')\n",
    "plt.imshow(fe_test[fe_test_correct_idxs[0]].reshape((24, 21)))"
   ]
  },
  {
   "cell_type": "markdown",
   "id": "3af458fe-f6d7-4d55-b17b-45d412bda008",
   "metadata": {},
   "source": [
    "## Boosted SVM"
   ]
  },
  {
   "cell_type": "code",
   "execution_count": 41,
   "id": "cd19baa9-ce05-484a-ae4b-61040c316e74",
   "metadata": {},
   "outputs": [
    {
     "name": "stdout",
     "output_type": "stream",
     "text": [
      "Epoch 0, loss=8.348000948255228\n",
      "Epoch 50, loss=1.006180970707112\n",
      "Epoch 100, loss=0.9955569887783107\n",
      "Epoch 150, loss=0.9924028478424397\n",
      "Epoch 200, loss=0.9893298973795286\n",
      "Epoch 250, loss=0.9869554395294188\n",
      "Epoch 300, loss=0.9845291419830439\n",
      "Epoch 350, loss=0.9821814433428484\n",
      "Epoch 400, loss=0.9797750848998905\n",
      "Epoch 450, loss=0.9774273862596956\n",
      "Epoch 500, loss=0.9750796876194976\n",
      "Epoch 550, loss=0.9726733291765379\n",
      "Epoch 600, loss=0.970327504256813\n",
      "Epoch 650, loss=0.9680018442031658\n",
      "Epoch 700, loss=0.9656761841495195\n",
      "Epoch 750, loss=0.963350524095873\n",
      "Epoch 800, loss=0.9611003654192279\n",
      "Epoch 850, loss=0.9587951206607912\n",
      "Epoch 900, loss=0.9564898759023561\n",
      "Epoch 950, loss=0.954184631143921\n"
     ]
    }
   ],
   "source": [
    "# Linear SVM without boosting\n",
    "linear_svm_model = Poly_SVM_Model(train, train_label, gamma=1)\n",
    "linear_svm_model.train(epoch=1000, lr=1e-5)"
   ]
  },
  {
   "cell_type": "code",
   "execution_count": 42,
   "id": "507ecb77-a564-4a03-bb77-5f079163bfbd",
   "metadata": {},
   "outputs": [
    {
     "name": "stdout",
     "output_type": "stream",
     "text": [
      "Train accuracy:  0.58125\n",
      "Test accuracy:  0.5875\n"
     ]
    }
   ],
   "source": [
    "acc, predicts = linear_svm_model.predict_acc(train, train_label)\n",
    "print(\"Train accuracy: \", acc)\n",
    "acc, predicts = linear_svm_model.predict_acc(test, test_label)\n",
    "print(\"Test accuracy: \", acc)"
   ]
  },
  {
   "cell_type": "code",
   "execution_count": 43,
   "id": "491fc604-c05d-4565-a0e5-373d80f92e32",
   "metadata": {},
   "outputs": [],
   "source": [
    "def adaBoost(train_data, train_label, iteration=5):\n",
    "    N, D = train.shape\n",
    "    w = np.ones((N)) * 1/N\n",
    "    idxs = np.arange(N)\n",
    "\n",
    "    models = []\n",
    "    model_weights = []\n",
    "    for i in range(iteration):\n",
    "        print(\"Iteration: \", i)\n",
    "        # Sample train data\n",
    "        sample_idxs = np.random.choice(idxs, N, p=w)\n",
    "        curr_train = train_data[sample_idxs, :]\n",
    "        curr_label = train_label[sample_idxs]\n",
    "    \n",
    "        # Create weak classifier\n",
    "        weak_learner = Poly_SVM_Model(curr_train, curr_label, gamma=1)\n",
    "        weak_learner.train(epoch=1000, lr=1e-5)\n",
    "    \n",
    "        # Do prediction\n",
    "        acc, predicts = weak_learner.predict_acc(train_data, train_label)\n",
    "        print(\"weak learner acc: \", acc)\n",
    "        error_rate = 1 - acc\n",
    "        correct_idx = np.where(np.array(predicts)==train_label)\n",
    "        error_idx = np.where(np.array(predicts)!=train_label)\n",
    "    \n",
    "        # Calculate weight for weak learner\n",
    "        model_weight = 0.5 * np.log(acc / error_rate)\n",
    "    \n",
    "        # Update weights for data\n",
    "        w[correct_idx] *= np.exp(-model_weight)\n",
    "        w[error_idx] *= np.exp(model_weight)\n",
    "        w = w / np.sum(w)\n",
    "    \n",
    "        model_weights.append(model_weight)\n",
    "        models.append(weak_learner)\n",
    "    \n",
    "    return models, model_weights"
   ]
  },
  {
   "cell_type": "code",
   "execution_count": 44,
   "id": "9fdb8415-b23a-476c-80ef-8228bc209ea5",
   "metadata": {},
   "outputs": [],
   "source": [
    "def adaBoost_model(models, model_weights, data, labels, use_iter=-1):\n",
    "    if use_iter==-1:\n",
    "        # use full iteration\n",
    "        use_iter = len(models)\n",
    "        \n",
    "    N, D = data.shape\n",
    "    weighted_predicts = np.zeros((N,))\n",
    "    for i in range(use_iter):\n",
    "        _, predicts = models[i].predict_acc(data, labels)\n",
    "        weighted_predicts += model_weights[i] * np.array(predicts)\n",
    "        \n",
    "    weighted_predicts[weighted_predicts > 0] = 1\n",
    "    weighted_predicts[weighted_predicts <= 0] = -1\n",
    "        \n",
    "    correct = np.sum(weighted_predicts==labels)\n",
    "    accuracy = correct / data.shape[0]\n",
    "    return accuracy, weighted_predicts"
   ]
  },
  {
   "cell_type": "code",
   "execution_count": 45,
   "id": "139c24f1-85ab-49e7-8f3b-b55511e95bff",
   "metadata": {},
   "outputs": [
    {
     "name": "stdout",
     "output_type": "stream",
     "text": [
      "Iteration:  0\n",
      "Epoch 0, loss=10.897256679431582\n",
      "Epoch 50, loss=1.857666534165031\n",
      "Epoch 100, loss=1.0199082233216097\n",
      "Epoch 150, loss=1.0172667822177701\n",
      "Epoch 200, loss=1.0148682733882854\n",
      "Epoch 250, loss=1.0126564783287153\n",
      "Epoch 300, loss=1.010458869238334\n",
      "Epoch 350, loss=1.008262550165916\n",
      "Epoch 400, loss=1.00606966893455\n",
      "Epoch 450, loss=1.0038823757747994\n",
      "Epoch 500, loss=1.001695082615047\n",
      "Epoch 550, loss=0.9995067143400155\n",
      "Epoch 600, loss=0.9973194211802646\n",
      "Epoch 650, loss=0.9951310529052314\n",
      "Epoch 700, loss=0.9929437597454791\n",
      "Epoch 750, loss=0.9907564665857274\n",
      "Epoch 800, loss=0.9885680983106939\n",
      "Epoch 850, loss=0.9863808051509408\n",
      "Epoch 900, loss=0.9841935119911902\n",
      "Epoch 950, loss=0.9820051437161569\n",
      "weak learner acc:  0.5625\n",
      "Iteration:  1\n",
      "Epoch 0, loss=1.3410012935586884\n",
      "Epoch 50, loss=0.8723240666379501\n",
      "Epoch 100, loss=0.8697343988147377\n",
      "Epoch 150, loss=0.8670047897655818\n",
      "Epoch 200, loss=0.8642606104016128\n",
      "Epoch 250, loss=0.8615381986793237\n",
      "Epoch 300, loss=0.8587950681798304\n",
      "Epoch 350, loss=0.8560726564575398\n",
      "Epoch 400, loss=0.8533691253266985\n",
      "Epoch 450, loss=0.8506621546760439\n",
      "Epoch 500, loss=0.8479598526491048\n",
      "Epoch 550, loss=0.84525288199845\n",
      "Epoch 600, loss=0.8425668784874276\n",
      "Epoch 650, loss=0.8399122802709608\n",
      "Epoch 700, loss=0.8373135926378816\n",
      "Epoch 750, loss=0.8347205622546643\n",
      "Epoch 800, loss=0.832129572461354\n",
      "Epoch 850, loss=0.8296175229688474\n",
      "Epoch 900, loss=0.8271639093133194\n",
      "Epoch 950, loss=0.8247432471342101\n",
      "weak learner acc:  0.55\n",
      "Iteration:  2\n",
      "Epoch 0, loss=5.962398761926383\n",
      "Epoch 50, loss=0.9754606605471474\n",
      "Epoch 100, loss=0.9733191994135332\n",
      "Epoch 150, loss=0.9711527981539166\n",
      "Epoch 200, loss=0.9689944761036442\n",
      "Epoch 250, loss=0.9668586541080595\n",
      "Epoch 300, loss=0.9647866121390803\n",
      "Epoch 350, loss=0.9626837448896891\n",
      "Epoch 400, loss=0.9606184585378053\n",
      "Epoch 450, loss=0.9584959944559897\n",
      "Epoch 500, loss=0.9564125334444178\n",
      "Epoch 550, loss=0.9543304000295072\n",
      "Epoch 600, loss=0.9522482666145967\n",
      "Epoch 650, loss=0.950166133199686\n",
      "Epoch 700, loss=0.9480839997847752\n",
      "Epoch 750, loss=0.9460089959274847\n",
      "Epoch 800, loss=0.9439427021214261\n",
      "Epoch 850, loss=0.9418692203363225\n",
      "Epoch 900, loss=0.9397916157306734\n",
      "Epoch 950, loss=0.9377379147937646\n",
      "weak learner acc:  0.48125\n",
      "Iteration:  3\n",
      "Epoch 0, loss=16.030362451638467\n",
      "Epoch 50, loss=8.342832034773874\n",
      "Epoch 100, loss=0.9644810093321828\n",
      "Epoch 150, loss=0.9250866254635932\n",
      "Epoch 200, loss=0.9223854505530775\n",
      "Epoch 250, loss=0.9196842756425647\n",
      "Epoch 300, loss=0.9169833187284284\n",
      "Epoch 350, loss=0.9142858497563482\n",
      "Epoch 400, loss=0.9115911392636855\n",
      "Epoch 450, loss=0.9088964287710238\n",
      "Epoch 500, loss=0.9061989597989445\n",
      "Epoch 550, loss=0.9035042493062819\n",
      "Epoch 600, loss=0.9008168758900492\n",
      "Epoch 650, loss=0.8981355720860218\n",
      "Epoch 700, loss=0.8954484947833805\n",
      "Epoch 750, loss=0.8927785733364445\n",
      "Epoch 800, loss=0.8901175712860285\n",
      "Epoch 850, loss=0.8874595329543993\n",
      "Epoch 900, loss=0.8848212739802674\n",
      "Epoch 950, loss=0.882183449428388\n",
      "weak learner acc:  0.51875\n",
      "Iteration:  4\n",
      "Epoch 0, loss=13.154253217025618\n",
      "Epoch 50, loss=1.3900418716183702\n",
      "Epoch 100, loss=1.1050042902501995\n",
      "Epoch 150, loss=1.102352510244543\n",
      "Epoch 200, loss=1.0997247524294531\n",
      "Epoch 250, loss=1.0970729724237969\n",
      "Epoch 300, loss=1.094445214608707\n",
      "Epoch 350, loss=1.09179343460305\n",
      "Epoch 400, loss=1.0891656767879616\n",
      "Epoch 450, loss=1.0865031218109684\n",
      "Epoch 500, loss=1.0838792759006064\n",
      "Epoch 550, loss=1.0812559771403167\n",
      "Epoch 600, loss=1.0786335264395173\n",
      "Epoch 650, loss=1.0760119237982042\n",
      "Epoch 700, loss=1.0733928653353548\n",
      "Epoch 750, loss=1.0707748669468637\n",
      "Epoch 800, loss=1.068133950889437\n",
      "Epoch 850, loss=1.0655229957430565\n",
      "Epoch 900, loss=1.0629240398765334\n",
      "Epoch 950, loss=1.0603261087777283\n",
      "weak learner acc:  0.45625\n",
      "Iteration:  5\n",
      "Epoch 0, loss=19.998807510586524\n",
      "Epoch 50, loss=5.9257978397523745\n",
      "Epoch 100, loss=1.0378940191746258\n",
      "Epoch 150, loss=1.0336700125185112\n",
      "Epoch 200, loss=1.0294793600280867\n",
      "Epoch 250, loss=1.0252857501607568\n",
      "Epoch 300, loss=1.0210950976703297\n",
      "Epoch 350, loss=1.0169060659921425\n",
      "Epoch 400, loss=1.0127171397198997\n",
      "Epoch 450, loss=1.0085288479685803\n",
      "Epoch 500, loss=1.0043503286380033\n",
      "Epoch 550, loss=1.0001718093074272\n",
      "Epoch 600, loss=0.9959932899768503\n",
      "Epoch 650, loss=0.991814770646274\n",
      "Epoch 700, loss=0.9876362513156977\n",
      "Epoch 750, loss=0.9834560282427212\n",
      "Epoch 800, loss=0.9792838266246232\n",
      "Epoch 850, loss=0.975142329853151\n",
      "Epoch 900, loss=0.9710119762648535\n",
      "Epoch 950, loss=0.9668866521576044\n",
      "weak learner acc:  0.496875\n",
      "Iteration:  6\n",
      "Epoch 0, loss=9.688220102727922\n",
      "Epoch 50, loss=4.144015944636162\n",
      "Epoch 100, loss=0.7424805716351232\n",
      "Epoch 150, loss=0.7408681987680718\n",
      "Epoch 200, loss=0.7392338510107467\n",
      "Epoch 250, loss=0.7376017961585646\n",
      "Epoch 300, loss=0.7360251497017255\n",
      "Epoch 350, loss=0.7343926750649663\n",
      "Epoch 400, loss=0.7327389408676674\n",
      "Epoch 450, loss=0.7311281067696573\n",
      "Epoch 500, loss=0.7295137269745096\n",
      "Epoch 550, loss=0.7279976017889215\n",
      "Epoch 600, loss=0.7264911136570238\n",
      "Epoch 650, loss=0.7250153638133605\n",
      "Epoch 700, loss=0.7234716075563481\n",
      "Epoch 750, loss=0.7219950184863129\n",
      "Epoch 800, loss=0.7205134285572263\n",
      "Epoch 850, loss=0.7190333573826962\n",
      "Epoch 900, loss=0.7175535710874513\n",
      "Epoch 950, loss=0.716077752308664\n",
      "weak learner acc:  0.553125\n",
      "Iteration:  7\n",
      "Epoch 0, loss=10.546185725778091\n",
      "Epoch 50, loss=2.602022295243979\n",
      "Epoch 100, loss=1.0267273529445538\n",
      "Epoch 150, loss=1.0243226537733028\n",
      "Epoch 200, loss=1.0219400257898648\n",
      "Epoch 250, loss=1.0195577919392766\n",
      "Epoch 300, loss=1.0171755580886848\n",
      "Epoch 350, loss=1.0147933242380955\n",
      "Epoch 400, loss=1.0123909898639496\n",
      "Epoch 450, loss=1.0100087560133602\n",
      "Epoch 500, loss=1.0076265221627714\n",
      "Epoch 550, loss=1.00524573827928\n",
      "Epoch 600, loss=1.0028471738195885\n",
      "Epoch 650, loss=1.0004707398373918\n",
      "Epoch 700, loss=0.9980936861176847\n",
      "Epoch 750, loss=0.9957150711290008\n",
      "Epoch 800, loss=0.9933364308362161\n",
      "Epoch 850, loss=0.990975788800099\n",
      "Epoch 900, loss=0.9885885098254962\n",
      "Epoch 950, loss=0.9862258782786281\n",
      "weak learner acc:  0.475\n",
      "Iteration:  8\n",
      "Epoch 0, loss=4.888784793718248\n",
      "Epoch 50, loss=0.8093976244069843\n",
      "Epoch 100, loss=0.8075230144598884\n",
      "Epoch 150, loss=0.8057130028320089\n",
      "Epoch 200, loss=0.8039029912041276\n",
      "Epoch 250, loss=0.8020929795762491\n",
      "Epoch 300, loss=0.8002829679483681\n",
      "Epoch 350, loss=0.7984729563204904\n",
      "Epoch 400, loss=0.7966629446926106\n",
      "Epoch 450, loss=0.794852933064732\n",
      "Epoch 500, loss=0.793042921436854\n",
      "Epoch 550, loss=0.7912329098089738\n",
      "Epoch 600, loss=0.789422898181095\n",
      "Epoch 650, loss=0.7876128865532166\n",
      "Epoch 700, loss=0.7858028749253384\n",
      "Epoch 750, loss=0.7839799436336167\n",
      "Epoch 800, loss=0.7821699320057371\n",
      "Epoch 850, loss=0.7803625111997139\n",
      "Epoch 900, loss=0.7785568181882381\n",
      "Epoch 950, loss=0.7767511251767628\n",
      "weak learner acc:  0.575\n",
      "Iteration:  9\n",
      "Epoch 0, loss=12.69098569154994\n",
      "Epoch 50, loss=3.0402684793719272\n",
      "Epoch 100, loss=1.076558157890824\n",
      "Epoch 150, loss=1.0603866280580463\n",
      "Epoch 200, loss=1.0575629739427659\n",
      "Epoch 250, loss=1.054756980006461\n",
      "Epoch 300, loss=1.0519634899613863\n",
      "Epoch 350, loss=1.0491637963352936\n",
      "Epoch 400, loss=1.0463657489780291\n",
      "Epoch 450, loss=1.0435724575085041\n",
      "Epoch 500, loss=1.0407665552796628\n",
      "Epoch 550, loss=1.0379660686052783\n",
      "Epoch 600, loss=1.0352095841842188\n",
      "Epoch 650, loss=1.0324334198762157\n",
      "Epoch 700, loss=1.0296572555682162\n",
      "Epoch 750, loss=1.026901655615934\n",
      "Epoch 800, loss=1.0241254913079332\n",
      "Epoch 850, loss=1.0213493269999334\n",
      "Epoch 900, loss=1.0185937270476535\n",
      "Epoch 950, loss=1.015817562739652\n",
      "weak learner acc:  0.484375\n"
     ]
    }
   ],
   "source": [
    "models, model_weights = adaBoost(train_data=train, train_label=train_label, iteration=10)"
   ]
  },
  {
   "cell_type": "code",
   "execution_count": 46,
   "id": "b44f72d9-c0da-4e8d-adf6-b56e5f03c741",
   "metadata": {},
   "outputs": [
    {
     "name": "stdout",
     "output_type": "stream",
     "text": [
      "AdaBoost linear SVM accuracy:  0.5625\n",
      "Test accuracy:  0.4625\n"
     ]
    }
   ],
   "source": [
    "acc, predicts = adaBoost_model(models, model_weights, train, train_label, use_iter=2)\n",
    "print(\"AdaBoost linear SVM accuracy: \", acc)\n",
    "acc, predicts = adaBoost_model(models, model_weights, test, test_label, use_iter=2)\n",
    "print(\"Test accuracy: \", acc)"
   ]
  },
  {
   "cell_type": "code",
   "execution_count": 47,
   "id": "3ef9afe7-f74f-4097-882d-490ce7641236",
   "metadata": {},
   "outputs": [
    {
     "name": "stdout",
     "output_type": "stream",
     "text": [
      "AdaBoost linear SVM accuracy:  0.55625\n",
      "Test accuracy:  0.525\n"
     ]
    }
   ],
   "source": [
    "acc, predicts = adaBoost_model(models, model_weights, train, train_label, use_iter=5)\n",
    "print(\"AdaBoost linear SVM accuracy: \", acc)\n",
    "acc, predicts = adaBoost_model(models, model_weights, test, test_label, use_iter=5)\n",
    "print(\"Test accuracy: \", acc)"
   ]
  },
  {
   "cell_type": "code",
   "execution_count": 48,
   "id": "fbb641a2-0ff4-430e-b2c0-754be1c01b92",
   "metadata": {},
   "outputs": [
    {
     "name": "stdout",
     "output_type": "stream",
     "text": [
      "AdaBoost linear SVM accuracy:  0.63125\n",
      "Test accuracy:  0.5625\n"
     ]
    }
   ],
   "source": [
    "acc, predicts = adaBoost_model(models, model_weights, train, train_label, use_iter=10)\n",
    "print(\"AdaBoost linear SVM accuracy: \", acc)\n",
    "acc, predicts = adaBoost_model(models, model_weights, test, test_label, use_iter=10)\n",
    "print(\"Test accuracy: \", acc)"
   ]
  },
  {
   "cell_type": "markdown",
   "id": "e9d1bf96-c517-43e8-8cd6-b4f47c5c46ed",
   "metadata": {
    "tags": []
   },
   "source": [
    "## Principal component analysis (PCA)"
   ]
  },
  {
   "cell_type": "code",
   "execution_count": 49,
   "id": "665be34c-5b98-41a8-904b-0510c141e263",
   "metadata": {},
   "outputs": [],
   "source": [
    "def PCA(data, reduced_dim=10):\n",
    "    data_cov = np.cov(data.T)\n",
    "    eigvalues, eigvectors = np.linalg.eig(data_cov)\n",
    "    return eigvectors[:, :reduced_dim]\n",
    "\n",
    "def apply_PCA(data, eigvectors):\n",
    "    reduced_data = data.dot(eigvectors)\n",
    "    return reduced_data"
   ]
  },
  {
   "cell_type": "code",
   "execution_count": 50,
   "id": "4a95912f-b17c-4676-b680-fcc2b14d0191",
   "metadata": {},
   "outputs": [
    {
     "name": "stdout",
     "output_type": "stream",
     "text": [
      "reduced train data shape:  (320, 10)\n"
     ]
    }
   ],
   "source": [
    "# apply PCA\n",
    "eigvec = PCA(train)\n",
    "reduced_train = apply_PCA(train, eigvec)\n",
    "print(\"reduced train data shape: \", reduced_train.shape)\n",
    "\n",
    "reduced_nf_train = reduced_train[:nf_train.shape[0], :]\n",
    "reduced_fe_train = reduced_train[nf_train.shape[0]:, :]\n",
    "\n",
    "reduced_nf_test = apply_PCA(nf_test, eigvec)\n",
    "reduced_fe_test = apply_PCA(fe_test, eigvec)\n",
    "reduced_test = apply_PCA(test, eigvec)"
   ]
  },
  {
   "cell_type": "markdown",
   "id": "a16a3ee3-461c-41c1-8548-73b8fb6f4973",
   "metadata": {},
   "source": [
    "### Bayesian Classifier (with PCA)"
   ]
  },
  {
   "cell_type": "code",
   "execution_count": 51,
   "id": "06ab7858-87f3-4056-8cf3-eb79235021a1",
   "metadata": {},
   "outputs": [],
   "source": [
    "# train data and labels\n",
    "N, D = nf_train.shape\n",
    "nf_train_label = np.zeros(N) \n",
    "N, D = nf_test.shape\n",
    "nf_test_label = np.zeros(N) \n",
    "\n",
    "N, D = fe_train.shape\n",
    "fe_train_label = np.ones(N) \n",
    "N, D = fe_test.shape\n",
    "fe_test_label = np.ones(N) \n",
    "\n",
    "train = np.vstack((nf_train, fe_train))\n",
    "test = np.vstack((nf_test, fe_test))\n",
    "train_label = np.hstack((nf_train_label, fe_train_label))\n",
    "test_label = np.hstack((nf_test_label, fe_test_label))"
   ]
  },
  {
   "cell_type": "code",
   "execution_count": 52,
   "id": "31e0ab55-ca4a-47d6-8f0f-b8bf57022005",
   "metadata": {},
   "outputs": [
    {
     "name": "stdout",
     "output_type": "stream",
     "text": [
      "reduced nf mean shape:  (10,)\n",
      "reduced nf cov shape:  (10, 10)\n",
      "reduced fe mean shape:  (10,)\n",
      "reduced fe cov shape:  (10, 10)\n"
     ]
    }
   ],
   "source": [
    "## ML estimate of mean and covarinace matrix\n",
    "reduced_nf_mean = np.mean(reduced_nf_train, axis=0)\n",
    "print(\"reduced nf mean shape: \", reduced_nf_mean.shape)\n",
    "reduced_nf_cov = np.cov(reduced_nf_train.T)\n",
    "print(\"reduced nf cov shape: \", reduced_nf_cov.shape)\n",
    "\n",
    "reduced_fe_mean = np.mean(reduced_fe_train, axis=0)\n",
    "print(\"reduced fe mean shape: \", reduced_fe_mean.shape)\n",
    "reduced_fe_cov = np.cov(reduced_fe_train.T)\n",
    "print(\"reduced fe cov shape: \", reduced_fe_cov.shape)"
   ]
  },
  {
   "cell_type": "code",
   "execution_count": 53,
   "id": "82555438-164b-4487-bdfd-02d84677c0da",
   "metadata": {},
   "outputs": [],
   "source": [
    "# Likelihood (Gaussian)\n",
    "reduced_nf_ml_likelihood = lambda x: multivariate_normal.pdf(x, reduced_nf_mean, reduced_nf_cov, True)\n",
    "reduced_fe_ml_likelihood = lambda x: multivariate_normal.pdf(x, reduced_fe_mean, reduced_fe_cov, True)\n",
    "\n",
    "# Prior\n",
    "nf_prior = (nf_train.shape[0]) / train.shape[0]\n",
    "fe_prior = (fe_train.shape[0]) / train.shape[0]\n",
    "\n",
    "# Posterior \n",
    "reduced_nf_posterior = lambda x: reduced_nf_ml_likelihood(x) * nf_prior\n",
    "reduced_fe_posterior = lambda x: reduced_fe_ml_likelihood(x) * fe_prior"
   ]
  },
  {
   "cell_type": "code",
   "execution_count": 54,
   "id": "190f7cb3-de30-48a6-b5d4-9fce176cdffb",
   "metadata": {},
   "outputs": [
    {
     "name": "stdout",
     "output_type": "stream",
     "text": [
      "CPU times: user 209 ms, sys: 328 ms, total: 538 ms\n",
      "Wall time: 77.1 ms\n"
     ]
    },
    {
     "name": "stderr",
     "output_type": "stream",
     "text": [
      "/home/longhongc/.local/lib/python3.8/site-packages/scipy/stats/_multivariate.py:381: ComplexWarning: Casting complex values to real discards the imaginary part\n",
      "  mean = np.asarray(mean, dtype=float)\n",
      "/home/longhongc/.local/lib/python3.8/site-packages/scipy/stats/_multivariate.py:396: ComplexWarning: Casting complex values to real discards the imaginary part\n",
      "  cov = np.asarray(cov, dtype=float)\n",
      "/home/longhongc/.local/lib/python3.8/site-packages/scipy/stats/_multivariate.py:430: ComplexWarning: Casting complex values to real discards the imaginary part\n",
      "  x = np.asarray(x, dtype=float)\n"
     ]
    }
   ],
   "source": [
    "%%time\n",
    "# Train Evaluation\n",
    "nf_train_correct, nf_train_correct_idxs = bayes_classifier(reduced_nf_train, 0, reduced_nf_posterior, reduced_fe_posterior)\n",
    "nf_train_error = nf_train.shape[0] - nf_train_correct\n",
    "fe_train_correct, fe_train_correct_idxs = bayes_classifier(reduced_fe_train, 1, reduced_nf_posterior, reduced_fe_posterior)\n",
    "fe_train_error = fe_train.shape[0] - fe_train_correct"
   ]
  },
  {
   "cell_type": "code",
   "execution_count": 55,
   "id": "cd97c149-7509-4313-8efd-423b66946332",
   "metadata": {},
   "outputs": [
    {
     "name": "stdout",
     "output_type": "stream",
     "text": [
      "Total train accuracy:  0.85\n"
     ]
    },
    {
     "data": {
      "text/html": [
       "<div>\n",
       "<style scoped>\n",
       "    .dataframe tbody tr th:only-of-type {\n",
       "        vertical-align: middle;\n",
       "    }\n",
       "\n",
       "    .dataframe tbody tr th {\n",
       "        vertical-align: top;\n",
       "    }\n",
       "\n",
       "    .dataframe thead th {\n",
       "        text-align: right;\n",
       "    }\n",
       "</style>\n",
       "<table border=\"1\" class=\"dataframe\">\n",
       "  <thead>\n",
       "    <tr style=\"text-align: right;\">\n",
       "      <th></th>\n",
       "      <th>Neutral Face</th>\n",
       "      <th>Facial Expression</th>\n",
       "    </tr>\n",
       "  </thead>\n",
       "  <tbody>\n",
       "    <tr>\n",
       "      <th>Predict 0</th>\n",
       "      <td>150</td>\n",
       "      <td>38</td>\n",
       "    </tr>\n",
       "    <tr>\n",
       "      <th>Predict 1</th>\n",
       "      <td>10</td>\n",
       "      <td>122</td>\n",
       "    </tr>\n",
       "  </tbody>\n",
       "</table>\n",
       "</div>"
      ],
      "text/plain": [
       "           Neutral Face  Facial Expression\n",
       "Predict 0           150                 38\n",
       "Predict 1            10                122"
      ]
     },
     "metadata": {},
     "output_type": "display_data"
    },
    {
     "data": {
      "text/html": [
       "<div>\n",
       "<style scoped>\n",
       "    .dataframe tbody tr th:only-of-type {\n",
       "        vertical-align: middle;\n",
       "    }\n",
       "\n",
       "    .dataframe tbody tr th {\n",
       "        vertical-align: top;\n",
       "    }\n",
       "\n",
       "    .dataframe thead th {\n",
       "        text-align: right;\n",
       "    }\n",
       "</style>\n",
       "<table border=\"1\" class=\"dataframe\">\n",
       "  <thead>\n",
       "    <tr style=\"text-align: right;\">\n",
       "      <th></th>\n",
       "      <th>Neutral Face</th>\n",
       "      <th>Facial Expression</th>\n",
       "    </tr>\n",
       "  </thead>\n",
       "  <tbody>\n",
       "    <tr>\n",
       "      <th>Precision</th>\n",
       "      <td>0.9375</td>\n",
       "      <td>0.7625</td>\n",
       "    </tr>\n",
       "  </tbody>\n",
       "</table>\n",
       "</div>"
      ],
      "text/plain": [
       "           Neutral Face  Facial Expression\n",
       "Precision        0.9375             0.7625"
      ]
     },
     "metadata": {},
     "output_type": "display_data"
    },
    {
     "name": "stdout",
     "output_type": "stream",
     "text": [
      "\n",
      "Example images\n"
     ]
    },
    {
     "data": {
      "text/plain": [
       "<matplotlib.image.AxesImage at 0x7f28493ce3d0>"
      ]
     },
     "execution_count": 55,
     "metadata": {},
     "output_type": "execute_result"
    },
    {
     "data": {
      "image/png": "[encoded data removed]",
      "text/plain": [
       "<Figure size 432x288 with 2 Axes>"
      ]
     },
     "metadata": {
      "needs_background": "light"
     },
     "output_type": "display_data"
    },
    {
     "data": {
      "image/png": "[encoded data removed]",
      "text/plain": [
       "<Figure size 432x288 with 2 Axes>"
      ]
     },
     "metadata": {
      "needs_background": "light"
     },
     "output_type": "display_data"
    }
   ],
   "source": [
    "# Train accuracy\n",
    "print(\"Total train accuracy: \", (nf_train_correct + fe_train_correct) / train.shape[0])\n",
    "\n",
    "## Create truth table\n",
    "train_acc_table = np.array([[nf_train_correct, fe_train_error], \n",
    "                            [nf_train_error, fe_train_correct]])\n",
    "train_acc_df = pd.DataFrame(train_acc_table, columns = ['Neutral Face','Facial Expression'])\n",
    "train_acc_df = train_acc_df.rename(index={0:'Predict 0', 1:'Predict 1'})\n",
    "display(train_acc_df)\n",
    "\n",
    "nf_precision = nf_train_correct / nf_train.shape[0]\n",
    "fe_precision = fe_train_correct / fe_train.shape[0]\n",
    "precision_table = np.array([[nf_precision, fe_precision]])\n",
    "precision_df = pd.DataFrame(precision_table, columns = ['Neutral Face','Facial Expression'])\n",
    "precision_df = precision_df.rename(index={0:'Precision'})\n",
    "display(precision_df)\n",
    "\n",
    "## Calculate false example\n",
    "nf_train_correct_idxs_set = set(nf_train_correct_idxs)\n",
    "nf_error_idx = -1\n",
    "for i in range(nf_train.shape[0]):\n",
    "    if not i in nf_train_correct_idxs_set:\n",
    "        nf_error_idx = i\n",
    "        break\n",
    "\n",
    "fe_train_correct_idxs_set = set(fe_train_correct_idxs)\n",
    "fe_error_idx = -1\n",
    "for i in range(fe_train.shape[0]):\n",
    "    if not i in fe_train_correct_idxs_set:\n",
    "        fe_error_idx = i\n",
    "        break\n",
    "      \n",
    "print(\"\")\n",
    "print(\"Example images\")\n",
    "%matplotlib inline\n",
    "subject = 7\n",
    "fig = plt.figure()\n",
    "ax = fig.add_subplot(1, 2, 1)\n",
    "ax.set_title('True Neutral Face')\n",
    "plt.imshow(nf_train[nf_train_correct_idxs[0]].reshape((24, 21)))\n",
    "\n",
    "ax = fig.add_subplot(1, 2, 2)\n",
    "ax.set_title('False Facial Expression')\n",
    "plt.imshow(fe_train[fe_error_idx].reshape((24, 21)))\n",
    "\n",
    "fig2 = plt.figure()\n",
    "ax = fig2.add_subplot(1, 2, 1)\n",
    "ax.set_title('False Neutral Face')\n",
    "plt.imshow(nf_train[nf_error_idx].reshape((24, 21)))\n",
    "\n",
    "ax = fig2.add_subplot(1, 2, 2)\n",
    "ax.set_title('True Facial Expression')\n",
    "plt.imshow(fe_train[fe_train_correct_idxs[0]].reshape((24, 21)))"
   ]
  },
  {
   "cell_type": "code",
   "execution_count": 56,
   "id": "c858b47e-183b-4f73-b1dc-774f81a0e9b6",
   "metadata": {},
   "outputs": [
    {
     "name": "stdout",
     "output_type": "stream",
     "text": [
      "CPU times: user 23.9 ms, sys: 21.9 ms, total: 45.8 ms\n",
      "Wall time: 14.7 ms\n"
     ]
    },
    {
     "name": "stderr",
     "output_type": "stream",
     "text": [
      "/home/longhongc/.local/lib/python3.8/site-packages/scipy/stats/_multivariate.py:381: ComplexWarning: Casting complex values to real discards the imaginary part\n",
      "  mean = np.asarray(mean, dtype=float)\n",
      "/home/longhongc/.local/lib/python3.8/site-packages/scipy/stats/_multivariate.py:396: ComplexWarning: Casting complex values to real discards the imaginary part\n",
      "  cov = np.asarray(cov, dtype=float)\n",
      "/home/longhongc/.local/lib/python3.8/site-packages/scipy/stats/_multivariate.py:430: ComplexWarning: Casting complex values to real discards the imaginary part\n",
      "  x = np.asarray(x, dtype=float)\n"
     ]
    }
   ],
   "source": [
    "%%time\n",
    "# Test Evaluation\n",
    "nf_test_correct, nf_test_correct_idxs = bayes_classifier(reduced_nf_test, 0, reduced_nf_posterior, reduced_fe_posterior)\n",
    "nf_test_error = nf_test.shape[0] - nf_test_correct\n",
    "fe_test_correct, fe_test_correct_idxs = bayes_classifier(reduced_fe_test, 1, reduced_nf_posterior, reduced_fe_posterior)\n",
    "fe_test_error = fe_test.shape[0] - fe_test_correct"
   ]
  },
  {
   "cell_type": "code",
   "execution_count": 57,
   "id": "284978e8-e822-40b9-94e8-555e2fab0aae",
   "metadata": {},
   "outputs": [
    {
     "name": "stdout",
     "output_type": "stream",
     "text": [
      "Test accuracy\n",
      "Total test accuracy:  0.8\n"
     ]
    },
    {
     "data": {
      "text/html": [
       "<div>\n",
       "<style scoped>\n",
       "    .dataframe tbody tr th:only-of-type {\n",
       "        vertical-align: middle;\n",
       "    }\n",
       "\n",
       "    .dataframe tbody tr th {\n",
       "        vertical-align: top;\n",
       "    }\n",
       "\n",
       "    .dataframe thead th {\n",
       "        text-align: right;\n",
       "    }\n",
       "</style>\n",
       "<table border=\"1\" class=\"dataframe\">\n",
       "  <thead>\n",
       "    <tr style=\"text-align: right;\">\n",
       "      <th></th>\n",
       "      <th>Neutral Face</th>\n",
       "      <th>Facial Expression</th>\n",
       "    </tr>\n",
       "  </thead>\n",
       "  <tbody>\n",
       "    <tr>\n",
       "      <th>Predict 0</th>\n",
       "      <td>38</td>\n",
       "      <td>14</td>\n",
       "    </tr>\n",
       "    <tr>\n",
       "      <th>Predict 1</th>\n",
       "      <td>2</td>\n",
       "      <td>26</td>\n",
       "    </tr>\n",
       "  </tbody>\n",
       "</table>\n",
       "</div>"
      ],
      "text/plain": [
       "           Neutral Face  Facial Expression\n",
       "Predict 0            38                 14\n",
       "Predict 1             2                 26"
      ]
     },
     "metadata": {},
     "output_type": "display_data"
    },
    {
     "data": {
      "text/html": [
       "<div>\n",
       "<style scoped>\n",
       "    .dataframe tbody tr th:only-of-type {\n",
       "        vertical-align: middle;\n",
       "    }\n",
       "\n",
       "    .dataframe tbody tr th {\n",
       "        vertical-align: top;\n",
       "    }\n",
       "\n",
       "    .dataframe thead th {\n",
       "        text-align: right;\n",
       "    }\n",
       "</style>\n",
       "<table border=\"1\" class=\"dataframe\">\n",
       "  <thead>\n",
       "    <tr style=\"text-align: right;\">\n",
       "      <th></th>\n",
       "      <th>Neutral Face</th>\n",
       "      <th>Facial Expression</th>\n",
       "    </tr>\n",
       "  </thead>\n",
       "  <tbody>\n",
       "    <tr>\n",
       "      <th>Precision</th>\n",
       "      <td>0.95</td>\n",
       "      <td>0.65</td>\n",
       "    </tr>\n",
       "  </tbody>\n",
       "</table>\n",
       "</div>"
      ],
      "text/plain": [
       "           Neutral Face  Facial Expression\n",
       "Precision          0.95               0.65"
      ]
     },
     "metadata": {},
     "output_type": "display_data"
    },
    {
     "name": "stdout",
     "output_type": "stream",
     "text": [
      "\n",
      "Example images\n"
     ]
    },
    {
     "data": {
      "text/plain": [
       "<matplotlib.image.AxesImage at 0x7f2849bb12e0>"
      ]
     },
     "execution_count": 57,
     "metadata": {},
     "output_type": "execute_result"
    },
    {
     "data": {
      "image/png": "[encoded data removed]",
      "text/plain": [
       "<Figure size 432x288 with 2 Axes>"
      ]
     },
     "metadata": {
      "needs_background": "light"
     },
     "output_type": "display_data"
    },
    {
     "data": {
      "image/png": "[encoded data removed]",
      "text/plain": [
       "<Figure size 432x288 with 2 Axes>"
      ]
     },
     "metadata": {
      "needs_background": "light"
     },
     "output_type": "display_data"
    }
   ],
   "source": [
    "# Test accuracy\n",
    "print(\"Test accuracy\")\n",
    "print(\"Total test accuracy: \", (nf_test_correct + fe_test_correct) / test.shape[0])\n",
    "\n",
    "test_acc_table = np.array([[nf_test_correct, fe_test_error], \n",
    "                            [nf_test_error, fe_test_correct]])\n",
    "test_acc_df = pd.DataFrame(test_acc_table, columns = ['Neutral Face','Facial Expression'])\n",
    "test_acc_df = test_acc_df.rename(index={0: 'Predict 0', 1:'Predict 1'})\n",
    "display(test_acc_df)\n",
    "\n",
    "nf_precision = nf_test_correct / nf_test.shape[0]\n",
    "fe_precision = fe_test_correct / fe_test.shape[0]\n",
    "precision_table = np.array([[nf_precision, fe_precision]])\n",
    "precision_df = pd.DataFrame(precision_table, columns = ['Neutral Face','Facial Expression'])\n",
    "precision_df = precision_df.rename(index={0:'Precision'})\n",
    "display(precision_df)\n",
    "\n",
    "## Calculate false example\n",
    "nf_test_correct_idxs_set = set(nf_test_correct_idxs)\n",
    "nf_error_idx = -1\n",
    "for i in range(nf_test.shape[0]):\n",
    "    if not i in nf_test_correct_idxs_set:\n",
    "        nf_error_idx = i\n",
    "        break\n",
    "\n",
    "fe_test_correct_idxs_set = set(fe_test_correct_idxs)\n",
    "fe_error_idx = -1\n",
    "for i in range(fe_test.shape[0]):\n",
    "    if not i in fe_test_correct_idxs_set:\n",
    "        fe_error_idx = i\n",
    "        break\n",
    "      \n",
    "print(\"\")\n",
    "print(\"Example images\")\n",
    "%matplotlib inline\n",
    "subject = 7\n",
    "fig = plt.figure()\n",
    "ax = fig.add_subplot(1, 2, 1)\n",
    "ax.set_title('True Neutral Face')\n",
    "plt.imshow(nf_test[nf_test_correct_idxs[0]].reshape((24, 21)))\n",
    "\n",
    "ax = fig.add_subplot(1, 2, 2)\n",
    "ax.set_title('False Facial Expression')\n",
    "plt.imshow(fe_test[fe_error_idx].reshape((24, 21)))\n",
    "\n",
    "fig2 = plt.figure()\n",
    "ax = fig2.add_subplot(1, 2, 1)\n",
    "ax.set_title('False Neutral Face')\n",
    "plt.imshow(nf_test[nf_error_idx].reshape((24, 21)))\n",
    "\n",
    "ax = fig2.add_subplot(1, 2, 2)\n",
    "ax.set_title('True Facial Expression')\n",
    "plt.imshow(fe_test[fe_test_correct_idxs[0]].reshape((24, 21)))"
   ]
  },
  {
   "cell_type": "markdown",
   "id": "dc18414c-974b-444d-a8ed-b8539382d621",
   "metadata": {},
   "source": [
    "### K Nearest Neighbor (with PCA)"
   ]
  },
  {
   "cell_type": "markdown",
   "id": "5085ee68-fa15-4639-9b5c-516d0434d723",
   "metadata": {},
   "source": [
    "#### K=1"
   ]
  },
  {
   "cell_type": "code",
   "execution_count": 58,
   "id": "1f06deb5-4f97-4f9a-a1ab-cfd7e6fc4cb2",
   "metadata": {},
   "outputs": [
    {
     "name": "stdout",
     "output_type": "stream",
     "text": [
      "Total train accuracy:  1.0\n",
      "CPU times: user 11.4 ms, sys: 4.29 ms, total: 15.7 ms\n",
      "Wall time: 13.3 ms\n"
     ]
    }
   ],
   "source": [
    "%%time\n",
    "# Train Evaluation\n",
    "train_predict = knn(train_data=reduced_train, train_label=train_label, target=reduced_train)\n",
    "train_correct = np.sum(train_predict==train_label)\n",
    "print(\"Total train accuracy: \", train_correct / train_label.shape[0])"
   ]
  },
  {
   "cell_type": "code",
   "execution_count": 59,
   "id": "af259371-b289-4dfb-b510-8507488b7116",
   "metadata": {},
   "outputs": [
    {
     "name": "stdout",
     "output_type": "stream",
     "text": [
      "Total test accuracy:  0.8125\n"
     ]
    },
    {
     "data": {
      "text/html": [
       "<div>\n",
       "<style scoped>\n",
       "    .dataframe tbody tr th:only-of-type {\n",
       "        vertical-align: middle;\n",
       "    }\n",
       "\n",
       "    .dataframe tbody tr th {\n",
       "        vertical-align: top;\n",
       "    }\n",
       "\n",
       "    .dataframe thead th {\n",
       "        text-align: right;\n",
       "    }\n",
       "</style>\n",
       "<table border=\"1\" class=\"dataframe\">\n",
       "  <thead>\n",
       "    <tr style=\"text-align: right;\">\n",
       "      <th></th>\n",
       "      <th>Neutral Face</th>\n",
       "      <th>Facial Expression</th>\n",
       "    </tr>\n",
       "  </thead>\n",
       "  <tbody>\n",
       "    <tr>\n",
       "      <th>Predict 0</th>\n",
       "      <td>35</td>\n",
       "      <td>10</td>\n",
       "    </tr>\n",
       "    <tr>\n",
       "      <th>Predict 1</th>\n",
       "      <td>5</td>\n",
       "      <td>30</td>\n",
       "    </tr>\n",
       "  </tbody>\n",
       "</table>\n",
       "</div>"
      ],
      "text/plain": [
       "           Neutral Face  Facial Expression\n",
       "Predict 0            35                 10\n",
       "Predict 1             5                 30"
      ]
     },
     "metadata": {},
     "output_type": "display_data"
    },
    {
     "data": {
      "text/html": [
       "<div>\n",
       "<style scoped>\n",
       "    .dataframe tbody tr th:only-of-type {\n",
       "        vertical-align: middle;\n",
       "    }\n",
       "\n",
       "    .dataframe tbody tr th {\n",
       "        vertical-align: top;\n",
       "    }\n",
       "\n",
       "    .dataframe thead th {\n",
       "        text-align: right;\n",
       "    }\n",
       "</style>\n",
       "<table border=\"1\" class=\"dataframe\">\n",
       "  <thead>\n",
       "    <tr style=\"text-align: right;\">\n",
       "      <th></th>\n",
       "      <th>Neutral Face</th>\n",
       "      <th>Facial Expression</th>\n",
       "    </tr>\n",
       "  </thead>\n",
       "  <tbody>\n",
       "    <tr>\n",
       "      <th>Precision</th>\n",
       "      <td>0.875</td>\n",
       "      <td>0.75</td>\n",
       "    </tr>\n",
       "  </tbody>\n",
       "</table>\n",
       "</div>"
      ],
      "text/plain": [
       "           Neutral Face  Facial Expression\n",
       "Precision         0.875               0.75"
      ]
     },
     "metadata": {},
     "output_type": "display_data"
    },
    {
     "name": "stdout",
     "output_type": "stream",
     "text": [
      "Example images\n",
      "CPU times: user 33.5 ms, sys: 4.01 ms, total: 37.5 ms\n",
      "Wall time: 33.9 ms\n"
     ]
    },
    {
     "data": {
      "text/plain": [
       "<matplotlib.image.AxesImage at 0x7f284bda5880>"
      ]
     },
     "execution_count": 59,
     "metadata": {},
     "output_type": "execute_result"
    },
    {
     "data": {
      "image/png": "[encoded data removed]",
      "text/plain": [
       "<Figure size 432x288 with 2 Axes>"
      ]
     },
     "metadata": {
      "needs_background": "light"
     },
     "output_type": "display_data"
    },
    {
     "data": {
      "image/png": "[encoded data removed]",
      "text/plain": [
       "<Figure size 432x288 with 2 Axes>"
      ]
     },
     "metadata": {
      "needs_background": "light"
     },
     "output_type": "display_data"
    }
   ],
   "source": [
    "%%time\n",
    "# Test Evaluation\n",
    "test_predict = knn(train_data=reduced_train, train_label=train_label, target=reduced_test)\n",
    "test_correct = np.sum(test_predict==test_label)\n",
    "print(\"Total test accuracy: \", test_correct / test_label.shape[0])\n",
    "\n",
    "\n",
    "## Create truth table\n",
    "nf_test_predict = knn(train_data=reduced_train, train_label=train_label, target=reduced_nf_test)\n",
    "nf_test_correct = np.sum(nf_test_predict==nf_test_label)\n",
    "nf_test_error = nf_test.shape[0] - nf_test_correct\n",
    "\n",
    "fe_test_predict = knn(train_data=reduced_train, train_label=train_label, target=reduced_fe_test)\n",
    "fe_test_correct = np.sum(fe_test_predict==fe_test_label)\n",
    "fe_test_error = fe_test.shape[0] - fe_test_correct\n",
    "\n",
    "test_acc_table = np.array([[nf_test_correct, fe_test_error], \n",
    "                            [nf_test_error, fe_test_correct]])\n",
    "test_acc_df = pd.DataFrame(test_acc_table, columns = ['Neutral Face','Facial Expression'])\n",
    "test_acc_df = test_acc_df.rename(index={0: 'Predict 0', 1:'Predict 1'})\n",
    "display(test_acc_df)\n",
    "\n",
    "## Calculate precision\n",
    "nf_precision = nf_test_correct / nf_test.shape[0]\n",
    "fe_precision = fe_test_correct / fe_test.shape[0]\n",
    "precision_table = np.array([[nf_precision, fe_precision]])\n",
    "precision_df = pd.DataFrame(precision_table, columns = ['Neutral Face','Facial Expression'])\n",
    "precision_df = precision_df.rename(index={0:'Precision'})\n",
    "display(precision_df)\n",
    "\n",
    "## Correct and error prediction images \n",
    "nf_correct_predict = nf_test[np.where(nf_test_predict==nf_test_label)]\n",
    "nf_error_predict = nf_test[np.where(nf_test_predict!=nf_test_label)]\n",
    "fe_correct_predict = fe_test[np.where(fe_test_predict==fe_test_label)]\n",
    "fe_error_predict = fe_test[np.where(fe_test_predict!=fe_test_label)]\n",
    "\n",
    "print(\"Example images\")\n",
    "%matplotlib inline\n",
    "subject = 7\n",
    "fig = plt.figure()\n",
    "ax = fig.add_subplot(1, 2, 1)\n",
    "ax.set_title('True Neutral Face')\n",
    "plt.imshow(nf_correct_predict[0].reshape((24, 21)))\n",
    "\n",
    "ax = fig.add_subplot(1, 2, 2)\n",
    "ax.set_title('False Facial Expression')\n",
    "plt.imshow(fe_error_predict[0].reshape((24, 21)))\n",
    "\n",
    "fig2 = plt.figure()\n",
    "ax = fig2.add_subplot(1, 2, 1)\n",
    "ax.set_title('False Neutral Face')\n",
    "plt.imshow(nf_error_predict[0].reshape((24, 21)))\n",
    "\n",
    "ax = fig2.add_subplot(1, 2, 2)\n",
    "ax.set_title('True Facial Expression')\n",
    "plt.imshow(fe_correct_predict[0].reshape((24, 21)))"
   ]
  },
  {
   "cell_type": "markdown",
   "id": "19fe7904-c2ba-4bdd-a31a-37e374a392ba",
   "metadata": {
    "toc-hr-collapsed": true
   },
   "source": [
    "#### K=3"
   ]
  },
  {
   "cell_type": "code",
   "execution_count": 60,
   "id": "194bb7b2-4d08-4d3f-b988-d16d79f08933",
   "metadata": {},
   "outputs": [
    {
     "name": "stdout",
     "output_type": "stream",
     "text": [
      "Total train accuracy:  0.828125\n",
      "CPU times: user 11.1 ms, sys: 3.39 ms, total: 14.5 ms\n",
      "Wall time: 12.4 ms\n"
     ]
    }
   ],
   "source": [
    "%%time\n",
    "# Train Evaluation\n",
    "train_predict = knn(train_data=reduced_train, train_label=train_label, target=reduced_train, k=3)\n",
    "train_correct = np.sum(train_predict==train_label)\n",
    "print(\"Total train accuracy: \", train_correct / train_label.shape[0])"
   ]
  },
  {
   "cell_type": "code",
   "execution_count": 61,
   "id": "2ac54e3b-f742-4687-a3bc-a28cfcebc5fd",
   "metadata": {},
   "outputs": [
    {
     "name": "stdout",
     "output_type": "stream",
     "text": [
      "Total test accuracy:  0.8125\n"
     ]
    },
    {
     "data": {
      "text/html": [
       "<div>\n",
       "<style scoped>\n",
       "    .dataframe tbody tr th:only-of-type {\n",
       "        vertical-align: middle;\n",
       "    }\n",
       "\n",
       "    .dataframe tbody tr th {\n",
       "        vertical-align: top;\n",
       "    }\n",
       "\n",
       "    .dataframe thead th {\n",
       "        text-align: right;\n",
       "    }\n",
       "</style>\n",
       "<table border=\"1\" class=\"dataframe\">\n",
       "  <thead>\n",
       "    <tr style=\"text-align: right;\">\n",
       "      <th></th>\n",
       "      <th>Neutral Face</th>\n",
       "      <th>Facial Expression</th>\n",
       "    </tr>\n",
       "  </thead>\n",
       "  <tbody>\n",
       "    <tr>\n",
       "      <th>Predict 0</th>\n",
       "      <td>36</td>\n",
       "      <td>11</td>\n",
       "    </tr>\n",
       "    <tr>\n",
       "      <th>Predict 1</th>\n",
       "      <td>4</td>\n",
       "      <td>29</td>\n",
       "    </tr>\n",
       "  </tbody>\n",
       "</table>\n",
       "</div>"
      ],
      "text/plain": [
       "           Neutral Face  Facial Expression\n",
       "Predict 0            36                 11\n",
       "Predict 1             4                 29"
      ]
     },
     "metadata": {},
     "output_type": "display_data"
    },
    {
     "data": {
      "text/html": [
       "<div>\n",
       "<style scoped>\n",
       "    .dataframe tbody tr th:only-of-type {\n",
       "        vertical-align: middle;\n",
       "    }\n",
       "\n",
       "    .dataframe tbody tr th {\n",
       "        vertical-align: top;\n",
       "    }\n",
       "\n",
       "    .dataframe thead th {\n",
       "        text-align: right;\n",
       "    }\n",
       "</style>\n",
       "<table border=\"1\" class=\"dataframe\">\n",
       "  <thead>\n",
       "    <tr style=\"text-align: right;\">\n",
       "      <th></th>\n",
       "      <th>Neutral Face</th>\n",
       "      <th>Facial Expression</th>\n",
       "    </tr>\n",
       "  </thead>\n",
       "  <tbody>\n",
       "    <tr>\n",
       "      <th>Precision</th>\n",
       "      <td>0.9</td>\n",
       "      <td>0.725</td>\n",
       "    </tr>\n",
       "  </tbody>\n",
       "</table>\n",
       "</div>"
      ],
      "text/plain": [
       "           Neutral Face  Facial Expression\n",
       "Precision           0.9              0.725"
      ]
     },
     "metadata": {},
     "output_type": "display_data"
    },
    {
     "name": "stdout",
     "output_type": "stream",
     "text": [
      "Example images\n",
      "CPU times: user 31.2 ms, sys: 5.47 ms, total: 36.6 ms\n",
      "Wall time: 32.2 ms\n"
     ]
    },
    {
     "data": {
      "text/plain": [
       "<matplotlib.image.AxesImage at 0x7f2849366310>"
      ]
     },
     "execution_count": 61,
     "metadata": {},
     "output_type": "execute_result"
    },
    {
     "data": {
      "image/png": "[encoded data removed]",
      "text/plain": [
       "<Figure size 432x288 with 2 Axes>"
      ]
     },
     "metadata": {
      "needs_background": "light"
     },
     "output_type": "display_data"
    },
    {
     "data": {
      "image/png": "[encoded data removed]",
      "text/plain": [
       "<Figure size 432x288 with 2 Axes>"
      ]
     },
     "metadata": {
      "needs_background": "light"
     },
     "output_type": "display_data"
    }
   ],
   "source": [
    "%%time\n",
    "# Test Evaluation\n",
    "test_predict = knn(train_data=reduced_train, train_label=train_label, target=reduced_test, k=3)\n",
    "test_correct = np.sum(test_predict==test_label)\n",
    "print(\"Total test accuracy: \", test_correct / test_label.shape[0])\n",
    "\n",
    "\n",
    "## Create truth table\n",
    "nf_test_predict = knn(train_data=reduced_train, train_label=train_label, target=reduced_nf_test, k=3)\n",
    "nf_test_correct = np.sum(nf_test_predict==nf_test_label)\n",
    "nf_test_error = nf_test.shape[0] - nf_test_correct\n",
    "\n",
    "fe_test_predict = knn(train_data=reduced_train, train_label=train_label, target=reduced_fe_test, k=3)\n",
    "fe_test_correct = np.sum(fe_test_predict==fe_test_label)\n",
    "fe_test_error = fe_test.shape[0] - fe_test_correct\n",
    "\n",
    "test_acc_table = np.array([[nf_test_correct, fe_test_error], \n",
    "                            [nf_test_error, fe_test_correct]])\n",
    "test_acc_df = pd.DataFrame(test_acc_table, columns = ['Neutral Face','Facial Expression'])\n",
    "test_acc_df = test_acc_df.rename(index={0: 'Predict 0', 1:'Predict 1'})\n",
    "display(test_acc_df)\n",
    "\n",
    "## Calculate precision\n",
    "nf_precision = nf_test_correct / nf_test.shape[0]\n",
    "fe_precision = fe_test_correct / fe_test.shape[0]\n",
    "precision_table = np.array([[nf_precision, fe_precision]])\n",
    "precision_df = pd.DataFrame(precision_table, columns = ['Neutral Face','Facial Expression'])\n",
    "precision_df = precision_df.rename(index={0:'Precision'})\n",
    "display(precision_df)\n",
    "\n",
    "## Correct and error prediction images \n",
    "nf_correct_predict = nf_test[np.where(nf_test_predict==nf_test_label)]\n",
    "nf_error_predict = nf_test[np.where(nf_test_predict!=nf_test_label)]\n",
    "fe_correct_predict = fe_test[np.where(fe_test_predict==fe_test_label)]\n",
    "fe_error_predict = fe_test[np.where(fe_test_predict!=fe_test_label)]\n",
    "\n",
    "print(\"Example images\")\n",
    "%matplotlib inline\n",
    "subject = 7\n",
    "fig = plt.figure()\n",
    "ax = fig.add_subplot(1, 2, 1)\n",
    "ax.set_title('True Neutral Face')\n",
    "plt.imshow(nf_correct_predict[0].reshape((24, 21)))\n",
    "\n",
    "ax = fig.add_subplot(1, 2, 2)\n",
    "ax.set_title('False Facial Expression')\n",
    "plt.imshow(fe_error_predict[0].reshape((24, 21)))\n",
    "\n",
    "fig2 = plt.figure()\n",
    "ax = fig2.add_subplot(1, 2, 1)\n",
    "ax.set_title('False Neutral Face')\n",
    "plt.imshow(nf_error_predict[0].reshape((24, 21)))\n",
    "\n",
    "ax = fig2.add_subplot(1, 2, 2)\n",
    "ax.set_title('True Facial Expression')\n",
    "plt.imshow(fe_correct_predict[0].reshape((24, 21)))"
   ]
  },
  {
   "cell_type": "markdown",
   "id": "3221174e-c90c-439f-94b6-95817c49c73c",
   "metadata": {},
   "source": [
    "### Kernel SVM (with PCA)"
   ]
  },
  {
   "cell_type": "code",
   "execution_count": 62,
   "id": "3a09a436-be04-4d83-9e4f-7667af6f06e2",
   "metadata": {},
   "outputs": [],
   "source": [
    "# Define neutral face with label 1\n",
    "# Define facial expression with label -1\n",
    "N, D = nf_train.shape\n",
    "nf_train_label = np.ones(N) \n",
    "N, D = nf_test.shape\n",
    "nf_test_label = np.ones(N) \n",
    "\n",
    "N, D = fe_train.shape\n",
    "fe_train_label = -1 * np.ones(N) \n",
    "N, D = fe_test.shape\n",
    "fe_test_label = -1 * np.ones(N) \n",
    "\n",
    "train = np.vstack((nf_train, fe_train))\n",
    "test = np.vstack((nf_test, fe_test))\n",
    "train_label = np.hstack((nf_train_label, fe_train_label))\n",
    "test_label = np.hstack((nf_test_label, fe_test_label))"
   ]
  },
  {
   "cell_type": "markdown",
   "id": "b13cf9d1-b9b2-48e3-8476-6838019ce662",
   "metadata": {},
   "source": [
    "#### RBF kernel"
   ]
  },
  {
   "cell_type": "code",
   "execution_count": 63,
   "id": "c6e25145-93c1-4739-b9d9-7bcf946fe221",
   "metadata": {},
   "outputs": [
    {
     "name": "stdout",
     "output_type": "stream",
     "text": [
      "Epoch 0, loss=1.518449696528019\n",
      "Epoch 50, loss=1.5862260096293022\n",
      "Epoch 100, loss=1.102561098543575\n",
      "Epoch 150, loss=0.7898106132142144\n",
      "Epoch 200, loss=0.6292975034633748\n",
      "Epoch 250, loss=0.617640597261966\n",
      "Epoch 300, loss=0.5166460192300906\n",
      "Epoch 350, loss=0.49684723880460535\n",
      "Epoch 400, loss=0.48250448902001525\n",
      "Epoch 450, loss=0.46686891813477077\n",
      "Epoch 500, loss=0.4508594541934068\n",
      "Epoch 550, loss=0.4058867634075495\n",
      "Epoch 600, loss=0.4004177460565731\n",
      "Epoch 650, loss=0.39492220580006765\n",
      "Epoch 700, loss=0.39250444049069283\n",
      "Epoch 750, loss=0.3910433366991518\n",
      "Epoch 800, loss=0.3927326616953832\n",
      "Epoch 850, loss=0.3889123615889481\n",
      "Epoch 900, loss=0.3910122128494854\n",
      "Epoch 950, loss=0.38817952428016606\n",
      "CPU times: user 8.96 s, sys: 14.5 ms, total: 8.98 s\n",
      "Wall time: 8.96 s\n"
     ]
    }
   ],
   "source": [
    "%%time\n",
    "rbf_svm_model = RBF_SVM_Model(reduced_train, train_label, sig=3, r=0.01)\n",
    "rbf_svm_model.train(epoch=1000, lr=5e-4)"
   ]
  },
  {
   "cell_type": "code",
   "execution_count": 64,
   "id": "b1103a9c-aec8-4fbb-8739-3845e0787378",
   "metadata": {},
   "outputs": [
    {
     "name": "stdout",
     "output_type": "stream",
     "text": [
      "Train accuracy:  0.8875\n"
     ]
    }
   ],
   "source": [
    "acc, predicts = rbf_svm_model.predict_acc(reduced_train, train_label)\n",
    "print(\"Train accuracy: \", acc)"
   ]
  },
  {
   "cell_type": "code",
   "execution_count": 65,
   "id": "ccba848c-3097-48ca-b5c2-b9ab882d8d72",
   "metadata": {},
   "outputs": [
    {
     "name": "stdout",
     "output_type": "stream",
     "text": [
      "Train accuracy:  0.8875\n"
     ]
    }
   ],
   "source": [
    "acc, predicts = rbf_svm_model.predict_acc(reduced_test, test_label)\n",
    "print(\"Train accuracy: \", acc)"
   ]
  },
  {
   "cell_type": "code",
   "execution_count": 66,
   "id": "ea7528e7-f988-406b-bcfb-4884739378e5",
   "metadata": {},
   "outputs": [
    {
     "name": "stdout",
     "output_type": "stream",
     "text": [
      "Epoch 0, loss=2.658619792908488\n",
      "Epoch 50, loss=1.2842553632114473\n",
      "Epoch 100, loss=0.8727251672463521\n",
      "Epoch 150, loss=0.8412658572189438\n",
      "Epoch 200, loss=0.8273872198855383\n",
      "Epoch 250, loss=0.815087841930352\n",
      "Epoch 300, loss=0.8041461473400299\n",
      "Epoch 350, loss=0.7943800193709828\n",
      "Epoch 400, loss=0.7849074007196427\n",
      "Epoch 450, loss=0.7757718748843975\n",
      "Epoch 500, loss=0.7669187800452293\n",
      "Epoch 550, loss=0.7585604943281881\n",
      "Epoch 600, loss=0.7505070372193061\n",
      "Epoch 650, loss=0.7426498468476612\n",
      "Epoch 700, loss=0.7351002202311263\n",
      "Epoch 750, loss=0.7285070876692528\n",
      "Epoch 800, loss=0.722100542124454\n",
      "Epoch 850, loss=0.7159804290153771\n",
      "Epoch 900, loss=0.7103049448191215\n",
      "Epoch 950, loss=0.7047520166288653\n",
      "CPU times: user 10.1 s, sys: 22.7 ms, total: 10.2 s\n",
      "Wall time: 10.1 s\n"
     ]
    }
   ],
   "source": [
    "%%time\n",
    "rbf_svm_model = RBF_SVM_Model(reduced_train, train_label, sig=2, r=0.01)\n",
    "rbf_svm_model.train(epoch=1000, lr=5e-5)"
   ]
  },
  {
   "cell_type": "code",
   "execution_count": 67,
   "id": "f0dba87a-76f9-4b21-a2c1-79b00eb532c5",
   "metadata": {},
   "outputs": [
    {
     "name": "stdout",
     "output_type": "stream",
     "text": [
      "Train accuracy:  0.765625\n"
     ]
    }
   ],
   "source": [
    "acc, predicts = rbf_svm_model.predict_acc(reduced_train, train_label)\n",
    "print(\"Train accuracy: \", acc)"
   ]
  },
  {
   "cell_type": "code",
   "execution_count": 68,
   "id": "15392ac9-35de-4a01-9872-05a54254fa06",
   "metadata": {},
   "outputs": [
    {
     "name": "stdout",
     "output_type": "stream",
     "text": [
      "Train accuracy:  0.7375\n"
     ]
    }
   ],
   "source": [
    "acc, predicts = rbf_svm_model.predict_acc(reduced_test, test_label)\n",
    "print(\"Train accuracy: \", acc)"
   ]
  },
  {
   "cell_type": "markdown",
   "id": "2e7baedd-80b8-4801-bae9-7d6bd18c47ee",
   "metadata": {
    "tags": []
   },
   "source": [
    "#### Polynomial kernel"
   ]
  },
  {
   "cell_type": "code",
   "execution_count": 69,
   "id": "4481765e-9d0c-4a15-892c-5270dcf03453",
   "metadata": {},
   "outputs": [
    {
     "name": "stdout",
     "output_type": "stream",
     "text": [
      "Epoch 0, loss=18.0641277287623\n"
     ]
    },
    {
     "name": "stderr",
     "output_type": "stream",
     "text": [
      "/tmp/ipykernel_457/3592336119.py:1: ComplexWarning: Casting complex values to real discards the imaginary part\n",
      "  reduced_train = reduced_train.astype(float)\n"
     ]
    },
    {
     "name": "stdout",
     "output_type": "stream",
     "text": [
      "Epoch 50, loss=4.673090289179407\n",
      "Epoch 100, loss=3.3207544457649667\n",
      "Epoch 150, loss=2.4749769791767875\n",
      "Epoch 200, loss=1.9776007875129948\n",
      "Epoch 250, loss=1.7581573994928745\n",
      "Epoch 300, loss=1.5194992439263224\n",
      "Epoch 350, loss=1.3946353239849016\n",
      "Epoch 400, loss=1.2932567649294653\n",
      "Epoch 450, loss=1.2019703489686382\n",
      "Epoch 500, loss=1.1543584174690693\n",
      "Epoch 550, loss=1.056578646469363\n",
      "Epoch 600, loss=1.0174439714184302\n",
      "Epoch 650, loss=0.9627308710749176\n",
      "Epoch 700, loss=0.9267001767408173\n",
      "Epoch 750, loss=0.89001424079122\n",
      "Epoch 800, loss=0.8489536751300075\n",
      "Epoch 850, loss=0.8102664204594789\n",
      "Epoch 900, loss=0.7887282977434841\n",
      "Epoch 950, loss=0.7782625379713873\n"
     ]
    }
   ],
   "source": [
    "reduced_train = reduced_train.astype(float)\n",
    "poly_svm_model = Poly_SVM_Model(reduced_train, train_label, gamma=1)\n",
    "poly_svm_model.train(epoch=1000, lr=1e-5)"
   ]
  },
  {
   "cell_type": "code",
   "execution_count": 70,
   "id": "6bdf71a2-60c0-45aa-8096-78415832493d",
   "metadata": {},
   "outputs": [
    {
     "name": "stdout",
     "output_type": "stream",
     "text": [
      "Train accuracy:  0.81875\n"
     ]
    }
   ],
   "source": [
    "acc, predicts = poly_svm_model.predict_acc(reduced_train, train_label)\n",
    "print(\"Train accuracy: \", acc)"
   ]
  },
  {
   "cell_type": "code",
   "execution_count": 71,
   "id": "e73a46db-2f96-488c-92d4-d16ed92050da",
   "metadata": {},
   "outputs": [
    {
     "name": "stdout",
     "output_type": "stream",
     "text": [
      "Test accuracy:  0.8875\n"
     ]
    },
    {
     "name": "stderr",
     "output_type": "stream",
     "text": [
      "/tmp/ipykernel_457/3816246340.py:1: ComplexWarning: Casting complex values to real discards the imaginary part\n",
      "  reduced_test = reduced_test.astype(float)\n"
     ]
    }
   ],
   "source": [
    "reduced_test = reduced_test.astype(float)\n",
    "acc, predicts = poly_svm_model.predict_acc(reduced_test, test_label)\n",
    "print(\"Test accuracy: \", acc)"
   ]
  },
  {
   "cell_type": "code",
   "execution_count": 72,
   "id": "eab8a37f-f2ae-4b68-ab92-5a7a3fed5cc6",
   "metadata": {},
   "outputs": [
    {
     "name": "stdout",
     "output_type": "stream",
     "text": [
      "Epoch 0, loss=545.5517343016332\n",
      "Epoch 50, loss=103.20558672576446\n",
      "Epoch 100, loss=53.83342986624187\n",
      "Epoch 150, loss=25.548605555720886\n",
      "Epoch 200, loss=16.599132892656897\n",
      "Epoch 250, loss=12.010881911591293\n",
      "Epoch 300, loss=10.195454135362478\n",
      "Epoch 350, loss=9.292758084113073\n",
      "Epoch 400, loss=8.766561606491006\n",
      "Epoch 450, loss=8.305488799206405\n",
      "Epoch 500, loss=8.012991032898208\n",
      "Epoch 550, loss=7.752792546676538\n",
      "Epoch 600, loss=7.506330088620466\n",
      "Epoch 650, loss=7.328847953463152\n",
      "Epoch 700, loss=7.163450076437371\n",
      "Epoch 750, loss=6.964588110504543\n",
      "Epoch 800, loss=6.830077726023591\n",
      "Epoch 850, loss=6.64620016027461\n",
      "Epoch 900, loss=6.50786253904292\n",
      "Epoch 950, loss=6.393500472605588\n"
     ]
    }
   ],
   "source": [
    "poly_svm_model = Poly_SVM_Model(reduced_train, train_label, gamma=2)\n",
    "poly_svm_model.train(epoch=1000, lr=1e-6)"
   ]
  },
  {
   "cell_type": "code",
   "execution_count": 73,
   "id": "a1fa4c7b-a46a-4f24-b210-aa3376d91990",
   "metadata": {},
   "outputs": [
    {
     "name": "stdout",
     "output_type": "stream",
     "text": [
      "Train accuracy:  0.803125\n"
     ]
    }
   ],
   "source": [
    "acc, predicts = poly_svm_model.predict_acc(reduced_train, train_label)\n",
    "print(\"Train accuracy: \", acc)"
   ]
  },
  {
   "cell_type": "code",
   "execution_count": 74,
   "id": "6eaadc84-09fd-4e47-bd77-3257c8182b2b",
   "metadata": {},
   "outputs": [
    {
     "name": "stdout",
     "output_type": "stream",
     "text": [
      "Test accuracy:  0.825\n"
     ]
    }
   ],
   "source": [
    "acc, predicts = poly_svm_model.predict_acc(reduced_test, test_label)\n",
    "print(\"Test accuracy: \", acc)"
   ]
  },
  {
   "cell_type": "code",
   "execution_count": 75,
   "id": "dcd017d4-039e-4f71-95ac-351408e137ab",
   "metadata": {},
   "outputs": [
    {
     "name": "stdout",
     "output_type": "stream",
     "text": [
      "Epoch 0, loss=2951.980602648832\n",
      "Epoch 50, loss=705.9198090268045\n",
      "Epoch 100, loss=566.2837724458666\n",
      "Epoch 150, loss=479.5505822624788\n",
      "Epoch 200, loss=421.4953264899153\n",
      "Epoch 250, loss=380.5453521738918\n",
      "Epoch 300, loss=347.38850240683684\n",
      "Epoch 350, loss=319.6867658491672\n",
      "Epoch 400, loss=301.21701645362384\n",
      "Epoch 450, loss=282.3455297925842\n",
      "Epoch 500, loss=266.9202341321883\n",
      "Epoch 550, loss=251.28151880233145\n",
      "Epoch 600, loss=238.97675046784656\n",
      "Epoch 650, loss=227.94350985667157\n",
      "Epoch 700, loss=218.54552415573698\n",
      "Epoch 750, loss=210.59320182290898\n",
      "Epoch 800, loss=202.78994280337852\n",
      "Epoch 850, loss=195.46444281910027\n",
      "Epoch 900, loss=189.7041866901107\n",
      "Epoch 950, loss=184.24937769295377\n"
     ]
    }
   ],
   "source": [
    "poly_svm_model = Poly_SVM_Model(reduced_train, train_label, gamma=3)\n",
    "poly_svm_model.train(epoch=1000, lr=1e-7)"
   ]
  },
  {
   "cell_type": "code",
   "execution_count": 76,
   "id": "a9f9c0dc-2623-4c86-b27f-b8f8f7c7003a",
   "metadata": {},
   "outputs": [
    {
     "name": "stdout",
     "output_type": "stream",
     "text": [
      "Train accuracy:  0.7875\n"
     ]
    }
   ],
   "source": [
    "acc, predicts = poly_svm_model.predict_acc(reduced_train, train_label)\n",
    "print(\"Train accuracy: \", acc)"
   ]
  },
  {
   "cell_type": "code",
   "execution_count": 77,
   "id": "736e3b24-8951-4bdd-a33a-cf2ab255b991",
   "metadata": {},
   "outputs": [
    {
     "name": "stdout",
     "output_type": "stream",
     "text": [
      "Test accuracy:  0.7375\n"
     ]
    }
   ],
   "source": [
    "acc, predicts = poly_svm_model.predict_acc(reduced_test, test_label)\n",
    "print(\"Test accuracy: \", acc)"
   ]
  },
  {
   "cell_type": "markdown",
   "id": "54c2fca2-c217-4846-a1bf-eb12dcd12f5c",
   "metadata": {},
   "source": [
    "### Boosted SVM (with PCA)"
   ]
  },
  {
   "cell_type": "code",
   "execution_count": 78,
   "id": "927f3067-f04a-4e50-86d3-a87525f1e3a1",
   "metadata": {},
   "outputs": [
    {
     "name": "stdout",
     "output_type": "stream",
     "text": [
      "Iteration:  0\n",
      "Epoch 0, loss=122.01668910853039\n",
      "Epoch 50, loss=8.689790865100147\n",
      "Epoch 100, loss=5.84480868052174\n",
      "Epoch 150, loss=4.353354270920494\n",
      "Epoch 200, loss=3.4824341919665684\n",
      "Epoch 250, loss=2.779371144367801\n",
      "Epoch 300, loss=2.151475723882934\n",
      "Epoch 350, loss=1.7122105807409909\n",
      "Epoch 400, loss=1.4111194114997407\n",
      "Epoch 450, loss=1.2084026404565429\n",
      "Epoch 500, loss=1.05560519274692\n",
      "Epoch 550, loss=0.948485029811702\n",
      "Epoch 600, loss=0.8825837940630636\n",
      "Epoch 650, loss=0.8231510854540266\n",
      "Epoch 700, loss=0.77474108717016\n",
      "Epoch 750, loss=0.7272714017126839\n",
      "Epoch 800, loss=0.6878401991999987\n",
      "Epoch 850, loss=0.6518576154280317\n",
      "Epoch 900, loss=0.6211231695120174\n",
      "Epoch 950, loss=0.5907092348948163\n",
      "weak learner acc:  0.86875\n",
      "Iteration:  1\n",
      "Epoch 0, loss=14.867598147851329\n",
      "Epoch 50, loss=4.222059752847651\n",
      "Epoch 100, loss=2.7863095910123006\n",
      "Epoch 150, loss=2.089621937200132\n",
      "Epoch 200, loss=1.7321272391539828\n",
      "Epoch 250, loss=1.5577503867406426\n",
      "Epoch 300, loss=1.4303073771206232\n",
      "Epoch 350, loss=1.299881096124232\n",
      "Epoch 400, loss=1.1854534482979697\n",
      "Epoch 450, loss=1.0800444981059678\n",
      "Epoch 500, loss=0.9856114478882588\n",
      "Epoch 550, loss=0.8969690752820482\n",
      "Epoch 600, loss=0.8558887675110816\n",
      "Epoch 650, loss=0.8110491496161385\n",
      "Epoch 700, loss=0.7715685298540571\n",
      "Epoch 750, loss=0.7745165941165865\n",
      "Epoch 800, loss=0.7608058814216015\n",
      "Epoch 850, loss=0.7518861556657173\n",
      "Epoch 900, loss=0.74867519659095\n",
      "Epoch 950, loss=0.751301996857215\n",
      "weak learner acc:  0.65\n",
      "Iteration:  2\n",
      "Epoch 0, loss=61.63576932146149\n",
      "Epoch 50, loss=1.8605039827152616\n",
      "Epoch 100, loss=1.375434446303093\n",
      "Epoch 150, loss=1.1557036297542058\n",
      "Epoch 200, loss=1.0268763495475373\n",
      "Epoch 250, loss=0.9809365961667481\n",
      "Epoch 300, loss=0.9219237815558612\n",
      "Epoch 350, loss=0.8777192494047312\n",
      "Epoch 400, loss=0.8553440940594251\n",
      "Epoch 450, loss=0.8462392553119849\n",
      "Epoch 500, loss=0.8561998100903899\n",
      "Epoch 550, loss=0.8416633810614824\n",
      "Epoch 600, loss=0.8450662219911825\n",
      "Epoch 650, loss=0.8418133516343698\n",
      "Epoch 700, loss=0.8415385599967056\n",
      "Epoch 750, loss=0.8366201462319396\n",
      "Epoch 800, loss=0.8349234212904045\n",
      "Epoch 850, loss=0.8356679589357741\n",
      "Epoch 900, loss=0.8361936737958231\n",
      "Epoch 950, loss=0.8399836139553696\n",
      "weak learner acc:  0.653125\n",
      "Iteration:  3\n",
      "Epoch 0, loss=53.99588924320013\n",
      "Epoch 50, loss=2.8448089679261948\n",
      "Epoch 100, loss=1.8821243616912302\n",
      "Epoch 150, loss=1.3867440404005857\n",
      "Epoch 200, loss=1.0580920301027639\n",
      "Epoch 250, loss=0.8948499791316765\n",
      "Epoch 300, loss=0.8167499574996429\n",
      "Epoch 350, loss=0.7688803809733779\n",
      "Epoch 400, loss=0.7668206438584312\n",
      "Epoch 450, loss=0.7627608081539111\n",
      "Epoch 500, loss=0.7647747309311373\n",
      "Epoch 550, loss=0.7724637186432473\n",
      "Epoch 600, loss=0.7936455403967193\n",
      "Epoch 650, loss=0.7914311062908729\n",
      "Epoch 700, loss=0.794472760606609\n",
      "Epoch 750, loss=0.7879422686346669\n",
      "Epoch 800, loss=0.7818715473701647\n",
      "Epoch 850, loss=0.7871933347594644\n",
      "Epoch 900, loss=0.7902878126767334\n",
      "Epoch 950, loss=0.7883461200886652\n",
      "weak learner acc:  0.66875\n",
      "Iteration:  4\n",
      "Epoch 0, loss=63.91275005566372\n",
      "Epoch 50, loss=6.393911909169903\n",
      "Epoch 100, loss=4.0538439057208\n",
      "Epoch 150, loss=3.039764157443045\n",
      "Epoch 200, loss=2.364112580657996\n",
      "Epoch 250, loss=2.0630938482612295\n",
      "Epoch 300, loss=1.8654410806312807\n",
      "Epoch 350, loss=1.6879627875426428\n",
      "Epoch 400, loss=1.5231816172079211\n",
      "Epoch 450, loss=1.360240750582919\n",
      "Epoch 500, loss=1.2323939666143624\n",
      "Epoch 550, loss=1.109063700045623\n",
      "Epoch 600, loss=1.0236502621214534\n",
      "Epoch 650, loss=0.982248083502953\n",
      "Epoch 700, loss=0.9564023826649451\n",
      "Epoch 750, loss=0.9485638770935061\n",
      "Epoch 800, loss=0.9297779866621285\n",
      "Epoch 850, loss=0.9252847931836756\n",
      "Epoch 900, loss=0.9239559315107018\n",
      "Epoch 950, loss=0.9284741531528109\n",
      "weak learner acc:  0.634375\n",
      "Iteration:  5\n",
      "Epoch 0, loss=4.738647580844848\n",
      "Epoch 50, loss=3.523226607895198\n",
      "Epoch 100, loss=2.876694584547036\n",
      "Epoch 150, loss=2.4370703902779476\n",
      "Epoch 200, loss=2.1115810343029517\n",
      "Epoch 250, loss=1.820508633956051\n",
      "Epoch 300, loss=1.5930369896915397\n",
      "Epoch 350, loss=1.4082318535792493\n",
      "Epoch 400, loss=1.2763627998237221\n",
      "Epoch 450, loss=1.1685205662873812\n",
      "Epoch 500, loss=1.1021011276501018\n",
      "Epoch 550, loss=1.052511675076261\n",
      "Epoch 600, loss=1.0119031290809408\n",
      "Epoch 650, loss=0.989449446265686\n",
      "Epoch 700, loss=0.9594044161682266\n",
      "Epoch 750, loss=0.951823391383995\n",
      "Epoch 800, loss=0.9395955984012849\n",
      "Epoch 850, loss=0.9334534889635118\n",
      "Epoch 900, loss=0.9299648895370879\n",
      "Epoch 950, loss=0.9418851828386072\n",
      "weak learner acc:  0.503125\n",
      "Iteration:  6\n",
      "Epoch 0, loss=45.832856209613766\n",
      "Epoch 50, loss=4.14839305795816\n",
      "Epoch 100, loss=2.873473769982936\n",
      "Epoch 150, loss=2.2762192915458814\n",
      "Epoch 200, loss=1.8016553215520326\n",
      "Epoch 250, loss=1.4385921762607243\n",
      "Epoch 300, loss=1.1594718007130933\n",
      "Epoch 350, loss=1.0120163126405939\n",
      "Epoch 400, loss=0.9154841249996188\n",
      "Epoch 450, loss=0.8585774375532653\n",
      "Epoch 500, loss=0.8351713484096612\n",
      "Epoch 550, loss=0.8175968923048951\n",
      "Epoch 600, loss=0.8115398769791374\n",
      "Epoch 650, loss=0.8093990497422571\n",
      "Epoch 700, loss=0.8095032097840431\n",
      "Epoch 750, loss=0.8093286638036676\n",
      "Epoch 800, loss=0.8080680078881907\n",
      "Epoch 850, loss=0.8083304058708889\n",
      "Epoch 900, loss=0.8080677885971163\n",
      "Epoch 950, loss=0.8089364673415375\n",
      "weak learner acc:  0.5375\n",
      "Iteration:  7\n",
      "Epoch 0, loss=41.84637639222073\n",
      "Epoch 50, loss=8.636425859421069\n",
      "Epoch 100, loss=5.218386222288626\n",
      "Epoch 150, loss=3.126331695807901\n",
      "Epoch 200, loss=2.5286717181445946\n",
      "Epoch 250, loss=2.0734016588912816\n",
      "Epoch 300, loss=1.7385703979556077\n",
      "Epoch 350, loss=1.5008821043950804\n",
      "Epoch 400, loss=1.3189554768001321\n",
      "Epoch 450, loss=1.1602082727720582\n",
      "Epoch 500, loss=1.0323419575864947\n",
      "Epoch 550, loss=0.9547583101936589\n",
      "Epoch 600, loss=0.9192518261444533\n",
      "Epoch 650, loss=0.881750856980025\n",
      "Epoch 700, loss=0.890458854779312\n",
      "Epoch 750, loss=0.8739494153386277\n",
      "Epoch 800, loss=0.8730985034525837\n",
      "Epoch 850, loss=0.8725714747833326\n",
      "Epoch 900, loss=0.8672756659392785\n",
      "Epoch 950, loss=0.8678288036109455\n",
      "weak learner acc:  0.48125\n",
      "Iteration:  8\n",
      "Epoch 0, loss=43.924125172543235\n",
      "Epoch 50, loss=4.601605407126744\n",
      "Epoch 100, loss=3.350479096834957\n",
      "Epoch 150, loss=2.6943141485688398\n",
      "Epoch 200, loss=2.1463897752179806\n",
      "Epoch 250, loss=1.7231958274210637\n",
      "Epoch 300, loss=1.40050415049385\n",
      "Epoch 350, loss=1.1777170340651595\n",
      "Epoch 400, loss=1.0313059892888554\n",
      "Epoch 450, loss=0.9666694116296307\n",
      "Epoch 500, loss=0.9361317235423293\n",
      "Epoch 550, loss=0.9263883904983432\n",
      "Epoch 600, loss=0.9235788835226311\n",
      "Epoch 650, loss=0.9221684688703803\n",
      "Epoch 700, loss=0.9278815501246059\n",
      "Epoch 750, loss=0.921887500337349\n",
      "Epoch 800, loss=0.9260206742008081\n",
      "Epoch 850, loss=0.9200205041787173\n",
      "Epoch 900, loss=0.9208891392789298\n",
      "Epoch 950, loss=0.9214705352620273\n",
      "weak learner acc:  0.490625\n",
      "Iteration:  9\n",
      "Epoch 0, loss=43.529652871825576\n",
      "Epoch 50, loss=3.554983107577974\n",
      "Epoch 100, loss=2.9101523677371124\n",
      "Epoch 150, loss=2.592544399370428\n",
      "Epoch 200, loss=2.320712484310815\n",
      "Epoch 250, loss=2.09854348019226\n",
      "Epoch 300, loss=1.895569073641974\n",
      "Epoch 350, loss=1.7034316471875912\n",
      "Epoch 400, loss=1.5319898698534813\n",
      "Epoch 450, loss=1.3795749799218724\n",
      "Epoch 500, loss=1.2354972303360845\n",
      "Epoch 550, loss=1.133434520608895\n",
      "Epoch 600, loss=1.0281638096611345\n",
      "Epoch 650, loss=0.9874650213877697\n",
      "Epoch 700, loss=0.9315151717567922\n",
      "Epoch 750, loss=0.9023852916429483\n",
      "Epoch 800, loss=0.889923103786949\n",
      "Epoch 850, loss=0.8918624745261761\n",
      "Epoch 900, loss=0.8886032796432008\n",
      "Epoch 950, loss=0.8862290849610401\n",
      "weak learner acc:  0.55625\n"
     ]
    }
   ],
   "source": [
    "models, model_weights = adaBoost(train_data=reduced_train, train_label=train_label, iteration=10)"
   ]
  },
  {
   "cell_type": "code",
   "execution_count": 79,
   "id": "c02a9380-aa05-4f45-8f1c-144a86dad33a",
   "metadata": {},
   "outputs": [
    {
     "name": "stdout",
     "output_type": "stream",
     "text": [
      "AdaBoost linear SVM accuracy:  0.8625\n",
      "Test accuracy:  0.825\n"
     ]
    }
   ],
   "source": [
    "acc, predicts = adaBoost_model(models, model_weights, reduced_train, train_label)\n",
    "print(\"AdaBoost linear SVM accuracy: \", acc)\n",
    "acc, predicts = adaBoost_model(models, model_weights, reduced_test, test_label)\n",
    "print(\"Test accuracy: \", acc)"
   ]
  },
  {
   "cell_type": "markdown",
   "id": "0f3c0b83-19c4-4e7d-bd32-bc48e654244b",
   "metadata": {},
   "source": [
    "## Linear discriminant analysis (LDA)"
   ]
  },
  {
   "cell_type": "code",
   "execution_count": 80,
   "id": "ac0cf706-d572-43f9-8f79-70d478948d59",
   "metadata": {},
   "outputs": [
    {
     "name": "stdout",
     "output_type": "stream",
     "text": [
      "nf mean shape:  (504,)\n",
      "nf cov shape:  (504, 504)\n",
      "fe mean shape:  (504,)\n",
      "fe cov shape:  (504, 504)\n"
     ]
    }
   ],
   "source": [
    "## ML estimate of mean and covarinace matrix\n",
    "nf_mean = np.mean(nf_train, axis=0)\n",
    "print(\"nf mean shape: \", nf_mean.shape)\n",
    "nf_cov = np.cov(nf_train.T)\n",
    "print(\"nf cov shape: \", nf_cov.shape)\n",
    "\n",
    "fe_mean = np.mean(fe_train, axis=0)\n",
    "print(\"fe mean shape: \", fe_mean.shape)\n",
    "fe_cov = np.cov(fe_train.T)\n",
    "print(\"fe cov shape: \", fe_cov.shape)"
   ]
  },
  {
   "cell_type": "code",
   "execution_count": 81,
   "id": "e366ba3b-a95b-466b-91a1-e25ca0c95bae",
   "metadata": {},
   "outputs": [
    {
     "name": "stdout",
     "output_type": "stream",
     "text": [
      "theta shape:  (504,)\n"
     ]
    }
   ],
   "source": [
    "# Prior\n",
    "nf_prior = (nf_train.shape[0]) / train.shape[0]\n",
    "fe_prior = (fe_train.shape[0]) / train.shape[0]\n",
    "\n",
    "# MDA param\n",
    "SigmaW = nf_prior * nf_cov + fe_prior * fe_cov\n",
    "theta = np.linalg.pinv(SigmaW).dot(nf_mean - fe_mean)\n",
    "print(\"theta shape: \", theta.shape)"
   ]
  },
  {
   "cell_type": "code",
   "execution_count": 82,
   "id": "1316f8cd-bbdb-4d06-8e7e-06c8754e33e6",
   "metadata": {},
   "outputs": [],
   "source": [
    "def apply_MDA(data, theta):\n",
    "    \"\"\"\n",
    "    data has shape (N, D) \n",
    "    where N is the number of data\n",
    "    and D is the dimension of feature\n",
    "    \n",
    "    theta is the projected vector\n",
    "    \"\"\"\n",
    "    projected_data = data.dot(theta.reshape((-1, 1)))\n",
    "    return projected_data"
   ]
  },
  {
   "cell_type": "code",
   "execution_count": 83,
   "id": "44b12887-18ef-4a72-9a60-91e73d381488",
   "metadata": {},
   "outputs": [
    {
     "name": "stdout",
     "output_type": "stream",
     "text": [
      "projected nf_train:  [[-34.57581605]\n",
      " [-22.19331087]\n",
      " [-26.30081353]\n",
      " [-19.94087696]\n",
      " [-26.74506741]]\n",
      "projected fe_train:  [[-112.28666095]\n",
      " [-113.57367743]\n",
      " [-110.29450143]\n",
      " [-121.36102451]\n",
      " [-103.22249626]]\n"
     ]
    }
   ],
   "source": [
    "projected_nf_train = apply_MDA(nf_train, theta=theta) \n",
    "projected_fe_train = apply_MDA(fe_train, theta=theta)\n",
    "\n",
    "print(\"projected nf_train: \", projected_nf_train[:5])\n",
    "print(\"projected fe_train: \", projected_fe_train[:5])"
   ]
  },
  {
   "cell_type": "code",
   "execution_count": 84,
   "id": "b56aa43b-2766-4504-ac12-72009c887de3",
   "metadata": {},
   "outputs": [
    {
     "data": {
      "text/plain": [
       "<matplotlib.legend.Legend at 0x7f28492f1ee0>"
      ]
     },
     "execution_count": 84,
     "metadata": {},
     "output_type": "execute_result"
    },
    {
     "data": {
      "image/png": "[encoded data removed]",
      "text/plain": [
       "<Figure size 432x288 with 1 Axes>"
      ]
     },
     "metadata": {
      "needs_background": "light"
     },
     "output_type": "display_data"
    }
   ],
   "source": [
    "%matplotlib inline\n",
    "# Visualize data after MDA\n",
    "fig, ax = plt.subplots()\n",
    "ax.set_title(\"Visualize train data after MDA\")\n",
    "projected_nf_y = np.zeros_like(projected_nf_train)\n",
    "projected_fe_y = np.zeros_like(projected_fe_train)\n",
    "ax.scatter(projected_nf_train, projected_nf_y, color='r', label='neutral face')\n",
    "ax.scatter(projected_fe_train, projected_fe_y, color='b', label='facial expression')\n",
    "ax.legend()"
   ]
  },
  {
   "cell_type": "code",
   "execution_count": 85,
   "id": "3b8b9b4e-cd5f-47c2-be03-7b63eb00e1f4",
   "metadata": {},
   "outputs": [
    {
     "name": "stdout",
     "output_type": "stream",
     "text": [
      "projected nf_train:  [[ -84.48315836]\n",
      " [  38.89231225]\n",
      " [-126.23375876]\n",
      " [-101.53921886]\n",
      " [   1.48216971]]\n",
      "projected fe_train:  [[-106.43121572]\n",
      " [ -76.35262411]\n",
      " [  14.00550854]\n",
      " [-144.58912078]\n",
      " [-171.46866019]]\n"
     ]
    }
   ],
   "source": [
    "projected_nf_test = apply_MDA(nf_test, theta=theta) \n",
    "projected_fe_test = apply_MDA(fe_test, theta=theta)\n",
    "\n",
    "print(\"projected nf_train: \", projected_nf_test[:5])\n",
    "print(\"projected fe_train: \", projected_fe_test[:5])"
   ]
  },
  {
   "cell_type": "code",
   "execution_count": 86,
   "id": "40027ecb-f599-41f6-990d-ec5e912b6a41",
   "metadata": {},
   "outputs": [
    {
     "data": {
      "text/plain": [
       "<matplotlib.legend.Legend at 0x7f2877e6da60>"
      ]
     },
     "execution_count": 86,
     "metadata": {},
     "output_type": "execute_result"
    },
    {
     "data": {
      "image/png": "[encoded data removed]",
      "text/plain": [
       "<Figure size 432x288 with 1 Axes>"
      ]
     },
     "metadata": {
      "needs_background": "light"
     },
     "output_type": "display_data"
    }
   ],
   "source": [
    "%matplotlib inline\n",
    "# Visualize data after MDA\n",
    "fig, ax = plt.subplots()\n",
    "ax.set_title(\"Visualize test data after MDA\")\n",
    "projected_nf_y = np.zeros_like(projected_nf_test)\n",
    "projected_fe_y = np.zeros_like(projected_fe_test)\n",
    "ax.scatter(projected_nf_test, projected_nf_y, color='r', label='neutral face')\n",
    "ax.scatter(projected_fe_test, projected_fe_y, color='b', label='facial expression')\n",
    "ax.legend()"
   ]
  },
  {
   "cell_type": "markdown",
   "id": "a2c44f51-5485-4ac0-95c7-23f6b82603d6",
   "metadata": {},
   "source": [
    "### Bayesian Classifier (with LDA)"
   ]
  },
  {
   "cell_type": "code",
   "execution_count": 87,
   "id": "d8f784d5-4444-42a6-b412-ea2337a61437",
   "metadata": {},
   "outputs": [],
   "source": [
    "# train data and labels\n",
    "N, D = projected_nf_train.shape\n",
    "nf_train_label = np.zeros(N) \n",
    "N, D = projected_nf_test.shape\n",
    "nf_test_label = np.zeros(N) \n",
    "\n",
    "N, D = projected_fe_train.shape\n",
    "fe_train_label = np.ones(N) \n",
    "N, D = projected_fe_test.shape\n",
    "fe_test_label = np.ones(N) \n",
    "\n",
    "projected_train = np.vstack((projected_nf_train, projected_fe_train))\n",
    "projected_test = np.vstack((projected_nf_test, projected_fe_test))\n",
    "train_label = np.hstack((nf_train_label, fe_train_label))\n",
    "test_label = np.hstack((nf_test_label, fe_test_label))"
   ]
  },
  {
   "cell_type": "code",
   "execution_count": 88,
   "id": "55cde023-600b-4961-a0ea-861c7235e29b",
   "metadata": {},
   "outputs": [
    {
     "name": "stdout",
     "output_type": "stream",
     "text": [
      "projected nf mean:  [-30.46550335]\n",
      "projected nf var:  80.69519463138138\n",
      "reduced fe mean:  [-111.1440897]\n",
      "reduced fe var:  79.6534957320891\n"
     ]
    }
   ],
   "source": [
    "## ML estimate of mean and covarinace matrix\n",
    "projected_nf_mean = np.mean(projected_nf_train, axis=0)\n",
    "print(\"projected nf mean: \", projected_nf_mean)\n",
    "projected_nf_var = np.var(projected_nf_train.flatten())\n",
    "print(\"projected nf var: \", projected_nf_var)\n",
    "\n",
    "projected_fe_mean = np.mean(projected_fe_train, axis=0)\n",
    "print(\"reduced fe mean: \", projected_fe_mean)\n",
    "projected_fe_var = np.var(projected_fe_train.flatten())\n",
    "print(\"reduced fe var: \", projected_fe_var)"
   ]
  },
  {
   "cell_type": "code",
   "execution_count": 89,
   "id": "469dd7fd-55cb-4e19-83c5-f481f4cfa44e",
   "metadata": {},
   "outputs": [],
   "source": [
    "from scipy.stats import norm\n",
    "\n",
    "# Likelihood (Gaussian)\n",
    "nf_ml_likelihood = lambda x: norm(projected_nf_mean, projected_nf_var).pdf(x)\n",
    "fe_ml_likelihood = lambda x: norm(projected_fe_mean, projected_fe_var).pdf(x)\n",
    "# Prior\n",
    "nf_prior = (nf_train.shape[0]) / train.shape[0]\n",
    "fe_prior = (fe_train.shape[0]) / train.shape[0]\n",
    "\n",
    "# Posterior \n",
    "nf_posterior = lambda x: nf_ml_likelihood(x) * nf_prior\n",
    "fe_posterior = lambda x: fe_ml_likelihood(x) * fe_prior"
   ]
  },
  {
   "cell_type": "code",
   "execution_count": 90,
   "id": "994f10e3-ecb5-4c98-8fe1-e5adb0a96ed6",
   "metadata": {},
   "outputs": [
    {
     "name": "stdout",
     "output_type": "stream",
     "text": [
      "CPU times: user 244 ms, sys: 12.6 ms, total: 257 ms\n",
      "Wall time: 244 ms\n"
     ]
    }
   ],
   "source": [
    "%%time\n",
    "# Train Evaluation\n",
    "nf_train_correct, nf_train_correct_idxs = bayes_classifier(projected_nf_train, 0, nf_posterior, fe_posterior)\n",
    "nf_train_error = nf_train.shape[0] - nf_train_correct\n",
    "fe_train_correct, fe_train_correct_idxs = bayes_classifier(projected_fe_train, 1, nf_posterior, fe_posterior)\n",
    "fe_train_error = fe_train.shape[0] - fe_train_correct"
   ]
  },
  {
   "cell_type": "code",
   "execution_count": 91,
   "id": "d8244981-b32a-4fa1-af2b-d2e6cd54d51f",
   "metadata": {},
   "outputs": [
    {
     "name": "stdout",
     "output_type": "stream",
     "text": [
      "CPU times: user 65.4 ms, sys: 0 ns, total: 65.4 ms\n",
      "Wall time: 61.5 ms\n"
     ]
    }
   ],
   "source": [
    "%%time\n",
    "# Test Evaluation\n",
    "nf_test_correct, nf_test_correct_idxs = bayes_classifier(projected_nf_test, 0, nf_posterior, fe_posterior)\n",
    "nf_test_error = nf_test.shape[0] - nf_test_correct\n",
    "fe_test_correct, fe_test_correct_idxs = bayes_classifier(projected_fe_test, 1, nf_posterior, fe_posterior)\n",
    "fe_test_error = fe_test.shape[0] - fe_test_correct"
   ]
  },
  {
   "cell_type": "code",
   "execution_count": 92,
   "id": "f0ad827d-88d0-437a-a2bf-ae980d10a032",
   "metadata": {},
   "outputs": [
    {
     "name": "stdout",
     "output_type": "stream",
     "text": [
      "Total train accuracy:  1.0\n"
     ]
    },
    {
     "data": {
      "text/html": [
       "<div>\n",
       "<style scoped>\n",
       "    .dataframe tbody tr th:only-of-type {\n",
       "        vertical-align: middle;\n",
       "    }\n",
       "\n",
       "    .dataframe tbody tr th {\n",
       "        vertical-align: top;\n",
       "    }\n",
       "\n",
       "    .dataframe thead th {\n",
       "        text-align: right;\n",
       "    }\n",
       "</style>\n",
       "<table border=\"1\" class=\"dataframe\">\n",
       "  <thead>\n",
       "    <tr style=\"text-align: right;\">\n",
       "      <th></th>\n",
       "      <th>Neutral Face</th>\n",
       "      <th>Facial Expression</th>\n",
       "    </tr>\n",
       "  </thead>\n",
       "  <tbody>\n",
       "    <tr>\n",
       "      <th>Predict 0</th>\n",
       "      <td>160</td>\n",
       "      <td>0</td>\n",
       "    </tr>\n",
       "    <tr>\n",
       "      <th>Predict 1</th>\n",
       "      <td>0</td>\n",
       "      <td>160</td>\n",
       "    </tr>\n",
       "  </tbody>\n",
       "</table>\n",
       "</div>"
      ],
      "text/plain": [
       "           Neutral Face  Facial Expression\n",
       "Predict 0           160                  0\n",
       "Predict 1             0                160"
      ]
     },
     "metadata": {},
     "output_type": "display_data"
    },
    {
     "data": {
      "text/html": [
       "<div>\n",
       "<style scoped>\n",
       "    .dataframe tbody tr th:only-of-type {\n",
       "        vertical-align: middle;\n",
       "    }\n",
       "\n",
       "    .dataframe tbody tr th {\n",
       "        vertical-align: top;\n",
       "    }\n",
       "\n",
       "    .dataframe thead th {\n",
       "        text-align: right;\n",
       "    }\n",
       "</style>\n",
       "<table border=\"1\" class=\"dataframe\">\n",
       "  <thead>\n",
       "    <tr style=\"text-align: right;\">\n",
       "      <th></th>\n",
       "      <th>Neutral Face</th>\n",
       "      <th>Facial Expression</th>\n",
       "    </tr>\n",
       "  </thead>\n",
       "  <tbody>\n",
       "    <tr>\n",
       "      <th>Precision</th>\n",
       "      <td>1.0</td>\n",
       "      <td>1.0</td>\n",
       "    </tr>\n",
       "  </tbody>\n",
       "</table>\n",
       "</div>"
      ],
      "text/plain": [
       "           Neutral Face  Facial Expression\n",
       "Precision           1.0                1.0"
      ]
     },
     "metadata": {},
     "output_type": "display_data"
    }
   ],
   "source": [
    "# Train accuracy\n",
    "print(\"Total train accuracy: \", (nf_train_correct + fe_train_correct) / train.shape[0])\n",
    "\n",
    "## Create truth table\n",
    "train_acc_table = np.array([[nf_train_correct, fe_train_error], \n",
    "                            [nf_train_error, fe_train_correct]])\n",
    "train_acc_df = pd.DataFrame(train_acc_table, columns = ['Neutral Face','Facial Expression'])\n",
    "train_acc_df = train_acc_df.rename(index={0:'Predict 0', 1:'Predict 1'})\n",
    "display(train_acc_df)\n",
    "\n",
    "nf_precision = nf_train_correct / nf_train.shape[0]\n",
    "fe_precision = fe_train_correct / fe_train.shape[0]\n",
    "precision_table = np.array([[nf_precision, fe_precision]])\n",
    "precision_df = pd.DataFrame(precision_table, columns = ['Neutral Face','Facial Expression'])\n",
    "precision_df = precision_df.rename(index={0:'Precision'})\n",
    "display(precision_df)"
   ]
  },
  {
   "cell_type": "code",
   "execution_count": 93,
   "id": "0964b353-5a86-4a91-b149-32ff57272708",
   "metadata": {},
   "outputs": [
    {
     "name": "stdout",
     "output_type": "stream",
     "text": [
      "Total test accuracy:  0.825\n"
     ]
    },
    {
     "data": {
      "text/html": [
       "<div>\n",
       "<style scoped>\n",
       "    .dataframe tbody tr th:only-of-type {\n",
       "        vertical-align: middle;\n",
       "    }\n",
       "\n",
       "    .dataframe tbody tr th {\n",
       "        vertical-align: top;\n",
       "    }\n",
       "\n",
       "    .dataframe thead th {\n",
       "        text-align: right;\n",
       "    }\n",
       "</style>\n",
       "<table border=\"1\" class=\"dataframe\">\n",
       "  <thead>\n",
       "    <tr style=\"text-align: right;\">\n",
       "      <th></th>\n",
       "      <th>Neutral Face</th>\n",
       "      <th>Facial Expression</th>\n",
       "    </tr>\n",
       "  </thead>\n",
       "  <tbody>\n",
       "    <tr>\n",
       "      <th>Predict 0</th>\n",
       "      <td>34</td>\n",
       "      <td>8</td>\n",
       "    </tr>\n",
       "    <tr>\n",
       "      <th>Predict 1</th>\n",
       "      <td>6</td>\n",
       "      <td>32</td>\n",
       "    </tr>\n",
       "  </tbody>\n",
       "</table>\n",
       "</div>"
      ],
      "text/plain": [
       "           Neutral Face  Facial Expression\n",
       "Predict 0            34                  8\n",
       "Predict 1             6                 32"
      ]
     },
     "metadata": {},
     "output_type": "display_data"
    },
    {
     "data": {
      "text/html": [
       "<div>\n",
       "<style scoped>\n",
       "    .dataframe tbody tr th:only-of-type {\n",
       "        vertical-align: middle;\n",
       "    }\n",
       "\n",
       "    .dataframe tbody tr th {\n",
       "        vertical-align: top;\n",
       "    }\n",
       "\n",
       "    .dataframe thead th {\n",
       "        text-align: right;\n",
       "    }\n",
       "</style>\n",
       "<table border=\"1\" class=\"dataframe\">\n",
       "  <thead>\n",
       "    <tr style=\"text-align: right;\">\n",
       "      <th></th>\n",
       "      <th>Neutral Face</th>\n",
       "      <th>Facial Expression</th>\n",
       "    </tr>\n",
       "  </thead>\n",
       "  <tbody>\n",
       "    <tr>\n",
       "      <th>Precision</th>\n",
       "      <td>0.85</td>\n",
       "      <td>0.8</td>\n",
       "    </tr>\n",
       "  </tbody>\n",
       "</table>\n",
       "</div>"
      ],
      "text/plain": [
       "           Neutral Face  Facial Expression\n",
       "Precision          0.85                0.8"
      ]
     },
     "metadata": {},
     "output_type": "display_data"
    },
    {
     "name": "stdout",
     "output_type": "stream",
     "text": [
      "\n",
      "Example images\n"
     ]
    },
    {
     "data": {
      "text/plain": [
       "<matplotlib.image.AxesImage at 0x7f2877d0f0a0>"
      ]
     },
     "execution_count": 93,
     "metadata": {},
     "output_type": "execute_result"
    },
    {
     "data": {
      "image/png": "[encoded data removed]",
      "text/plain": [
       "<Figure size 432x288 with 2 Axes>"
      ]
     },
     "metadata": {
      "needs_background": "light"
     },
     "output_type": "display_data"
    },
    {
     "data": {
      "image/png": "[encoded data removed]",
      "text/plain": [
       "<Figure size 432x288 with 2 Axes>"
      ]
     },
     "metadata": {
      "needs_background": "light"
     },
     "output_type": "display_data"
    }
   ],
   "source": [
    "# Test accuracy\n",
    "print(\"Total test accuracy: \", (nf_test_correct + fe_test_correct) / test.shape[0])\n",
    "\n",
    "test_acc_table = np.array([[nf_test_correct, fe_test_error], \n",
    "                            [nf_test_error, fe_test_correct]])\n",
    "test_acc_df = pd.DataFrame(test_acc_table, columns = ['Neutral Face','Facial Expression'])\n",
    "test_acc_df = test_acc_df.rename(index={0: 'Predict 0', 1:'Predict 1'})\n",
    "display(test_acc_df)\n",
    "\n",
    "nf_precision = nf_test_correct / nf_test.shape[0]\n",
    "fe_precision = fe_test_correct / fe_test.shape[0]\n",
    "precision_table = np.array([[nf_precision, fe_precision]])\n",
    "precision_df = pd.DataFrame(precision_table, columns = ['Neutral Face','Facial Expression'])\n",
    "precision_df = precision_df.rename(index={0:'Precision'})\n",
    "display(precision_df)\n",
    "\n",
    "## Calculate false example\n",
    "nf_test_correct_idxs_set = set(nf_test_correct_idxs)\n",
    "nf_error_idx = -1\n",
    "for i in range(nf_test.shape[0]):\n",
    "    if not i in nf_test_correct_idxs_set:\n",
    "        nf_error_idx = i\n",
    "        break\n",
    "\n",
    "fe_test_correct_idxs_set = set(fe_test_correct_idxs)\n",
    "fe_error_idx = -1\n",
    "for i in range(fe_test.shape[0]):\n",
    "    if not i in fe_test_correct_idxs_set:\n",
    "        fe_error_idx = i\n",
    "        break\n",
    "      \n",
    "print(\"\")\n",
    "print(\"Example images\")\n",
    "%matplotlib inline\n",
    "subject = 7\n",
    "fig = plt.figure()\n",
    "ax = fig.add_subplot(1, 2, 1)\n",
    "ax.set_title('True Neutral Face')\n",
    "plt.imshow(nf_test[nf_test_correct_idxs[0]].reshape((24, 21)))\n",
    "\n",
    "ax = fig.add_subplot(1, 2, 2)\n",
    "ax.set_title('False Facial Expression')\n",
    "plt.imshow(fe_test[fe_error_idx].reshape((24, 21)))\n",
    "\n",
    "fig2 = plt.figure()\n",
    "ax = fig2.add_subplot(1, 2, 1)\n",
    "ax.set_title('False Neutral Face')\n",
    "plt.imshow(nf_test[nf_error_idx].reshape((24, 21)))\n",
    "\n",
    "ax = fig2.add_subplot(1, 2, 2)\n",
    "ax.set_title('True Facial Expression')\n",
    "plt.imshow(fe_test[fe_test_correct_idxs[0]].reshape((24, 21)))"
   ]
  },
  {
   "cell_type": "markdown",
   "id": "0a86dfa8-3ba4-4f45-8233-30f9190fd80d",
   "metadata": {},
   "source": [
    "### K Nearest Neighbor (with LDA)"
   ]
  },
  {
   "cell_type": "markdown",
   "id": "932c2b9f-6b73-42e4-9e55-99cd1dca61df",
   "metadata": {},
   "source": [
    "#### K=1"
   ]
  },
  {
   "cell_type": "code",
   "execution_count": 94,
   "id": "7f2c1063-b920-4d2f-932b-a87b564035fe",
   "metadata": {},
   "outputs": [
    {
     "name": "stdout",
     "output_type": "stream",
     "text": [
      "Total train accuracy:  1.0\n",
      "CPU times: user 7.86 ms, sys: 0 ns, total: 7.86 ms\n",
      "Wall time: 6.7 ms\n"
     ]
    }
   ],
   "source": [
    "%%time\n",
    "# Train Evaluation\n",
    "train_predict = knn(train_data=projected_train, train_label=train_label, target=projected_train)\n",
    "train_correct = np.sum(train_predict==train_label)\n",
    "print(\"Total train accuracy: \", train_correct / train_label.shape[0])"
   ]
  },
  {
   "cell_type": "code",
   "execution_count": 95,
   "id": "e552862c-8ef9-4fe8-ae89-2969dfc70cfe",
   "metadata": {},
   "outputs": [
    {
     "name": "stdout",
     "output_type": "stream",
     "text": [
      "Total test accuracy:  0.7875\n"
     ]
    },
    {
     "data": {
      "text/html": [
       "<div>\n",
       "<style scoped>\n",
       "    .dataframe tbody tr th:only-of-type {\n",
       "        vertical-align: middle;\n",
       "    }\n",
       "\n",
       "    .dataframe tbody tr th {\n",
       "        vertical-align: top;\n",
       "    }\n",
       "\n",
       "    .dataframe thead th {\n",
       "        text-align: right;\n",
       "    }\n",
       "</style>\n",
       "<table border=\"1\" class=\"dataframe\">\n",
       "  <thead>\n",
       "    <tr style=\"text-align: right;\">\n",
       "      <th></th>\n",
       "      <th>Neutral Face</th>\n",
       "      <th>Facial Expression</th>\n",
       "    </tr>\n",
       "  </thead>\n",
       "  <tbody>\n",
       "    <tr>\n",
       "      <th>Predict 0</th>\n",
       "      <td>31</td>\n",
       "      <td>8</td>\n",
       "    </tr>\n",
       "    <tr>\n",
       "      <th>Predict 1</th>\n",
       "      <td>9</td>\n",
       "      <td>32</td>\n",
       "    </tr>\n",
       "  </tbody>\n",
       "</table>\n",
       "</div>"
      ],
      "text/plain": [
       "           Neutral Face  Facial Expression\n",
       "Predict 0            31                  8\n",
       "Predict 1             9                 32"
      ]
     },
     "metadata": {},
     "output_type": "display_data"
    },
    {
     "data": {
      "text/html": [
       "<div>\n",
       "<style scoped>\n",
       "    .dataframe tbody tr th:only-of-type {\n",
       "        vertical-align: middle;\n",
       "    }\n",
       "\n",
       "    .dataframe tbody tr th {\n",
       "        vertical-align: top;\n",
       "    }\n",
       "\n",
       "    .dataframe thead th {\n",
       "        text-align: right;\n",
       "    }\n",
       "</style>\n",
       "<table border=\"1\" class=\"dataframe\">\n",
       "  <thead>\n",
       "    <tr style=\"text-align: right;\">\n",
       "      <th></th>\n",
       "      <th>Neutral Face</th>\n",
       "      <th>Facial Expression</th>\n",
       "    </tr>\n",
       "  </thead>\n",
       "  <tbody>\n",
       "    <tr>\n",
       "      <th>Precision</th>\n",
       "      <td>0.775</td>\n",
       "      <td>0.8</td>\n",
       "    </tr>\n",
       "  </tbody>\n",
       "</table>\n",
       "</div>"
      ],
      "text/plain": [
       "           Neutral Face  Facial Expression\n",
       "Precision         0.775                0.8"
      ]
     },
     "metadata": {},
     "output_type": "display_data"
    },
    {
     "name": "stdout",
     "output_type": "stream",
     "text": [
      "Example images\n",
      "CPU times: user 156 ms, sys: 0 ns, total: 156 ms\n",
      "Wall time: 152 ms\n"
     ]
    },
    {
     "data": {
      "text/plain": [
       "<matplotlib.image.AxesImage at 0x7f284bd67be0>"
      ]
     },
     "execution_count": 95,
     "metadata": {},
     "output_type": "execute_result"
    },
    {
     "data": {
      "image/png": "[encoded data removed]",
      "text/plain": [
       "<Figure size 432x288 with 2 Axes>"
      ]
     },
     "metadata": {
      "needs_background": "light"
     },
     "output_type": "display_data"
    },
    {
     "data": {
      "image/png": "[encoded data removed]",
      "text/plain": [
       "<Figure size 432x288 with 2 Axes>"
      ]
     },
     "metadata": {
      "needs_background": "light"
     },
     "output_type": "display_data"
    }
   ],
   "source": [
    "%%time\n",
    "# Test Evaluation\n",
    "test_predict = knn(train_data=projected_train, train_label=train_label, target=projected_test)\n",
    "test_correct = np.sum(test_predict==test_label)\n",
    "print(\"Total test accuracy: \", test_correct / test_label.shape[0])\n",
    "\n",
    "\n",
    "## Create truth table\n",
    "nf_test_predict = knn(train_data=projected_train, train_label=train_label, target=projected_nf_test)\n",
    "nf_test_correct = np.sum(nf_test_predict==nf_test_label)\n",
    "nf_test_error = nf_test.shape[0] - nf_test_correct\n",
    "\n",
    "fe_test_predict = knn(train_data=projected_train, train_label=train_label, target=projected_fe_test)\n",
    "fe_test_correct = np.sum(fe_test_predict==fe_test_label)\n",
    "fe_test_error = fe_test.shape[0] - fe_test_correct\n",
    "\n",
    "test_acc_table = np.array([[nf_test_correct, fe_test_error], \n",
    "                            [nf_test_error, fe_test_correct]])\n",
    "test_acc_df = pd.DataFrame(test_acc_table, columns = ['Neutral Face','Facial Expression'])\n",
    "test_acc_df = test_acc_df.rename(index={0: 'Predict 0', 1:'Predict 1'})\n",
    "display(test_acc_df)\n",
    "\n",
    "## Calculate precision\n",
    "nf_precision = nf_test_correct / nf_test.shape[0]\n",
    "fe_precision = fe_test_correct / fe_test.shape[0]\n",
    "precision_table = np.array([[nf_precision, fe_precision]])\n",
    "precision_df = pd.DataFrame(precision_table, columns = ['Neutral Face','Facial Expression'])\n",
    "precision_df = precision_df.rename(index={0:'Precision'})\n",
    "display(precision_df)\n",
    "\n",
    "## Correct and error prediction images \n",
    "nf_correct_predict = nf_test[np.where(nf_test_predict==nf_test_label)]\n",
    "nf_error_predict = nf_test[np.where(nf_test_predict!=nf_test_label)]\n",
    "fe_correct_predict = fe_test[np.where(fe_test_predict==fe_test_label)]\n",
    "fe_error_predict = fe_test[np.where(fe_test_predict!=fe_test_label)]\n",
    "\n",
    "print(\"Example images\")\n",
    "%matplotlib inline\n",
    "subject = 7\n",
    "fig = plt.figure()\n",
    "ax = fig.add_subplot(1, 2, 1)\n",
    "ax.set_title('True Neutral Face')\n",
    "plt.imshow(nf_correct_predict[0].reshape((24, 21)))\n",
    "\n",
    "ax = fig.add_subplot(1, 2, 2)\n",
    "ax.set_title('False Facial Expression')\n",
    "plt.imshow(fe_error_predict[0].reshape((24, 21)))\n",
    "\n",
    "fig2 = plt.figure()\n",
    "ax = fig2.add_subplot(1, 2, 1)\n",
    "ax.set_title('False Neutral Face')\n",
    "plt.imshow(nf_error_predict[0].reshape((24, 21)))\n",
    "\n",
    "ax = fig2.add_subplot(1, 2, 2)\n",
    "ax.set_title('True Facial Expression')\n",
    "plt.imshow(fe_correct_predict[0].reshape((24, 21)))"
   ]
  },
  {
   "cell_type": "markdown",
   "id": "2d1df0db-f2b2-42d3-916d-02253e7b9c47",
   "metadata": {},
   "source": [
    "#### K=3"
   ]
  },
  {
   "cell_type": "code",
   "execution_count": 96,
   "id": "3027df55-d184-4215-85c2-17337dd0d3a8",
   "metadata": {},
   "outputs": [
    {
     "name": "stdout",
     "output_type": "stream",
     "text": [
      "Total train accuracy:  1.0\n",
      "CPU times: user 8.21 ms, sys: 0 ns, total: 8.21 ms\n",
      "Wall time: 6.71 ms\n"
     ]
    }
   ],
   "source": [
    "%%time\n",
    "# Train Evaluation\n",
    "train_predict = knn(train_data=projected_train, train_label=train_label, target=projected_train, k=3)\n",
    "train_correct = np.sum(train_predict==train_label)\n",
    "print(\"Total train accuracy: \", train_correct / train_label.shape[0])"
   ]
  },
  {
   "cell_type": "code",
   "execution_count": 97,
   "id": "f4ec0dd2-fbb2-49f2-86a3-4bbf290cba30",
   "metadata": {},
   "outputs": [
    {
     "name": "stdout",
     "output_type": "stream",
     "text": [
      "Total test accuracy:  0.7875\n"
     ]
    },
    {
     "data": {
      "text/html": [
       "<div>\n",
       "<style scoped>\n",
       "    .dataframe tbody tr th:only-of-type {\n",
       "        vertical-align: middle;\n",
       "    }\n",
       "\n",
       "    .dataframe tbody tr th {\n",
       "        vertical-align: top;\n",
       "    }\n",
       "\n",
       "    .dataframe thead th {\n",
       "        text-align: right;\n",
       "    }\n",
       "</style>\n",
       "<table border=\"1\" class=\"dataframe\">\n",
       "  <thead>\n",
       "    <tr style=\"text-align: right;\">\n",
       "      <th></th>\n",
       "      <th>Neutral Face</th>\n",
       "      <th>Facial Expression</th>\n",
       "    </tr>\n",
       "  </thead>\n",
       "  <tbody>\n",
       "    <tr>\n",
       "      <th>Predict 0</th>\n",
       "      <td>31</td>\n",
       "      <td>8</td>\n",
       "    </tr>\n",
       "    <tr>\n",
       "      <th>Predict 1</th>\n",
       "      <td>9</td>\n",
       "      <td>32</td>\n",
       "    </tr>\n",
       "  </tbody>\n",
       "</table>\n",
       "</div>"
      ],
      "text/plain": [
       "           Neutral Face  Facial Expression\n",
       "Predict 0            31                  8\n",
       "Predict 1             9                 32"
      ]
     },
     "metadata": {},
     "output_type": "display_data"
    },
    {
     "data": {
      "text/html": [
       "<div>\n",
       "<style scoped>\n",
       "    .dataframe tbody tr th:only-of-type {\n",
       "        vertical-align: middle;\n",
       "    }\n",
       "\n",
       "    .dataframe tbody tr th {\n",
       "        vertical-align: top;\n",
       "    }\n",
       "\n",
       "    .dataframe thead th {\n",
       "        text-align: right;\n",
       "    }\n",
       "</style>\n",
       "<table border=\"1\" class=\"dataframe\">\n",
       "  <thead>\n",
       "    <tr style=\"text-align: right;\">\n",
       "      <th></th>\n",
       "      <th>Neutral Face</th>\n",
       "      <th>Facial Expression</th>\n",
       "    </tr>\n",
       "  </thead>\n",
       "  <tbody>\n",
       "    <tr>\n",
       "      <th>Precision</th>\n",
       "      <td>0.775</td>\n",
       "      <td>0.8</td>\n",
       "    </tr>\n",
       "  </tbody>\n",
       "</table>\n",
       "</div>"
      ],
      "text/plain": [
       "           Neutral Face  Facial Expression\n",
       "Precision         0.775                0.8"
      ]
     },
     "metadata": {},
     "output_type": "display_data"
    },
    {
     "name": "stdout",
     "output_type": "stream",
     "text": [
      "Example images\n",
      "CPU times: user 30.8 ms, sys: 2.39 ms, total: 33.2 ms\n",
      "Wall time: 29.5 ms\n"
     ]
    },
    {
     "data": {
      "text/plain": [
       "<matplotlib.image.AxesImage at 0x7f284945f400>"
      ]
     },
     "execution_count": 97,
     "metadata": {},
     "output_type": "execute_result"
    },
    {
     "data": {
      "image/png": "[encoded data removed]",
      "text/plain": [
       "<Figure size 432x288 with 2 Axes>"
      ]
     },
     "metadata": {
      "needs_background": "light"
     },
     "output_type": "display_data"
    },
    {
     "data": {
      "image/png": "[encoded data removed]",
      "text/plain": [
       "<Figure size 432x288 with 2 Axes>"
      ]
     },
     "metadata": {
      "needs_background": "light"
     },
     "output_type": "display_data"
    }
   ],
   "source": [
    "%%time\n",
    "# Test Evaluation\n",
    "test_predict = knn(train_data=projected_train, train_label=train_label, target=projected_test, k=3)\n",
    "test_correct = np.sum(test_predict==test_label)\n",
    "print(\"Total test accuracy: \", test_correct / test_label.shape[0])\n",
    "\n",
    "\n",
    "## Create truth table\n",
    "nf_test_predict = knn(train_data=projected_train, train_label=train_label, target=projected_nf_test, k=3)\n",
    "nf_test_correct = np.sum(nf_test_predict==nf_test_label)\n",
    "nf_test_error = nf_test.shape[0] - nf_test_correct\n",
    "\n",
    "fe_test_predict = knn(train_data=projected_train, train_label=train_label, target=projected_fe_test, k=3)\n",
    "fe_test_correct = np.sum(fe_test_predict==fe_test_label)\n",
    "fe_test_error = fe_test.shape[0] - fe_test_correct\n",
    "\n",
    "test_acc_table = np.array([[nf_test_correct, fe_test_error], \n",
    "                            [nf_test_error, fe_test_correct]])\n",
    "test_acc_df = pd.DataFrame(test_acc_table, columns = ['Neutral Face','Facial Expression'])\n",
    "test_acc_df = test_acc_df.rename(index={0: 'Predict 0', 1:'Predict 1'})\n",
    "display(test_acc_df)\n",
    "\n",
    "## Calculate precision\n",
    "nf_precision = nf_test_correct / nf_test.shape[0]\n",
    "fe_precision = fe_test_correct / fe_test.shape[0]\n",
    "precision_table = np.array([[nf_precision, fe_precision]])\n",
    "precision_df = pd.DataFrame(precision_table, columns = ['Neutral Face','Facial Expression'])\n",
    "precision_df = precision_df.rename(index={0:'Precision'})\n",
    "display(precision_df)\n",
    "\n",
    "## Correct and error prediction images \n",
    "nf_correct_predict = nf_test[np.where(nf_test_predict==nf_test_label)]\n",
    "nf_error_predict = nf_test[np.where(nf_test_predict!=nf_test_label)]\n",
    "fe_correct_predict = fe_test[np.where(fe_test_predict==fe_test_label)]\n",
    "fe_error_predict = fe_test[np.where(fe_test_predict!=fe_test_label)]\n",
    "\n",
    "print(\"Example images\")\n",
    "%matplotlib inline\n",
    "subject = 7\n",
    "fig = plt.figure()\n",
    "ax = fig.add_subplot(1, 2, 1)\n",
    "ax.set_title('True Neutral Face')\n",
    "plt.imshow(nf_correct_predict[0].reshape((24, 21)))\n",
    "\n",
    "ax = fig.add_subplot(1, 2, 2)\n",
    "ax.set_title('False Facial Expression')\n",
    "plt.imshow(fe_error_predict[0].reshape((24, 21)))\n",
    "\n",
    "fig2 = plt.figure()\n",
    "ax = fig2.add_subplot(1, 2, 1)\n",
    "ax.set_title('False Neutral Face')\n",
    "plt.imshow(nf_error_predict[0].reshape((24, 21)))\n",
    "\n",
    "ax = fig2.add_subplot(1, 2, 2)\n",
    "ax.set_title('True Facial Expression')\n",
    "plt.imshow(fe_correct_predict[0].reshape((24, 21)))"
   ]
  },
  {
   "cell_type": "markdown",
   "id": "4753c458-4314-48d2-8ff0-89d7326548ef",
   "metadata": {},
   "source": [
    "### Kernel SVM (with LDA)"
   ]
  },
  {
   "cell_type": "code",
   "execution_count": 98,
   "id": "451f6a96-4692-4cb5-9344-bdcafece5247",
   "metadata": {},
   "outputs": [],
   "source": [
    "# Define neutral face with label 1\n",
    "# Define facial expression with label -1\n",
    "N, D = projected_nf_train.shape\n",
    "nf_train_label = np.ones(N) \n",
    "N, D = projected_nf_test.shape\n",
    "nf_test_label = np.ones(N) \n",
    "\n",
    "N, D = projected_fe_train.shape\n",
    "fe_train_label = -1 * np.ones(N) \n",
    "N, D = projected_fe_test.shape\n",
    "fe_test_label = -1 * np.ones(N) \n",
    "\n",
    "projected_train = np.vstack((projected_nf_train, projected_fe_train))\n",
    "projected_test = np.vstack((projected_nf_test, projected_fe_test))\n",
    "train_label = np.hstack((nf_train_label, fe_train_label))\n",
    "test_label = np.hstack((nf_test_label, fe_test_label))"
   ]
  },
  {
   "cell_type": "markdown",
   "id": "8e9093b6-9298-412a-8488-827fcd1fc507",
   "metadata": {},
   "source": [
    "#### RBF kernel"
   ]
  },
  {
   "cell_type": "code",
   "execution_count": 99,
   "id": "ec2ad1e1-52e3-4020-a757-1da62a7e29f4",
   "metadata": {},
   "outputs": [
    {
     "name": "stdout",
     "output_type": "stream",
     "text": [
      "Epoch 0, loss=0.47855082310900376\n",
      "Epoch 50, loss=0.09881707280792251\n",
      "Epoch 100, loss=0.0926636629932063\n",
      "Epoch 150, loss=0.09132391085930072\n",
      "Epoch 200, loss=0.09068287278913019\n",
      "Epoch 250, loss=0.09046034477483653\n",
      "Epoch 300, loss=0.09023852200330405\n",
      "Epoch 350, loss=0.09001740434481106\n",
      "Epoch 400, loss=0.08983729010528159\n",
      "Epoch 450, loss=0.08981496816104093\n",
      "Epoch 500, loss=0.08979251716936404\n",
      "Epoch 550, loss=0.08977007178974755\n",
      "Epoch 600, loss=0.08974763202078866\n",
      "Epoch 650, loss=0.0897251978610848\n",
      "Epoch 700, loss=0.0897027693092339\n",
      "Epoch 750, loss=0.08968048122452191\n",
      "Epoch 800, loss=0.0896580638504608\n",
      "Epoch 850, loss=0.08963565208005674\n",
      "Epoch 900, loss=0.089613245911909\n",
      "Epoch 950, loss=0.08959084534461713\n",
      "CPU times: user 3.57 s, sys: 705 ms, total: 4.28 s\n",
      "Wall time: 3.71 s\n"
     ]
    }
   ],
   "source": [
    "%%time\n",
    "rbf_svm_model = RBF_SVM_Model(projected_train, train_label, sig=3, r=0.01)\n",
    "rbf_svm_model.train(epoch=1000, lr=5e-4)"
   ]
  },
  {
   "cell_type": "code",
   "execution_count": 100,
   "id": "4b91aa92-480b-43e5-99fe-3c100cae700c",
   "metadata": {},
   "outputs": [
    {
     "name": "stdout",
     "output_type": "stream",
     "text": [
      "Train accuracy:  1.0\n"
     ]
    }
   ],
   "source": [
    "acc, predicts = rbf_svm_model.predict_acc(projected_train, train_label)\n",
    "print(\"Train accuracy: \", acc)"
   ]
  },
  {
   "cell_type": "code",
   "execution_count": 101,
   "id": "554923f2-10f9-44a0-a955-4128b6315c4d",
   "metadata": {},
   "outputs": [
    {
     "name": "stdout",
     "output_type": "stream",
     "text": [
      "Train accuracy:  0.7375\n"
     ]
    }
   ],
   "source": [
    "acc, predicts = rbf_svm_model.predict_acc(projected_test, test_label)\n",
    "print(\"Train accuracy: \", acc)"
   ]
  },
  {
   "cell_type": "markdown",
   "id": "06073c6f-043e-4958-aece-1dbbe9385ca2",
   "metadata": {},
   "source": [
    "#### Polynomial kernel"
   ]
  },
  {
   "cell_type": "code",
   "execution_count": 102,
   "id": "41970e03-74b1-4e44-a6d1-eaeab237db1f",
   "metadata": {},
   "outputs": [
    {
     "name": "stdout",
     "output_type": "stream",
     "text": [
      "Epoch 0, loss=36143.73147360364\n",
      "Epoch 50, loss=29789.61073589456\n",
      "Epoch 100, loss=32203.70385249249\n",
      "Epoch 150, loss=34617.79696909043\n",
      "Epoch 200, loss=28263.676231381345\n",
      "Epoch 250, loss=30677.7693479793\n",
      "Epoch 300, loss=33091.86246457723\n",
      "Epoch 350, loss=35505.955581175134\n",
      "Epoch 400, loss=29151.83484346608\n",
      "Epoch 450, loss=31565.92796006401\n"
     ]
    }
   ],
   "source": [
    "poly_svm_model = Poly_SVM_Model(projected_train, train_label, gamma=1)\n",
    "poly_svm_model.train(epoch=500, lr=1e-5)"
   ]
  },
  {
   "cell_type": "code",
   "execution_count": 103,
   "id": "2be07ca9-201b-437c-a5cf-071cd44ecc0a",
   "metadata": {},
   "outputs": [
    {
     "name": "stdout",
     "output_type": "stream",
     "text": [
      "Train accuracy:  0.5\n"
     ]
    }
   ],
   "source": [
    "acc, predicts = poly_svm_model.predict_acc(projected_train, train_label)\n",
    "print(\"Train accuracy: \", acc)"
   ]
  },
  {
   "cell_type": "code",
   "execution_count": 104,
   "id": "ffa4ecea-2904-4b5e-b771-38cc4b117558",
   "metadata": {},
   "outputs": [
    {
     "name": "stdout",
     "output_type": "stream",
     "text": [
      "Test accuracy:  0.575\n"
     ]
    }
   ],
   "source": [
    "acc, predicts = poly_svm_model.predict_acc(projected_test, test_label)\n",
    "print(\"Test accuracy: \", acc)"
   ]
  }
 ],
 "metadata": {
  "kernelspec": {
   "display_name": "Python 3 (ipykernel)",
   "language": "python",
   "name": "python3"
  },
  "language_info": {
   "codemirror_mode": {
    "name": "ipython",
    "version": 3
   },
   "file_extension": ".py",
   "mimetype": "text/x-python",
   "name": "python",
   "nbconvert_exporter": "python",
   "pygments_lexer": "ipython3",
   "version": "3.8.10"
  },
  "toc-autonumbering": false,
  "toc-showcode": false
 },
 "nbformat": 4,
 "nbformat_minor": 5
}
